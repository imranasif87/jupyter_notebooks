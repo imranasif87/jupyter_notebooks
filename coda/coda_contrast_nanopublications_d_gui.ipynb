{
 "cells": [
  {
   "cell_type": "markdown",
   "metadata": {},
   "source": [
    "# Using Nanopublications to Detect and Explain Contradictory Research Claims\n",
    "\n",
    "Imran Asif ([ORCID:0000-0002-1144-6265](https://orcid.org/0000-0002-1144-6265))  \n",
    "PhD Student, Computer Science\n",
    "\n",
    "_Heriot-Watt University, Edinburgh, UK_"
   ]
  },
  {
   "cell_type": "code",
   "execution_count": 1,
   "metadata": {},
   "outputs": [],
   "source": [
    "import ipywidgets as widgets\n",
    "from SPARQLWrapper import SPARQLWrapper, JSON\n",
    "import time\n",
    "import seaborn as sns\n",
    "# import pandas\n",
    "import pandas as pd\n",
    "# import matplotlib\n",
    "import matplotlib.pyplot as plt\n",
    "\n",
    "from IPython.display import display\n",
    "from IPython.display import clear_output\n",
    "from IPython.core.display import HTML\n",
    "from IPython.display import Javascript\n",
    "import urllib.parse\n",
    "import statistics\n",
    "\n",
    "import requests\n",
    "from datetime import datetime\n",
    "import json\n",
    "from scipy import stats"
   ]
  },
  {
   "cell_type": "markdown",
   "metadata": {},
   "source": [
    "### You need to give the SPARQL endpoint to run the script"
   ]
  },
  {
   "cell_type": "code",
   "execution_count": 2,
   "metadata": {},
   "outputs": [],
   "source": [
    "SPARQL_endpoint = \"http://localhost:3030/nanopubs_d_16_12_2020/sparql\"\n",
    "dbSparql = SPARQLWrapper(SPARQL_endpoint)\n",
    "dbSparql.setReturnFormat(JSON)\n",
    "def queryCoDa(query):\n",
    "    dbSparql.setQuery(query)\n",
    "    results = dbSparql.queryAndConvert()\n",
    "    return results"
   ]
  },
  {
   "cell_type": "markdown",
   "metadata": {},
   "source": [
    "# Define Methods to Get Assertions, Provenance and IVs"
   ]
  },
  {
   "cell_type": "code",
   "execution_count": 3,
   "metadata": {},
   "outputs": [],
   "source": [
    "def getAllAssertion():\n",
    "    #The followig query get all assertion information. Query result contains the concatenate of IVs with \",\" \n",
    "    query = \"\"\"\n",
    "    prefix np: <http://www.nanopub.org/nschema#>\n",
    "    PREFIX cc: <https://data.cooperationdatabank.org/vocab/class/>\n",
    "    PREFIX cp: <https://data.cooperationdatabank.org/vocab/prop/>\n",
    "    PREFIX cr: <https://data.cooperationdatabank.org/id/>\n",
    "    PREFIX n: <https://data.cooperationdatabank.org/coda/nanopub/>\n",
    "\n",
    "    select ?np ?obs ?a ?effectValue ?dv ?iv ?var ?sampleSize ?stdErr where {\n",
    "      graph ?h {\n",
    "        ?np a np:Nanopublication ;\n",
    "          np:hasAssertion ?a .\n",
    "      }\n",
    "      graph ?a {\n",
    "                    ?obs cp:dependentVariable ?dv ;\n",
    "                         cp:independentVariable ?iv ;\n",
    "                         cp:eSEstimate ?effectValue ;\n",
    "                         cp:effectSizeSampleSize ?sampleSize ;\n",
    "                         cp:has-stderr ?stdErr ;\n",
    "                         cp:effectSizeVariance ?var ;\n",
    "                }\n",
    "    }\"\"\"\n",
    "\n",
    "    return queryCoDa(query)\n",
    "\n",
    "###### END getAllAssertion #####\n",
    "#######################################################################################\n",
    "#Fetch IVs from the Assertion\n",
    "def getIVs():\n",
    "    query = \"\"\"\n",
    "        prefix np: <http://www.nanopub.org/nschema#>\n",
    "        PREFIX cp: <https://data.cooperationdatabank.org/vocab/prop/>\n",
    "\n",
    "        select DISTINCT ?iv where {\n",
    "          graph ?h {\n",
    "            ?np a np:Nanopublication ;\n",
    "              np:hasAssertion ?a ;\n",
    "          }\n",
    "          graph ?a {\n",
    "                        ?s cp:independentVariable ?iv .\n",
    "                    }\n",
    "        }\"\"\"\n",
    "\n",
    "    return queryCoDa(query)\n",
    "\n",
    "###### END IVs #####\n",
    "#######################################################################################\n",
    "#Get provence info by NP IRI\n",
    "def getProvenanceByNP(np):\n",
    "    query = \"\"\"\n",
    "            PREFIX np: <http://www.nanopub.org/nschema#>\n",
    "            PREFIX cc: <https://data.cooperationdatabank.org/vocab/class/>\n",
    "            PREFIX cp: <https://data.cooperationdatabank.org/vocab/prop/>\n",
    "            PREFIX cr: <https://data.cooperationdatabank.org/id/>\n",
    "            PREFIX n: <https://data.cooperationdatabank.org/coda/nanopub/>\n",
    "            PREFIX prov: <http://www.w3.org/ns/prov#>\n",
    "            PREFIX rdfs: <http://www.w3.org/2000/01/rdf-schema#>\n",
    "            PREFIX dct: <http://purl.org/dc/terms/>\n",
    "\n",
    "            SELECT distinct ?study ?oneShot ?oneShotLabel (group_concat(distinct ?gSize;separator=',')  as ?groupSize) \n",
    "             ?matching ?matchingLabel ?gameIncentive ?gameIncentiveLabel ?Experimental ?ExperimentalLabel \n",
    "             (group_concat(distinct ?numOfChoices;separator=',')  as ?numberOfChoices) ?kIndex \n",
    "             (group_concat(distinct ?mpcr;separator=',')  as ?MPCR) ?maleProportion \n",
    "             (group_concat(distinct ?yodCollection;separator=',')  as ?yearOfDataCollection)\n",
    "             (count(distinct ?creator) as ?authorCount)\n",
    "             ?doi ?date ?overallStandardDeviation\n",
    "             ?meanAge ?numberOfObservations ?overallMeanContributions ?overallMeanWithdrawal\n",
    "             ?overallN ?overallPercentageEndowmentContributed ?overallProportionCooperation\n",
    "             ?publicationStatus ?publicationStatusLabel \n",
    "             (group_concat(distinct ?replenishmentRate;separator=',') as ?replenishmentRates )\n",
    "             ?studyDilemmaType ?studyDilemmaTypeLabel\n",
    "             (group_concat(distinct ?studyPGDThreshold;separator=',') as ?studyPGDThresholds )\n",
    "             ?studyOtherDilemmaType ?ageLowerInclusive ?ageHigherInclusive\n",
    "            where {\n",
    "              graph ?h {\n",
    "                <\"\"\"+np+\"\"\"> a np:Nanopublication ;\n",
    "                      np:hasProvenance ?prov .\n",
    "              }\n",
    "              graph ?prov {\n",
    "                        ?a  prov:wasDerivedFrom ?study .\n",
    "                        OPTIONAL {?a dct:creator ?creator . }\n",
    "                        OPTIONAL {?a cp:doi ?doi .}\n",
    "                        OPTIONAL {?a dct:date ?date . }\n",
    "                        OPTIONAL {?a cp:studyOneShot ?oneShot .\n",
    "                                  ?oneShot rdfs:label ?oneShotLabel . }\n",
    "                        OPTIONAL {?a cp:studyMatchingProtocol ?matching .\n",
    "                                  ?matching  rdfs:label ?matchingLabel . }\n",
    "                        OPTIONAL {?a cp:studyGameIncentive ?gameIncentive . \n",
    "                                  ?gameIncentive  rdfs:label ?gameIncentiveLabel . }\n",
    "                        OPTIONAL {?a cp:studyExperimentalSetting ?Experimental . \n",
    "                                  ?Experimental  rdfs:label ?ExperimentalLabel . }\n",
    "                        OPTIONAL {?a cp:yearOfDataCollection ?yodCollection . }\n",
    "                        OPTIONAL {?a cp:studyNumberOfChoices ?numOfChoices .}\n",
    "                        OPTIONAL {?a cp:studyGroupSize ?gSize .}\n",
    "                        OPTIONAL { ?a cp:studyKindex ?kIndex . }\n",
    "                        OPTIONAL { ?a cp:studyMPCR ?mpcr . }\n",
    "                        OPTIONAL { ?a cp:maleProportion ?maleProportion . }\n",
    "                        \n",
    "                        OPTIONAL { ?a cp:meanAge ?meanAge . }\n",
    "                        OPTIONAL { ?a cp:numberOfObservations ?numberOfObservations . } \n",
    "                        OPTIONAL { ?a cp:overallMeanContributions ?overallMeanContributions . }\n",
    "                        OPTIONAL { ?a cp:overallMeanWithdrawal ?overallMeanWithdrawal . }\n",
    "                        OPTIONAL { ?a cp:overallN ?overallN . }\n",
    "                        OPTIONAL { ?a cp:overallPercentageEndowmentContributed ?overallPercentageEndowmentContributed . }\n",
    "                        OPTIONAL { ?a cp:overallProportionCooperation ?overallProportionCooperation . }\n",
    "                        OPTIONAL { ?a cp:overallStandardDeviation ?overallStandardDeviation . }\n",
    "                        \n",
    "                        OPTIONAL { ?a cp:publicationStatus ?publicationStatus . ?publicationStatus  rdfs:label ?publicationStatusLabel . } \n",
    "                        OPTIONAL { ?a cp:replenishmentRate ?replenishmentRate . } \n",
    "                        OPTIONAL { ?a cp:studyDilemmaType ?studyDilemmaType . ?studyDilemmaType  rdfs:label ?studyDilemmaTypeLabel . } \n",
    "                        OPTIONAL { ?a cp:studyPGDThreshold ?studyPGDThreshold . } \n",
    "                        OPTIONAL { ?a cp:studyOtherDilemmaType ?studyOtherDilemmaType . } \n",
    "    \t\t\t\t\tOPTIONAL { ?a cp:lowerInclusive ?ageLowerInclusive . }\n",
    "    \t\t\t\t\tOPTIONAL { ?a cp:higherInclusive ?ageHigherInclusive . }\n",
    "              }\n",
    "            }\n",
    "            GROUP BY ?study ?oneShot ?oneShotLabel ?matching ?matchingLabel ?gameIncentive ?gameIncentiveLabel \n",
    "                     ?Experimental ?ExperimentalLabel ?kIndex ?maleProportion ?date ?doi ?overallStandardDeviation\n",
    "                     ?meanAge ?numberOfObservations ?overallMeanContributions ?overallMeanWithdrawal\n",
    "                     ?overallN ?overallPercentageEndowmentContributed ?overallProportionCooperation\n",
    "                     ?publicationStatus ?publicationStatusLabel ?studyDilemmaType ?studyDilemmaTypeLabel\n",
    "                     ?studyOtherDilemmaType ?ageLowerInclusive ?ageHigherInclusive\"\"\"\n",
    "            \n",
    "    resultProv = queryCoDa(query)\n",
    "    return resultProv"
   ]
  },
  {
   "cell_type": "markdown",
   "metadata": {},
   "source": [
    "# Pre-Processing "
   ]
  },
  {
   "cell_type": "code",
   "execution_count": 4,
   "metadata": {},
   "outputs": [],
   "source": [
    "resultAssertion = getAllAssertion()\n",
    "resultIVs = getIVs()"
   ]
  },
  {
   "cell_type": "code",
   "execution_count": 5,
   "metadata": {},
   "outputs": [],
   "source": [
    "def getAuthorFromDOIUsingAPI(doi):\n",
    "    json = {}\n",
    "    # Making a get request\n",
    "    try:\n",
    "        #https://api.openaccessbutton.org/find?id=10.1016/j.socec.2016.04.002\n",
    "        doi_id = doi.split('.org/')[1]\n",
    "        #r = requests.get('https://api.datacite.org/dois/'+doi_id).json()\n",
    "        #author = r['data']['attributes']['creators'][0]['familyName']\n",
    "\n",
    "        r = requests.get('https://api.openaccessbutton.org/metadata?id='+doi_id).json()\n",
    "        json = r\n",
    "    except:\n",
    "        json = {}\n",
    "        #print(doi)\n",
    "            \n",
    "    return json"
   ]
  },
  {
   "cell_type": "code",
   "execution_count": 6,
   "metadata": {},
   "outputs": [],
   "source": [
    "def load_first_author_list():\n",
    "    dict_first_author = {}\n",
    "    doi_json_list = []\n",
    "    family = ''\n",
    "    doi = ''\n",
    "    with open('doi_meta_data.json') as json_file:\n",
    "        if json_file.read(2) != '':\n",
    "            json_file.seek(0)  # it may be redundant but it does not hurt\n",
    "            doi_json_list = json.load(json_file)\n",
    "\n",
    "    if len(doi_json_list) > 0:\n",
    "        for json_content in doi_json_list:\n",
    "            try:\n",
    "                doi = json_content['doi']\n",
    "                if 'family' in json_content['author'][0].keys():\n",
    "                    family = json_content['author'][0]['family']\n",
    "                else:\n",
    "                    family = json_content['author'][0]['name'].split(' ')[1]\n",
    "\n",
    "                dict_first_author[doi] = family\n",
    "            except Exception as e:\n",
    "                dict_first_author[doi] = family\n",
    "        \n",
    "    return [dict_first_author, doi_json_list]\n",
    "\n",
    "dict_first_author = load_first_author_list()[0]\n",
    "doi_json_list = load_first_author_list()[1]"
   ]
  },
  {
   "cell_type": "code",
   "execution_count": 7,
   "metadata": {},
   "outputs": [],
   "source": [
    "dicIVs = {}\n",
    "for result in resultIVs[\"results\"][\"bindings\"]:\n",
    "    splitIV = result[\"iv\"][\"value\"].split(\"/\")\n",
    "    dicIVs[splitIV[len(splitIV)-1]] = {'Batch1': 0, 'Batch2': 0, 'Batch3': 0, 'Batch4': 0, 'Batch5': 0, 'Batch6': 0, 'Batch7': 0,\n",
    "                                         'ObjBatch1': [], 'ObjBatch2': [], 'ObjBatch3': [], 'ObjBatch4': [], 'ObjBatch5': [],\n",
    "                                         'ObjBatch6': [], 'ObjBatch7': []}\n",
    "\n",
    "############################################################\n",
    "\n",
    "for result in resultAssertion[\"results\"][\"bindings\"]:\n",
    "    \n",
    "    #First Get the provence info and put into the npObj\n",
    "    # Call the meethod getProvenanceByNp\n",
    "    resProv = getProvenanceByNP(result[\"np\"][\"value\"])\n",
    "    \n",
    "    #Define/assign Provenance Variables\n",
    "    oneShot = ''\n",
    "    groupSize = ''\n",
    "    matching = ''\n",
    "    gameIncentive = ''\n",
    "    Experimental = ''\n",
    "    numberOfChoices = ''\n",
    "    kIndex = ''\n",
    "    MPCR = ''\n",
    "    maleProportion = ''\n",
    "    yearOfDataCollection = ''\n",
    "    doi = ''\n",
    "    pubYear = ''\n",
    "    authorCount = ''\n",
    "    \n",
    "    #Additional Characteristics\n",
    "    meanAge = ''\n",
    "    numberOfObservations = ''\n",
    "    overallMeanContributions = ''\n",
    "    overallMeanWithdrawal = ''\n",
    "    overallN = ''\n",
    "    overallPercentageEndowmentContributed = ''\n",
    "    overallProportionCooperation = ''\n",
    "    overallStandardDeviation = ''\n",
    "    publicationStatus = ''\n",
    "    replenishmentRate = ''\n",
    "    studyDilemmaType = ''\n",
    "    studyPGDThreshold = ''\n",
    "    studyOtherDilemmaType = ''\n",
    "    ageLowerInclusive = ''\n",
    "    ageHigherInclusive = ''\n",
    "    \n",
    "    #-----------------------------------------------------------------------------\n",
    "    \n",
    "    if('oneShot' in resProv['results']['bindings'][0].keys()):\n",
    "        oneShot = resProv['results']['bindings'][0]['oneShotLabel']['value']\n",
    "    \n",
    "    if('groupSize' in resProv['results']['bindings'][0].keys()):\n",
    "        groupSize = resProv['results']['bindings'][0]['groupSize']['value']\n",
    "    \n",
    "    if('matching' in resProv['results']['bindings'][0].keys()):\n",
    "        matching = resProv['results']['bindings'][0]['matchingLabel']['value']\n",
    "        \n",
    "    if('gameIncentive' in resProv['results']['bindings'][0].keys()):\n",
    "        gameIncentive = resProv['results']['bindings'][0]['gameIncentiveLabel']['value']\n",
    "        \n",
    "    if('Experimental' in resProv['results']['bindings'][0].keys()):\n",
    "        Experimental = resProv['results']['bindings'][0]['ExperimentalLabel']['value']\n",
    "    \n",
    "    if('numberOfChoices' in resProv['results']['bindings'][0].keys()):\n",
    "        numberOfChoices = resProv['results']['bindings'][0]['numberOfChoices']['value']\n",
    "    \n",
    "    if('kIndex' in resProv['results']['bindings'][0].keys()):\n",
    "        kIndex = resProv['results']['bindings'][0]['kIndex']['value']\n",
    "    \n",
    "    if('MPCR' in resProv['results']['bindings'][0].keys()):\n",
    "        MPCR = resProv['results']['bindings'][0]['MPCR']['value']\n",
    "    \n",
    "    if('maleProportion' in resProv['results']['bindings'][0].keys()):\n",
    "        maleProportion = resProv['results']['bindings'][0]['maleProportion']['value']\n",
    "        \n",
    "    if('yearOfDataCollection' in resProv['results']['bindings'][0].keys()):\n",
    "        yearOfDataCollection = resProv['results']['bindings'][0]['yearOfDataCollection']['value']\n",
    "        \n",
    "    #----------------------------------------------------------------------------------------    \n",
    "    if('meanAge' in resProv['results']['bindings'][0].keys()):\n",
    "        meanAge = resProv['results']['bindings'][0]['meanAge']['value']\n",
    "\n",
    "    if('numberOfObservations' in resProv['results']['bindings'][0].keys()):\n",
    "        numberOfObservations = resProv['results']['bindings'][0]['numberOfObservations']['value']\n",
    "\n",
    "    if('overallMeanContributions' in resProv['results']['bindings'][0].keys()):\n",
    "        overallMeanContributions = resProv['results']['bindings'][0]['overallMeanContributions']['value']\n",
    "        \n",
    "    if('overallMeanWithdrawal' in resProv['results']['bindings'][0].keys()):\n",
    "        overallMeanWithdrawal = resProv['results']['bindings'][0]['overallMeanWithdrawal']['value']\n",
    "        \n",
    "    if('overallN' in resProv['results']['bindings'][0].keys()):\n",
    "        overallN = resProv['results']['bindings'][0]['overallN']['value']\n",
    "        \n",
    "    if('overallPercentageEndowmentContributed' in resProv['results']['bindings'][0].keys()):\n",
    "        overallPercentageEndowmentContributed = resProv['results']['bindings'][0]['overallPercentageEndowmentContributed']['value']\n",
    "        \n",
    "    if('overallProportionCooperation' in resProv['results']['bindings'][0].keys()):\n",
    "        overallProportionCooperation = resProv['results']['bindings'][0]['overallProportionCooperation']['value']\n",
    "        \n",
    "    if('overallStandardDeviation' in resProv['results']['bindings'][0].keys()):\n",
    "        overallStandardDeviation = resProv['results']['bindings'][0]['overallStandardDeviation']['value']\n",
    "        \n",
    "    if('publicationStatus' in resProv['results']['bindings'][0].keys()):\n",
    "        publicationStatus = resProv['results']['bindings'][0]['publicationStatusLabel']['value']\n",
    "        \n",
    "    if('replenishmentRates' in resProv['results']['bindings'][0].keys()):\n",
    "        replenishmentRate = resProv['results']['bindings'][0]['replenishmentRates']['value']\n",
    "        \n",
    "    if('studyDilemmaType' in resProv['results']['bindings'][0].keys()):\n",
    "        studyDilemmaType = resProv['results']['bindings'][0]['studyDilemmaTypeLabel']['value']\n",
    "        \n",
    "    if('studyPGDThresholds' in resProv['results']['bindings'][0].keys()):\n",
    "        studyPGDThreshold = resProv['results']['bindings'][0]['studyPGDThresholds']['value']\n",
    "        \n",
    "    if('studyOtherDilemmaType' in resProv['results']['bindings'][0].keys()):\n",
    "        studyOtherDilemmaType = resProv['results']['bindings'][0]['studyOtherDilemmaType']['value']\n",
    "        \n",
    "    if('ageLowerInclusive' in resProv['results']['bindings'][0].keys()):\n",
    "        ageLowerInclusive = resProv['results']['bindings'][0]['ageLowerInclusive']['value']\n",
    "        \n",
    "    if('ageHigherInclusive' in resProv['results']['bindings'][0].keys()):\n",
    "        ageHigherInclusive = resProv['results']['bindings'][0]['ageHigherInclusive']['value']\n",
    "\n",
    "    #----------------------------------------------------------------------------------------------\n",
    "    \n",
    "    try:\n",
    "        if('date' in resProv['results']['bindings'][0].keys()):\n",
    "            strDate = resProv['results']['bindings'][0]['date']['value'].split(\":\")[0]\n",
    "            date = datetime.strptime(strDate, '%Y-%m-%d')\n",
    "            pubYear = date.year\n",
    "    except:\n",
    "        d = resProv['results']['bindings'][0]['date']['value']\n",
    "        #print(d)\n",
    "    \n",
    "    if('doi' in resProv['results']['bindings'][0].keys()):\n",
    "        authorCount = int(resProv['results']['bindings'][0]['authorCount']['value'])\n",
    "        doi = resProv['results']['bindings'][0]['doi']['value']\n",
    "                \n",
    "    npObj = {\n",
    "            'np': result[\"np\"][\"value\"],\n",
    "            'obs': result[\"obs\"][\"value\"],\n",
    "            'authorCount': authorCount,\n",
    "            'publicationYear': pubYear,\n",
    "            'doi': doi,\n",
    "            'effectValue': result[\"effectValue\"][\"value\"],\n",
    "            'dv': result[\"dv\"][\"value\"],\n",
    "            'iv': result[\"iv\"][\"value\"],\n",
    "            'var': result[\"var\"][\"value\"],\n",
    "            'sampleSize': result[\"sampleSize\"][\"value\"],\n",
    "            'stdErr': result[\"stdErr\"][\"value\"],\n",
    "            'study': resProv['results']['bindings'][0]['study']['value'],\n",
    "            'oneShot': oneShot,\n",
    "            'groupSize': groupSize,\n",
    "            'matching': matching,\n",
    "            'gameIncentive': gameIncentive,\n",
    "            'Experimental': Experimental,\n",
    "            'numberOfChoices': numberOfChoices,\n",
    "            'kIndex': kIndex,\n",
    "            'MPCR': MPCR,\n",
    "            'maleProportion': maleProportion,\n",
    "            'yearOfDataCollection': yearOfDataCollection,\n",
    "            'meanAge': meanAge,\n",
    "            'numberOfObservations': numberOfObservations,\n",
    "            'overallMeanContributions': overallMeanContributions,\n",
    "            'overallMeanWithdrawal': overallMeanWithdrawal,\n",
    "            'overallN': overallN,\n",
    "            'overallPercentageEndowmentContributed': overallPercentageEndowmentContributed,\n",
    "            'overallProportionCooperation': overallProportionCooperation,\n",
    "            'overallStandardDeviation': overallStandardDeviation,\n",
    "            'publicationStatus': publicationStatus,\n",
    "            'replenishmentRate': replenishmentRate,\n",
    "            'studyDilemmaType': studyDilemmaType,\n",
    "            'studyPGDThreshold': studyPGDThreshold,\n",
    "            'studyOtherDilemmaType': studyOtherDilemmaType,\n",
    "            'ageLowerInclusive': ageLowerInclusive,\n",
    "            'ageHigherInclusive': ageHigherInclusive\n",
    "    }\n",
    "\n",
    "    splitDOI = doi.split('doi.org/')\n",
    "    if 'http' in splitDOI[1]:\n",
    "        splitDOI = splitDOI[1].split('://')\n",
    "    \n",
    "    if len(splitDOI) > 2:\n",
    "        splitDOI = splitDOI[2]\n",
    "    \n",
    "    if splitDOI[1] not in dict_first_author.keys() and '&lt' not in doi and doi != 'http://dx.doi.org/NA':\n",
    "        #print(doi)\n",
    "        json_data = getAuthorFromDOIUsingAPI(doi)\n",
    "        dict_first_author[doi] = ''\n",
    "        if len(json_data) > 0:\n",
    "            doi_json_list.append(json_data)\n",
    "    \n",
    "\n",
    "    splitIVs = result[\"iv\"][\"value\"].split(\"/\")\n",
    "    lstIVBatches = dicIVs.get(splitIVs[len(splitIVs)-1])\n",
    "    \n",
    "    # Rounded to three decimal places.\n",
    "    if round(float(result[\"effectValue\"][\"value\"]), 3) <= -0.500:\n",
    "        lstIVBatches['Batch1'] = lstIVBatches['Batch1'] + 1\n",
    "        lstIVBatches['ObjBatch1'].append(npObj)  \n",
    "    elif round(float(result[\"effectValue\"][\"value\"]), 3) >= -0.499 and round(float(result[\"effectValue\"][\"value\"]), 3) <= -0.300:\n",
    "        lstIVBatches['Batch2'] = lstIVBatches['Batch2'] + 1\n",
    "        lstIVBatches['ObjBatch2'].append(npObj)  \n",
    "    elif round(float(result[\"effectValue\"][\"value\"]), 3) >= -0.299 and round(float(result[\"effectValue\"][\"value\"]), 3) <= -0.051:\n",
    "        lstIVBatches['Batch3'] = lstIVBatches['Batch3'] + 1\n",
    "        lstIVBatches['ObjBatch3'].append(npObj)  \n",
    "    elif round(float(result[\"effectValue\"][\"value\"]), 3) >= -0.050 and round(float(result[\"effectValue\"][\"value\"]), 3) <= 0.050:\n",
    "        lstIVBatches['Batch4'] = lstIVBatches['Batch4'] + 1\n",
    "        lstIVBatches['ObjBatch4'].append(npObj)  \n",
    "    elif round(float(result[\"effectValue\"][\"value\"]), 3) >= 0.051 and round(float(result[\"effectValue\"][\"value\"]), 3) <= 0.299:\n",
    "        lstIVBatches['Batch5'] = lstIVBatches['Batch5'] + 1\n",
    "        lstIVBatches['ObjBatch5'].append(npObj)  \n",
    "    elif round(float(result[\"effectValue\"][\"value\"]), 3) >= 0.300 and round(float(result[\"effectValue\"][\"value\"]), 3) <= 0.499:\n",
    "        lstIVBatches['Batch6'] = lstIVBatches['Batch6'] + 1\n",
    "        lstIVBatches['ObjBatch6'].append(npObj)  \n",
    "    elif round(float(result[\"effectValue\"][\"value\"]), 3) >= 0.500:\n",
    "        lstIVBatches['Batch7'] = lstIVBatches['Batch7'] + 1\n",
    "        lstIVBatches['ObjBatch7'].append(npObj)  "
   ]
  },
  {
   "cell_type": "code",
   "execution_count": 8,
   "metadata": {},
   "outputs": [],
   "source": [
    "with open('doi_meta_data.json', 'w') as json_file:\n",
    "    json.dump(doi_json_list, json_file, indent = 4)"
   ]
  },
  {
   "cell_type": "code",
   "execution_count": 9,
   "metadata": {},
   "outputs": [],
   "source": [
    "dict_first_author = load_first_author_list()[0]\n",
    "#print(len(dict_first_author))"
   ]
  },
  {
   "cell_type": "code",
   "execution_count": 10,
   "metadata": {},
   "outputs": [],
   "source": [
    "#########################################################################\n",
    "# Convert dictionary to dataframe for further processing\n",
    "dfDic = pd.DataFrame.from_dict(dicIVs, orient='index',\n",
    "                       columns=['Batch1', 'Batch2', 'Batch3', 'Batch4', 'Batch5', 'Batch6', 'Batch7', \n",
    "                                'ObjBatch1', 'ObjBatch2', 'ObjBatch3', 'ObjBatch4', 'ObjBatch5',\n",
    "                                         'ObjBatch6', 'ObjBatch7'])\n",
    "#----------------------------------------------------------------------\n",
    "# Sum the batches \n",
    "dfDic['sum'] = dfDic.apply(lambda row: row.Batch1 + row.Batch2 + row.Batch3 + row.Batch4 + row.Batch5 + row.Batch6 + row.Batch7, axis=1)\n",
    "#--------------------\n",
    "# Sort the data frame with respect to sum\n",
    "dfDic.sort_values(by=['sum'], inplace=True, ascending=False)\n",
    "df20 = dfDic.head(20)"
   ]
  },
  {
   "cell_type": "markdown",
   "metadata": {},
   "source": [
    "# Now Implement the GUI"
   ]
  },
  {
   "cell_type": "code",
   "execution_count": 11,
   "metadata": {},
   "outputs": [],
   "source": [
    "out = widgets.Output()"
   ]
  },
  {
   "cell_type": "code",
   "execution_count": 12,
   "metadata": {},
   "outputs": [],
   "source": [
    "def getTop20_OfficialIVs():\n",
    "    lstDropdown = df20.index.tolist()\n",
    "    #lstDropdown.insert(0, '-- Select All --')\n",
    "    lstDropdown.append('primingConcept')\n",
    "    lstDropdown.append('timePressure')\n",
    "    lstDropdown.append('gameIncentive')\n",
    "    lstDropdown.append('uncertaintyLevel')\n",
    "    lstDropdown.append('anonymityManipul')\n",
    "    return lstDropdown"
   ]
  },
  {
   "cell_type": "code",
   "execution_count": 13,
   "metadata": {},
   "outputs": [
    {
     "data": {
      "text/html": [
       "<style>\n",
       ".modal-content \n",
       "{\n",
       "    min-width: 900px\n",
       "}\n",
       "</style>\n",
       "\n",
       "javascript = \"\"\"\n",
       "<script type=\"text/Javascript\">\n",
       "    function showInfo(msg){\n",
       "        var iframe = \"<iframe width=\\'854\\' height=\\'480\\' src=\\'np_d_html/\"+msg+\".html\\' frameborder=\\'0\\' allowfullscreen></iframe>\"\n",
       "        require(\n",
       "            [\"base/js/dialog\"], \n",
       "            function(dialog) {\n",
       "              console.log(dialog)\n",
       "                dialog.modal({\n",
       "                    title: 'Nanopub Information',\n",
       "                    body: $.parseHTML(iframe),\n",
       "                    width: 'auto',\n",
       "                    buttons: {\n",
       "                        'Cancel': {}\n",
       "                    }\n",
       "                });\n",
       "            }\n",
       "        );\n",
       "    }\n",
       "</script>\"\"\"\n",
       "\n",
       "HTML(javascript)\n"
      ],
      "text/plain": [
       "<IPython.core.display.HTML object>"
      ]
     },
     "metadata": {},
     "output_type": "display_data"
    }
   ],
   "source": [
    "%%HTML\n",
    "<style>\n",
    ".modal-content \n",
    "{\n",
    "    min-width: 900px\n",
    "}\n",
    "</style>\n",
    "\n",
    "javascript = \"\"\"\n",
    "<script type=\"text/Javascript\">\n",
    "    function showInfo(msg){\n",
    "        var iframe = \"<iframe width=\\'854\\' height=\\'480\\' src=\\'np_d_html/\"+msg+\".html\\' frameborder=\\'0\\' allowfullscreen></iframe>\"\n",
    "        require(\n",
    "            [\"base/js/dialog\"], \n",
    "            function(dialog) {\n",
    "              console.log(dialog)\n",
    "                dialog.modal({\n",
    "                    title: 'Nanopub Information',\n",
    "                    body: $.parseHTML(iframe),\n",
    "                    width: 'auto',\n",
    "                    buttons: {\n",
    "                        'Cancel': {}\n",
    "                    }\n",
    "                });\n",
    "            }\n",
    "        );\n",
    "    }\n",
    "</script>\"\"\"\n",
    "\n",
    "HTML(javascript)"
   ]
  },
  {
   "cell_type": "code",
   "execution_count": 14,
   "metadata": {},
   "outputs": [],
   "source": [
    "def drawCatplot():\n",
    "    dicCatplot = {'IV': [], 'Batches':[], 'effectValues':[], 'stdErr': []}\n",
    "    #if dropdown.value == \"-- Select All --\":\n",
    "    display(HTML(\"<h2> catplot for all IVs</h2>\"), out)\n",
    "    for key in getTop20_OfficialIVs():\n",
    "        #if key != '-- Select All --':\n",
    "        for x in dicIVs[key].items():\n",
    "            if x[0]=='ObjBatch1':\n",
    "                for objNP in x[1]:\n",
    "                    dicCatplot['IV'].append(key)\n",
    "                    dicCatplot['Batches'].append('Large Negative Correlation')\n",
    "                    dicCatplot['effectValues'].append(float(objNP['effectValue']))\n",
    "                    dicCatplot['stdErr'].append(float(objNP['stdErr']))\n",
    "            elif x[0]=='ObjBatch2':\n",
    "                for objNP in x[1]:\n",
    "                    dicCatplot['IV'].append(key)\n",
    "                    dicCatplot['Batches'].append('Medium Negative Correlation')\n",
    "                    dicCatplot['effectValues'].append(float(objNP['effectValue']))\n",
    "                    dicCatplot['stdErr'].append(float(objNP['stdErr']))\n",
    "            elif x[0]=='ObjBatch3':\n",
    "                for objNP in x[1]:\n",
    "                    dicCatplot['IV'].append(key)\n",
    "                    dicCatplot['Batches'].append('Small Negative Correlation')\n",
    "                    dicCatplot['effectValues'].append(float(objNP['effectValue']))\n",
    "                    dicCatplot['stdErr'].append(float(objNP['stdErr']))\n",
    "            elif x[0]=='ObjBatch4':\n",
    "                for objNP in x[1]:\n",
    "                    dicCatplot['IV'].append(key)\n",
    "                    dicCatplot['Batches'].append('No Correlation')\n",
    "                    dicCatplot['effectValues'].append(float(objNP['effectValue']))\n",
    "                    dicCatplot['stdErr'].append(float(objNP['stdErr']))\n",
    "            elif x[0]=='ObjBatch5':\n",
    "                for objNP in x[1]:\n",
    "                    dicCatplot['IV'].append(key)\n",
    "                    dicCatplot['Batches'].append('Small Positive Correlation')\n",
    "                    dicCatplot['effectValues'].append(float(objNP['effectValue']))\n",
    "                    dicCatplot['stdErr'].append(float(objNP['stdErr']))\n",
    "            elif x[0]=='ObjBatch6':\n",
    "                for objNP in x[1]:\n",
    "                    dicCatplot['IV'].append(key)\n",
    "                    dicCatplot['Batches'].append('Medium Positive Correlation')\n",
    "                    dicCatplot['effectValues'].append(float(objNP['effectValue']))\n",
    "                    dicCatplot['stdErr'].append(float(objNP['stdErr']))\n",
    "            elif x[0]=='ObjBatch7':\n",
    "                for objNP in x[1]:\n",
    "                    dicCatplot['IV'].append(key)\n",
    "                    dicCatplot['Batches'].append('Large Positive Correlation')\n",
    "                    dicCatplot['effectValues'].append(float(objNP['effectValue']))\n",
    "                    dicCatplot['stdErr'].append(float(objNP['stdErr']))\n",
    "#     else:\n",
    "#         display(HTML(\"<h2> catplot about \"+ dropdown.value +\"</h2>\"))\n",
    "#         key = dropdown.value\n",
    "#         for x in dicIVs[key].items():\n",
    "#             if x[0]=='ObjBatch1':\n",
    "#                 for objNP in x[1]:\n",
    "#                     dicCatplot['IV'].append(key)\n",
    "#                     dicCatplot['Batches'].append('Large Negative Correlation')\n",
    "#                     dicCatplot['effectValues'].append(float(objNP['effectValue']))\n",
    "#                     dicCatplot['stdErr'].append(float(objNP['stdErr']))\n",
    "#             elif x[0]=='ObjBatch2':\n",
    "#                 for objNP in x[1]:\n",
    "#                     dicCatplot['IV'].append(key)\n",
    "#                     dicCatplot['Batches'].append('Medium Negative Correlation')\n",
    "#                     dicCatplot['effectValues'].append(float(objNP['effectValue']))\n",
    "#                     dicCatplot['stdErr'].append(float(objNP['stdErr']))\n",
    "#             elif x[0]=='ObjBatch3':\n",
    "#                 for objNP in x[1]:\n",
    "#                     dicCatplot['IV'].append(key)\n",
    "#                     dicCatplot['Batches'].append('Small Negative Correlation')\n",
    "#                     dicCatplot['effectValues'].append(float(objNP['effectValue']))\n",
    "#                     dicCatplot['stdErr'].append(float(objNP['stdErr']))\n",
    "#             elif x[0]=='ObjBatch4':\n",
    "#                 for objNP in x[1]:\n",
    "#                     dicCatplot['IV'].append(key)\n",
    "#                     dicCatplot['Batches'].append('No Correlation')\n",
    "#                     dicCatplot['effectValues'].append(float(objNP['effectValue']))\n",
    "#                     dicCatplot['stdErr'].append(float(objNP['stdErr']))\n",
    "#             elif x[0]=='ObjBatch5':\n",
    "#                 for objNP in x[1]:\n",
    "#                     dicCatplot['IV'].append(key)\n",
    "#                     dicCatplot['Batches'].append('Small Positive Correlation')\n",
    "#                     dicCatplot['effectValues'].append(float(objNP['effectValue']))\n",
    "#                     dicCatplot['stdErr'].append(float(objNP['stdErr']))\n",
    "#             elif x[0]=='ObjBatch6':\n",
    "#                 for objNP in x[1]:\n",
    "#                     dicCatplot['IV'].append(key)\n",
    "#                     dicCatplot['Batches'].append('Medium Positive Correlation')\n",
    "#                     dicCatplot['effectValues'].append(float(objNP['effectValue']))\n",
    "#                     dicCatplot['stdErr'].append(float(objNP['stdErr']))\n",
    "#             elif x[0]=='ObjBatch7':\n",
    "#                 for objNP in x[1]:\n",
    "#                     dicCatplot['IV'].append(key)\n",
    "#                     dicCatplot['Batches'].append('Large Positive Correlation')\n",
    "#                     dicCatplot['effectValues'].append(float(objNP['effectValue']))\n",
    "#                     dicCatplot['stdErr'].append(float(objNP['stdErr']))\n",
    "                    \n",
    "    dfCatplot = pd.DataFrame.from_dict(dicCatplot)\n",
    "    # Catplot\n",
    "    #----------------------------------------------------------------------------\n",
    "#     sns.set_context(\"poster\", font_scale = 0.85, rc={\"grid.linewidth\": 5})\n",
    "#     dfCatplot = pd.DataFrame.from_dict(dicCatplot)\n",
    "#     sns.set_context(\"poster\", font_scale = 0.7, rc={\"grid.linewidth\": 5})\n",
    "#     g = sns.catplot(x=\"effectValues\", y=\"IV\", hue=\"Batches\", data=dfCatplot, ci='sd', palette=\"Set1\", height=9, aspect=1.5)\n",
    "#     g.ax.legend(loc=2)\n",
    "#     g.set_axis_labels('effectValues (<=-1 to >=1)', 'Independent Variables')\n",
    "#     plt.show()\n",
    "    #----------------------------------------------------------------------------\n",
    "    \n",
    "    #Scatter Plot\n",
    "    #---------------------------------------------------------------------------\n",
    "    sns.set_context(\"poster\", font_scale = 0.85, rc={\"grid.linewidth\": 5})\n",
    "    fig = plt.gcf()\n",
    "    # Changing Seaborn Plot size\n",
    "    fig.set_size_inches(20, 10)\n",
    "    \n",
    "    g = sns.scatterplot(x=\"effectValues\", y=\"IV\", hue=\"Batches\", data=dfCatplot, ci='sd', palette=\"Set1\")\n",
    "    \n",
    "    plt.xlabel('effectValues (<=-1 to >=1)')\n",
    "    plt.ylabel('Independent Variables')\n",
    "    #-------------------------------------------------------------------------\n",
    "    \n",
    "    #Show plot\n",
    "    #-----------------------------------------------------\n",
    "    #fig.savefig('measureD.png', bbox_inches='tight')\n",
    "    plt.show()\n",
    "                    \n",
    "def formatContent(npObj, IV, chk, dicSelectiveIV):\n",
    "    splitNP = npObj['np'].split('/')\n",
    "    splitObs = npObj['obs'].split('/')\n",
    "    splitStudy = npObj['study'].split('/')\n",
    "    oneShot = npObj['oneShot']\n",
    "    matching = npObj['matching']\n",
    "    gameIncentive = npObj['gameIncentive']\n",
    "    Experimental = npObj['Experimental']\n",
    "    yearOfDataCollection = npObj['yearOfDataCollection'].split(',')[0]\n",
    "    authorCount = int(npObj['authorCount'])\n",
    "    publicationYear = npObj['publicationYear']\n",
    "    \n",
    "    \n",
    "    \n",
    "    # Following are the integer values\n",
    "    if npObj['numberOfChoices'] != '':\n",
    "        numberOfChoices = int(statistics.median([int(e) for e in npObj['numberOfChoices'].split(',')]))\n",
    "    else:\n",
    "        numberOfChoices = ''\n",
    "    \n",
    "    if npObj['groupSize'] != '':\n",
    "        groupSize = int(statistics.median([int(e) for e in npObj['groupSize'].split(',')]))\n",
    "    else:\n",
    "        groupSize = ''\n",
    "    #===========================================================\n",
    "    #Following are the float values\n",
    "    if npObj['kIndex'] != '':\n",
    "        kIndex = float(statistics.median([float(e) for e in npObj['kIndex'].split(',')]))\n",
    "    else:\n",
    "        kIndex = ''\n",
    "        \n",
    "    if npObj['MPCR'] != '':\n",
    "        MPCR = float(statistics.median([float(e) for e in npObj['MPCR'].split(',')]))\n",
    "    else:\n",
    "        MPCR = ''\n",
    "    \n",
    "    if npObj['maleProportion'] != '':\n",
    "        maleProportion = float(statistics.median([float(e) for e in npObj['maleProportion'].split(',')]))\n",
    "    else:\n",
    "        maleProportion = ''\n",
    "        \n",
    "    splitDOI = npObj['doi'].split('doi.org/')\n",
    "    if splitDOI[1] in dict_first_author.keys():\n",
    "        author = dict_first_author[splitDOI[1]]\n",
    "        if authorCount > 1:\n",
    "             author = author + \" et al.(\"+ str(publicationYear) +\")\"\n",
    "        else:\n",
    "            author = author + \" (\"+ str(publicationYear) +\")\"\n",
    "    else:\n",
    "        author = 'No Author'\n",
    "        \n",
    "    #Additional Provenance Characteristics\n",
    "    if npObj['meanAge'] != '':\n",
    "        meanAge = float(npObj['meanAge'])\n",
    "    else:\n",
    "        meanAge = ''\n",
    "    #--------------------\n",
    "    if npObj['numberOfObservations'] != '':\n",
    "        numberOfObservations = int(npObj['numberOfObservations'])\n",
    "    else:\n",
    "        numberOfObservations = ''\n",
    "    #--------------------\n",
    "    if npObj['overallMeanContributions'] != '':\n",
    "        overallMeanContributions = float(npObj['overallMeanContributions'])\n",
    "    else:\n",
    "        overallMeanContributions = ''\n",
    "    #-------------------\n",
    "    if npObj['overallMeanWithdrawal'] != '':\n",
    "        overallMeanWithdrawal = float(npObj['overallMeanWithdrawal'])\n",
    "    else:\n",
    "        overallMeanWithdrawal = ''\n",
    "    #-----------------\n",
    "    if npObj['overallN'] != '':\n",
    "        overallN = int(npObj['overallN'])\n",
    "    else:\n",
    "        overallN = ''\n",
    "    #------------------\n",
    "    if npObj['overallPercentageEndowmentContributed'] != '':\n",
    "        overallPercentageEndowmentContributed = float(npObj['overallPercentageEndowmentContributed'])\n",
    "    else:\n",
    "        overallPercentageEndowmentContributed = ''\n",
    "    #----------------\n",
    "    if npObj['overallProportionCooperation'] != '':\n",
    "        overallProportionCooperation = float(npObj['overallProportionCooperation'])\n",
    "    else:\n",
    "        overallProportionCooperation = ''\n",
    "    #-----------------\n",
    "    if npObj['overallStandardDeviation'] != '':\n",
    "        overallStandardDeviation = float(npObj['overallStandardDeviation'])\n",
    "    else:\n",
    "        overallStandardDeviation = ''\n",
    "    #-----------------\n",
    "    publicationStatus = npObj['publicationStatus']\n",
    "    \n",
    "    if npObj['replenishmentRate'] != '':\n",
    "        replenishmentRate = float(statistics.median([float(e) for e in npObj['replenishmentRate'].split(',')]))\n",
    "    else:\n",
    "        replenishmentRate = ''\n",
    "    #--------------\n",
    "    \n",
    "    studyDilemmaType =  npObj['studyDilemmaType']\n",
    "    \n",
    "    if npObj['studyPGDThreshold'] != '':\n",
    "        studyPGDThreshold = float(statistics.median([float(e) for e in npObj['studyPGDThreshold'].split(',')]))\n",
    "    else:\n",
    "        studyPGDThreshold = ''\n",
    "    #--------------\n",
    "    studyOtherDilemmaType = npObj['studyOtherDilemmaType']\n",
    "    \n",
    "    if npObj['ageLowerInclusive'] != '':\n",
    "        ageLowerInclusive = float(npObj['ageLowerInclusive'])\n",
    "    else:\n",
    "        ageLowerInclusive = ''\n",
    "    #--------------------------\n",
    "    if npObj['ageHigherInclusive'] != '':\n",
    "        ageHigherInclusive = float(npObj['ageHigherInclusive'])\n",
    "    else:\n",
    "        ageHigherInclusive = ''\n",
    "    #--------------------------\n",
    "            \n",
    "    msg = urllib.parse.quote(splitNP[len(splitNP)-1])\n",
    "    dicSelectiveIV['nano'].append('<span style=\"cursor:pointer\" onclick=\"showInfo(\\''+str(msg)+'\\');\">'+author+'</span>')\n",
    "    dicSelectiveIV['iv'].append(IV)\n",
    "    dicSelectiveIV['obs'].append(splitObs[len(splitObs)-1])\n",
    "    dicSelectiveIV['Batches'].append(chk)\n",
    "    dicSelectiveIV['effectValues'].append(float(npObj['effectValue']))\n",
    "    dicSelectiveIV['stdErr'].append(float(npObj['stdErr']))\n",
    "    dicSelectiveIV['study'].append(splitStudy[len(splitStudy)-1])\n",
    "    dicSelectiveIV['oneShot'].append(oneShot)\n",
    "    dicSelectiveIV['groupSize'].append(str(groupSize))\n",
    "    #dicSelectiveIV['groupSizeFull'].append(npObj['groupSize'])\n",
    "    dicSelectiveIV['matching'].append(matching)\n",
    "    dicSelectiveIV['gameIncentive'].append(gameIncentive)\n",
    "    dicSelectiveIV['Experimental'].append(Experimental)\n",
    "    dicSelectiveIV['numberOfChoices'].append(str(numberOfChoices))\n",
    "    #dicSelectiveIV['numberOfChoicesFull'].append(npObj['numberOfChoices'])\n",
    "    \n",
    "    dicSelectiveIV['kIndex'].append(str(kIndex))\n",
    "    #dicSelectiveIV['kIndexFull'].append(npObj['kIndex'])\n",
    "    dicSelectiveIV['MPCR'].append(str(MPCR))\n",
    "    #dicSelectiveIV['MPCR'].append(npObj['MPCR'])\n",
    "    dicSelectiveIV['maleProportion'].append(str(maleProportion))\n",
    "    #dicSelectiveIV['maleProportion'].append(npObj['maleProportion'])\n",
    "    dicSelectiveIV['yearOfDataCollection'].append(yearOfDataCollection)\n",
    "    \n",
    "    dicSelectiveIV['meanAge'].append(meanAge)\n",
    "    dicSelectiveIV['numberOfObservations'].append(numberOfObservations)\n",
    "    dicSelectiveIV['overallMeanContributions'].append(overallMeanContributions)\n",
    "    dicSelectiveIV['overallMeanWithdrawal'].append(overallMeanWithdrawal)\n",
    "    dicSelectiveIV['overallN'].append(overallN)\n",
    "    dicSelectiveIV['overallPercentageEndowmentContributed'].append(overallPercentageEndowmentContributed)\n",
    "    dicSelectiveIV['overallProportionCooperation'].append(overallProportionCooperation)\n",
    "    dicSelectiveIV['overallStandardDeviation'].append(overallStandardDeviation)\n",
    "    dicSelectiveIV['publicationStatus'].append(publicationStatus)\n",
    "    dicSelectiveIV['replenishmentRate'].append(replenishmentRate)\n",
    "    dicSelectiveIV['studyDilemmaType'].append(studyDilemmaType)\n",
    "    dicSelectiveIV['studyPGDThreshold'].append(studyPGDThreshold)\n",
    "    dicSelectiveIV['studyOtherDilemmaType'].append(studyOtherDilemmaType)\n",
    "    dicSelectiveIV['ageLowerInclusive'].append(ageLowerInclusive)\n",
    "    dicSelectiveIV['ageHigherInclusive'].append(ageHigherInclusive)\n",
    "\n",
    "#Contradiction Summary Dictionary\n",
    "dictEvaluation = {}\n",
    "\n",
    "def findContrastNano(dicSelectiveIV, df, contrast, IV):\n",
    "    nano = dicSelectiveIV['nano']\n",
    "    lstIndices = []\n",
    "    lstIndicesCategory = []\n",
    "    lstIndicesNumeric = []\n",
    "    \n",
    "    for cntrst in contrast:\n",
    "        if cntrst == 'category':\n",
    "            categoryCharacteristicsList = ['oneShot', 'matching', 'gameIncentive', 'Experimental', 'publicationStatus', \n",
    "                                           'studyDilemmaType', 'studyOtherDilemmaType']\n",
    "            \n",
    "            if ddlCategory.value == \"Both\" or ddlCategory.value == \"Inter Batch\":\n",
    "                #This for all batches\n",
    "                for categoryElement in categoryCharacteristicsList:\n",
    "                    categoryElementValues = dicSelectiveIV[categoryElement]\n",
    "                    if len(categoryElementValues) > 1:\n",
    "                        my_dict = {i:categoryElementValues.count(i) for i in categoryElementValues}\n",
    "                        if len(my_dict) > 0:\n",
    "                            minval = min(my_dict.values())\n",
    "                            if minval == 1:\n",
    "                                minList = [k for k, v in my_dict.items() if v==minval]\n",
    "                                for ele in minList:\n",
    "                                    index = categoryElementValues.index(ele)\n",
    "                                    lstIndicesCategory.append(str(index) +','+ str(df.index.tolist().index(categoryElement)))\n",
    "                                \n",
    "            #print('Global Index List')\n",
    "            #print(lstIndicesCategory)\n",
    "            \n",
    "            if ddlCategory.value == \"Both\" or ddlCategory.value == \"Intra Batch\":\n",
    "                #Now find contradictory within batches\n",
    "                batches = ['Large Negative Correlation', 'Large Positive Correlation', 'Medium Negative Correlation',\n",
    "                          'Medium Positive Correlation', 'Small Negative Correlation', 'Small Positive Correlation',\n",
    "                          'No Correlation']\n",
    "                \n",
    "                for batchName in batches:\n",
    "                    for categoryElement in categoryCharacteristicsList:\n",
    "                        dict_values_index = { 'values':[], 'df_index':[]}\n",
    "\n",
    "                        columns = list(df)\n",
    "                        index = 0\n",
    "                        for col in columns: \n",
    "                            # printing the third element of the column \n",
    "                            if df[col]['Batches'] == batchName:\n",
    "                                dict_values_index['values'].append(df[col][categoryElement])\n",
    "                                dict_values_index['df_index'].append(index)\n",
    "\n",
    "                            index += 1\n",
    "\n",
    "                        categoryElementValues = dict_values_index['values']\n",
    "\n",
    "                        if len(categoryElementValues) > 1:\n",
    "                            my_dict = {i:categoryElementValues.count(i) for i in categoryElementValues}\n",
    "                            if len(my_dict) > 0:\n",
    "                                minval = min(my_dict.values())\n",
    "                                if minval == 1:\n",
    "                                    minList = [k for k, v in my_dict.items() if v==minval]\n",
    "                                    for ele in minList:\n",
    "                                        index = dict_values_index['values'].index(ele)\n",
    "                                        index = dict_values_index['df_index'][index]\n",
    "                                        if str(index) +','+ str(df.index.tolist().index(categoryElement)) not in lstIndicesCategory:\n",
    "                                            lstIndicesCategory.append(str(index) +','+ str(df.index.tolist().index(categoryElement)))\n",
    "\n",
    "                    \n",
    "                \n",
    "        #For numeric values calculate the z-score\n",
    "        #For now only, get z-score within clusters\n",
    "        if cntrst == 'numeric':\n",
    "            numericCharacteristicsList = ['kIndex', 'MPCR', 'maleProportion', 'meanAge', 'overallMeanContributions', \n",
    "                                          'overallMeanWithdrawal', 'overallN', 'overallPercentageEndowmentContributed', \n",
    "                                          'overallProportionCooperation', 'overallStandardDeviation', 'replenishmentRate', \n",
    "                                          'studyPGDThreshold', 'ageLowerInclusive', 'ageHigherInclusive', 'numberOfObservations',\n",
    "                                          'yearOfDataCollection', 'numberOfChoices', 'groupSize']\n",
    "            #numericCharacteristicsList = ['maleProportion']\n",
    "            \n",
    "            # For All batches\n",
    "            if ddlNumeric.value == \"Both\" or ddlNumeric.value == \"Inter Batch\":\n",
    "                for numericElement in numericCharacteristicsList:\n",
    "                    numericElementValues = dicSelectiveIV[numericElement]\n",
    "                    dict_values_index = { 'values':[], 'df_index':[]}\n",
    "\n",
    "                    #Ignore the empty values in these characteristics\n",
    "                    #numericalValues = [float(item) for item in numericElementValues if item != \"\"]\n",
    "                    for index in range(len(numericElementValues)):\n",
    "                        if numericElementValues[index] != \"\":\n",
    "                            dict_values_index['values'].append(float(numericElementValues[index]))\n",
    "                            dict_values_index['df_index'].append(index)\n",
    "\n",
    "                    #print(dict_values_index)\n",
    "                    try:\n",
    "                        z_score = stats.zscore(dict_values_index['values'])\n",
    "                    except:\n",
    "                        x = 0\n",
    "                        \n",
    "                    #print(numericElement + '\\n' + '-----------------')\n",
    "                    #print(z_score)\n",
    "                    for index in range(len(z_score)):\n",
    "                        if abs(round(z_score[index])) >= 3:\n",
    "                            df_index = dict_values_index['df_index'][index]\n",
    "                            lstIndicesNumeric.append(str(df_index) +','+ str(df.index.tolist().index(numericElement)))\n",
    "                \n",
    "            \n",
    "            if ddlNumeric.value == \"Both\" or ddlNumeric.value == \"Intra Batch\":\n",
    "                #Now find contradictory within batches\n",
    "                batches = ['Large Negative Correlation', 'Large Positive Correlation', 'Medium Negative Correlation',\n",
    "                          'Medium Positive Correlation', 'Small Negative Correlation', 'Small Positive Correlation',\n",
    "                          'No Correlation']\n",
    "                \n",
    "                for batchName in batches:\n",
    "                    for numericElement in numericCharacteristicsList:\n",
    "                        dict_values_index = { 'values':[], 'df_index':[]}\n",
    "\n",
    "                        columns = list(df)\n",
    "                        index = 0\n",
    "                        for col in columns: \n",
    "                            # printing the third element of the column \n",
    "                            if df[col]['Batches'] == batchName:\n",
    "                                if df[col][numericElement] != \"\":\n",
    "                                    dict_values_index['values'].append(float(df[col][numericElement]))\n",
    "                                    dict_values_index['df_index'].append(index)\n",
    "\n",
    "                            index += 1\n",
    "\n",
    "                        #print(dict_values_index)\n",
    "                        try:\n",
    "                            z_score = stats.zscore(dict_values_index['values'])\n",
    "                        except:\n",
    "                            x = 0\n",
    "                        #print(numericElement + '\\n' + '-----------------')\n",
    "                        #print(z_score)\n",
    "                        for index in range(len(z_score)):\n",
    "                            if abs(round(z_score[index])) >= 3:\n",
    "                                df_index = dict_values_index['df_index'][index]\n",
    "                                lstIndicesNumeric.append(str(df_index) +','+ str(df.index.tolist().index(numericElement)))\n",
    "                    \n",
    "\n",
    "                \n",
    "    totalNanoCategory = []\n",
    "    totalNanoNumeric = []\n",
    "    \n",
    "    for catIndex in lstIndicesCategory:\n",
    "        splitCatIndices = catIndex.split(',')\n",
    "        if splitCatIndices not in totalNanoCategory:\n",
    "            totalNanoCategory.append(splitCatIndices)\n",
    "    \n",
    "    for numIndex in lstIndicesNumeric:\n",
    "        splitNumIndices = numIndex.split(',')\n",
    "        if splitNumIndices not in totalNanoNumeric:\n",
    "            totalNanoNumeric.append(splitNumIndices)\n",
    "            \n",
    "    lstIndices = lstIndicesCategory + lstIndicesNumeric\n",
    "    print('Summary\\n-------------')\n",
    "    print('Total Nanopubs: %s' % len(nano))\n",
    "    print('Total Nanopubs highlighted by Category: %s' % len(totalNanoCategory))\n",
    "    print('Total Nanopubs highlighted by Numeric: %s' % len(totalNanoNumeric))\n",
    "    \n",
    "    dictEvaluation[IV] = {'Categorical': len(totalNanoCategory), 'Numerical': len(totalNanoNumeric)}\n",
    "    \n",
    "    #print(lstIndices)\n",
    "    return lstIndices\n",
    "\n",
    "def color(x,row_idx,col_idx):\n",
    "    #print(x)\n",
    "    #for index, row in x.iterrows():\n",
    "    #    print(row[4][4])\n",
    "    #print(row_idx)\n",
    "    #print(col_idx)\n",
    "    #effectValues\n",
    "    #Old Formulla = str(((float(shade[colIndex])/2)*10))\n",
    "    #New hue formulla\n",
    "    #hue = effectValue / ((stdErr/2)*10)\n",
    "    \n",
    "    shade = []\n",
    "    for col in x.columns:\n",
    "        stdErr = x[col].iloc[x.index.tolist().index('stdErr')]\n",
    "        effectVal = x[col].iloc[x.index.tolist().index('effectValues')]\n",
    "        if float(effectVal) < 0:\n",
    "            effectVal = effectVal * -1\n",
    "            \n",
    "        hue =  1 - (float(stdErr)/2)*10    #(float(effectVal) / ((float(stdErr)/2)*10))/10\n",
    "        shade.append(str(hue))\n",
    "    \n",
    "    df_styler = pd.DataFrame('', index=x.index, columns=x.columns)\n",
    "    \n",
    "    for colIndex in range(len(x.columns)):\n",
    "        df_styler.iloc[3, colIndex] = 'background-color: rgba(255,255,0,'+shade[colIndex]+');' #red (255,0,0)\n",
    "    \n",
    "    colIndexList = []\n",
    "    rowIndexList = []\n",
    "    for idx in range(len(col_idx)):\n",
    "        if col_idx[idx] not in colIndexList:\n",
    "            colIndexList.append(col_idx[idx])\n",
    "            \n",
    "        if row_idx[idx] not in rowIndexList:\n",
    "            rowIndexList.append(row_idx[idx])\n",
    "    \n",
    "    for iCol in colIndexList:\n",
    "        for iRow in range(len(x.index)):\n",
    "            if iRow == 3:\n",
    "                df_styler.iloc[iRow, iCol] = 'background-color: rgba(255,255,0,'+shade[colIndex]+');border-left:3px solid black;border-right:3px solid black;'\n",
    "            else:\n",
    "                df_styler.iloc[iRow, iCol] = 'border-left:3px solid black;border-right:3px solid black;'\n",
    "            \n",
    "    for iRow in rowIndexList:\n",
    "        for iCol in range(len(x.columns)):\n",
    "            df_styler.iloc[iRow, iCol] = 'border-top:3px solid black;border-bottom:3px solid black;'\n",
    "    \n",
    "    color = ''\n",
    "    for idx in range(len(col_idx)):\n",
    "        color = 'background-color: rgba(255,0,0,'+shade[colIndex]+');border-left:3px solid black;border-right:3px solid black;border-top:3px solid black;border-bottom:3px solid black'\n",
    "        df_styler.iloc[row_idx[idx], col_idx[idx]] = color\n",
    "    \n",
    "        \n",
    "    for idx in range(len(col_idx)):\n",
    "        value = x.iloc[row_idx[idx], col_idx[idx]]\n",
    "        #msg = urllib.parse.quote(x.columns[col_idx[idx]].split('(')[1].split(')')[0])\n",
    "        #print(x.columns[col_idx[idx]])\n",
    "        msg = x.columns[col_idx[idx]].split('(')[1].split(')')[0]\n",
    "        #print(msg)\n",
    "        x.iloc[row_idx[idx], col_idx[idx]] = '<span style=\"cursor:pointer\" onclick=\"showInfo('+str(msg)+');\">'+str(value)+'</span>'\n",
    "        \n",
    "    #print(df_styler)\n",
    "    return df_styler\n",
    "\n",
    "def on_button_clicked(b):\n",
    "    button.description = 'Please wait!'\n",
    "    button.disabled = True\n",
    "    dicSelectiveIV = { 'nano':[], 'iv':[], 'obs':[], 'Batches':[], 'effectValues':[], 'stdErr': [], 'study': [],\n",
    "                    'oneShot': [],\n",
    "                    'groupSize': [],\n",
    "                    #'groupSizeFull': [],  \n",
    "                    'matching': [],\n",
    "                    'gameIncentive': [],\n",
    "                    'Experimental': [],\n",
    "                    'numberOfChoices': [],\n",
    "                    #'numberOfChoicesFull':[],\n",
    "                    'kIndex': [],\n",
    "                    'MPCR': [],\n",
    "                    'maleProportion': [],\n",
    "                    'yearOfDataCollection': [],\n",
    "                    'meanAge': [],  \n",
    "                    'numberOfObservations': [],\n",
    "                    'overallMeanContributions': [],\n",
    "                    'overallMeanWithdrawal': [],\n",
    "                    'overallN': [],\n",
    "                    'overallPercentageEndowmentContributed': [],\n",
    "                    'overallProportionCooperation': [],\n",
    "                    'overallStandardDeviation': [],\n",
    "                    'publicationStatus': [],\n",
    "                    'replenishmentRate': [],\n",
    "                    'studyDilemmaType': [],\n",
    "                    'studyPGDThreshold': [],\n",
    "                    'studyOtherDilemmaType': [],\n",
    "                    'ageLowerInclusive': [],\n",
    "                    'ageHigherInclusive': []\n",
    "                 }\n",
    "    \n",
    "    #print(dropdown.value)\n",
    "    contrastOption = []\n",
    "    if checkboxCategory.value == True:\n",
    "        contrastOption.append('category')\n",
    "    if checkboxNumeric.value == True:\n",
    "        contrastOption.append('numeric')\n",
    "        \n",
    "    if dropdown.value == \"-- Select All --\":\n",
    "        clear_output(True)\n",
    "        createGUI()\n",
    "        \n",
    "        dictEvaluation = {}\n",
    "        \n",
    "        # To draw the catplot by Independent variable\n",
    "        if checkboxCatplot.value == True:\n",
    "            drawCatplot()\n",
    "            \n",
    "        for iv in getTop20_OfficialIVs():\n",
    "            if iv != '-- Select All --':\n",
    "                dicSelectiveIV = { 'nano':[], 'iv':[], 'obs':[], 'Batches':[], 'effectValues':[], 'stdErr': [], 'study': [],\n",
    "                    'oneShot': [],\n",
    "                    'groupSize': [],\n",
    "                    #'groupSizeFull': [],  \n",
    "                    'matching': [],\n",
    "                    'gameIncentive': [],\n",
    "                    'Experimental': [],\n",
    "                    'numberOfChoices': [],\n",
    "                    #'numberOfChoicesFull':[],\n",
    "                    'kIndex': [],\n",
    "                    'MPCR': [],\n",
    "                    'maleProportion': [],\n",
    "                    'yearOfDataCollection': [],\n",
    "                    'meanAge': [],  \n",
    "                    'numberOfObservations': [],\n",
    "                    'overallMeanContributions': [],\n",
    "                    'overallMeanWithdrawal': [],\n",
    "                    'overallN': [],\n",
    "                    'overallPercentageEndowmentContributed': [],\n",
    "                    'overallProportionCooperation': [],\n",
    "                    'overallStandardDeviation': [],\n",
    "                    'publicationStatus': [],\n",
    "                    'replenishmentRate': [],\n",
    "                    'studyDilemmaType': [],\n",
    "                    'studyPGDThreshold': [],\n",
    "                    'studyOtherDilemmaType': [],\n",
    "                    'ageLowerInclusive': [],\n",
    "                    'ageHigherInclusive': []\n",
    "                 }\n",
    "                \n",
    "                #Select batches according to the selection of check boxes\n",
    "                title = ''\n",
    "                if checkboxLNP.value == True or checkboxAllBatches.value == True:\n",
    "                    title = 'Large, '\n",
    "                    #Large Negative\n",
    "                    nps = dicIVs[iv]['ObjBatch1']\n",
    "                    for objNP in nps:\n",
    "                        formatContent(objNP, iv, 'Large Negative Correlation', dicSelectiveIV)\n",
    "                    \n",
    "                    #Large Positive\n",
    "                    nps = dicIVs[iv]['ObjBatch7']\n",
    "                    for objNP in nps:\n",
    "                        formatContent(objNP, iv, 'Large Positive Correlation', dicSelectiveIV)\n",
    "                        \n",
    "                if checkboxMNP.value == True or checkboxAllBatches.value == True:\n",
    "                    title += 'Medium, '\n",
    "                    #Medium Negative\n",
    "                    nps = dicIVs[iv]['ObjBatch2']\n",
    "                    for objNP in nps:\n",
    "                        formatContent(objNP, iv, 'Medium Negative Correlation', dicSelectiveIV)\n",
    "                    \n",
    "                    #Medium Positive\n",
    "                    nps = dicIVs[iv]['ObjBatch6']\n",
    "                    for objNP in nps:\n",
    "                        formatContent(objNP, iv, 'Medium Positive Correlation', dicSelectiveIV)\n",
    "                        \n",
    "                if checkboxSNP.value == True or checkboxAllBatches.value == True:\n",
    "                    title += 'Small, '\n",
    "                    #Small Negative\n",
    "                    nps = dicIVs[iv]['ObjBatch3']\n",
    "                    for objNP in nps:\n",
    "                        formatContent(objNP, iv, 'Small Negative Correlation', dicSelectiveIV)\n",
    "                    \n",
    "                    #Small Positive\n",
    "                    nps = dicIVs[iv]['ObjBatch5']\n",
    "                    for objNP in nps:\n",
    "                        formatContent(objNP, iv, 'Small Positive Correlation', dicSelectiveIV)\n",
    "                \n",
    "                \n",
    "                if checkboxAllBatches.value == True:\n",
    "                    title = 'Large, Medium, Small (Negative & Positive) and No Correlation '\n",
    "                    #No Correlation\n",
    "                    nps = dicIVs[iv]['ObjBatch4']\n",
    "                    for objNP in nps:\n",
    "                        formatContent(objNP, iv, 'No Correlation', dicSelectiveIV)\n",
    "                        \n",
    "                title = title.strip()\n",
    "                title = title.rstrip(\",\") + ' (Negative & Positive) Correlation '\n",
    "                #########################\n",
    "                r_idx = []\n",
    "                c_idx = []\n",
    "                \n",
    "                dfSelectiveIV = pd.DataFrame.from_dict(dicSelectiveIV, orient='index', columns=dicSelectiveIV['nano'])\n",
    "                display(HTML(\"<h2> \"+ title + \"for \" + iv +\"</h2>\"), out)\n",
    "                highlightNano = findContrastNano(dicSelectiveIV, dfSelectiveIV, contrastOption, iv)\n",
    "                dfSelectiveIV = dfSelectiveIV.drop(['nano'])\n",
    "                if len(highlightNano) == 0 or checkboxHighlight.value == False:\n",
    "                    display(dfSelectiveIV.style.apply(color, row_idx = r_idx, col_idx = c_idx, axis = None), out)\n",
    "                else:\n",
    "                    for index in highlightNano:\n",
    "                        splitIndex = index.split(',')\n",
    "                        r_idx.append(int(splitIndex[1]) - 1)\n",
    "                        c_idx.append(int(splitIndex[0]))\n",
    "\n",
    "                    display(dfSelectiveIV.style.apply(color, row_idx = r_idx, col_idx = c_idx, axis = None), out)\n",
    "                    #dfSelectiveIV.style.apply(color, row_idx = r_idx, col_idx = c_idx, axis = None).to_excel('d-measure-contradiction.xlsx')\n",
    "                display(HTML(\"<hr />\"), out)\n",
    "    else:\n",
    "        clear_output(True)\n",
    "        createGUI()\n",
    "        dictEvaluation = {}\n",
    "        \n",
    "        # To draw the catplot by Independent variable\n",
    "        if checkboxCatplot.value == True:\n",
    "            drawCatplot()\n",
    "        \n",
    "        #Select batches according to the selection of check boxes\n",
    "        title = ''\n",
    "        if checkboxLNP.value == True or checkboxAllBatches.value == True:\n",
    "            #display(HTML(\"<p>IN</p>\"))\n",
    "            title = 'Large, '\n",
    "            #Large Negative\n",
    "            nps = dicIVs[dropdown.value]['ObjBatch1']\n",
    "            for objNP in nps:\n",
    "                formatContent(objNP, dropdown.value, 'Large Negative Correlation', dicSelectiveIV)\n",
    "                \n",
    "            #Large Positive\n",
    "            nps = dicIVs[dropdown.value]['ObjBatch7']\n",
    "            for objNP in nps:\n",
    "                formatContent(objNP, dropdown.value, 'Large Positive Correlation', dicSelectiveIV)\n",
    "            \n",
    "                \n",
    "        if checkboxMNP.value == True or checkboxAllBatches.value == True: \n",
    "            title += 'Medium, '\n",
    "            #Medium Negative\n",
    "            nps = dicIVs[dropdown.value]['ObjBatch2']\n",
    "            for objNP in nps:\n",
    "                formatContent(objNP, dropdown.value, 'Medium Negative Correlation', dicSelectiveIV)\n",
    "            \n",
    "            #Medium Positive\n",
    "            nps = dicIVs[dropdown.value]['ObjBatch6']\n",
    "            for objNP in nps:\n",
    "                formatContent(objNP, dropdown.value, 'Medium Positive Correlation', dicSelectiveIV)\n",
    "                \n",
    "        if checkboxSNP.value == True or checkboxAllBatches.value == True: \n",
    "            title += 'Small, '\n",
    "            #Small Negative\n",
    "            nps = dicIVs[dropdown.value]['ObjBatch3']\n",
    "            for objNP in nps:\n",
    "                formatContent(objNP, dropdown.value, 'Small Negative Correlation', dicSelectiveIV)\n",
    "            \n",
    "            #Small Positive\n",
    "            nps = dicIVs[dropdown.value]['ObjBatch5']\n",
    "            for objNP in nps:\n",
    "                formatContent(objNP, dropdown.value, 'Small Positive Correlation', dicSelectiveIV)\n",
    "            \n",
    "        if checkboxAllBatches.value == True:\n",
    "            title = 'Large, Medium, Small and No '\n",
    "            #No Correlation\n",
    "            nps = dicIVs[dropdown.value]['ObjBatch4']\n",
    "            for objNP in nps:\n",
    "                formatContent(objNP, dropdown.value, 'No Correlation', dicSelectiveIV)\n",
    "                \n",
    "        \n",
    "        title = title.strip()\n",
    "        title = title.rstrip(\",\") + ' (Negative & Positive) Correlation '\n",
    "        ############################\n",
    "        r_idx = []\n",
    "        c_idx = []\n",
    "        dfSelectiveIV = pd.DataFrame.from_dict(dicSelectiveIV, orient='index', columns=dicSelectiveIV['nano'])\n",
    "        display(HTML(\"<h2> \"+ title + \"for \" + dropdown.value +\"</h2>\"), out)\n",
    "        highlightNano = findContrastNano(dicSelectiveIV, dfSelectiveIV, contrastOption, dropdown.value)\n",
    "        dfSelectiveIV = dfSelectiveIV.drop(['nano'])\n",
    "        if len(highlightNano) == 0 or checkboxHighlight.value == False:\n",
    "            display(dfSelectiveIV.style.apply(color, row_idx = r_idx, col_idx = c_idx, axis = None), out)\n",
    "        else:\n",
    "            for index in highlightNano:\n",
    "                splitIndex = index.split(',')\n",
    "                r_idx.append(int(splitIndex[1]) - 1)\n",
    "                c_idx.append(int(splitIndex[0]))\n",
    "                \n",
    "            display(dfSelectiveIV.style.apply(color, row_idx = r_idx, col_idx = c_idx, axis = None))\n",
    "            #dfSelectiveIV.style.apply(color, row_idx = r_idx, col_idx = c_idx, axis = None).to_excel('df_html_files/d-measure-contradiction_'+dropdown.value+'.xlsx')\n",
    "            #html = dfSelectiveIV.style.apply(color, row_idx = r_idx, col_idx = c_idx, axis = None).render()\n",
    "            #print(html)\n",
    "            #with open('df_html_files/d-measure-contradiction_'+dropdown.value+'.html', 'w') as f:\n",
    "             #   f.write(html)\n",
    "    \n",
    "    #Button Enabled\n",
    "    button.description = 'Submit'\n",
    "    button.disabled = False"
   ]
  },
  {
   "cell_type": "code",
   "execution_count": 15,
   "metadata": {},
   "outputs": [],
   "source": [
    "#Define Controls\n",
    "dropdown = widgets.Dropdown(\n",
    "    options= getTop20_OfficialIVs(),\n",
    "    #value='-- Select All --',\n",
    "    description='IVs:',\n",
    "    disabled=False,\n",
    ")\n",
    "\n",
    "label = widgets.HTML(\n",
    "    value=\"<hr /><b>Please select the batches</b>\"\n",
    ")\n",
    "\n",
    "checkboxLNP = widgets.Checkbox(\n",
    "    value=True,\n",
    "    description='Large Negative & Positive Correlation',\n",
    "    disabled=False,\n",
    "    indent=False\n",
    ")\n",
    "checkboxMNP = widgets.Checkbox(\n",
    "    value=False,\n",
    "    description='Medium Negative & Positive Correlation',\n",
    "    disabled=False,\n",
    "    indent=False\n",
    ")\n",
    "\n",
    "checkboxSNP = widgets.Checkbox(\n",
    "    value=False,\n",
    "    description='Small Negative & Positive Correlation',\n",
    "    disabled=False,\n",
    "    indent=False\n",
    ")\n",
    "\n",
    "checkboxAllBatches = widgets.Checkbox(\n",
    "    value=False,\n",
    "    description='All Correlation',\n",
    "    disabled=False,\n",
    "    indent=False\n",
    ")\n",
    "\n",
    "labelLine = widgets.HTML(\n",
    "    value=\"<hr /><b>Nanopub Contrast Analysis</b>\"\n",
    ")\n",
    "\n",
    "\n",
    "checkboxHighlight = widgets.Checkbox(\n",
    "    value=True,\n",
    "    description='Highlight Contrast Cells?',\n",
    "    disabled=False,\n",
    "    indent=False\n",
    ")\n",
    "\n",
    "checkboxCategory = widgets.Checkbox(\n",
    "    value=True,\n",
    "    description='By Category?',\n",
    "    disabled=False,\n",
    "    indent=False,\n",
    "    layout={'width': 'max-content'}\n",
    ")\n",
    "\n",
    "ddlCategory = widgets.Dropdown(\n",
    "    options=[('Both', 'Both'), ('Inter Batch', 'Inter Batch'), ('Intra Batch', 'Intra Batch')],\n",
    "    value='Both',\n",
    "    description='',\n",
    "    disabled=False,\n",
    "    indent=False,\n",
    "    layout={'width': 'max-content'}\n",
    ")\n",
    "\n",
    "checkboxNumeric = widgets.Checkbox(\n",
    "    value=False,\n",
    "    description='By Numeric values?',\n",
    "    disabled=False,\n",
    "    layout={'width': 'max-content'}\n",
    ")\n",
    "ddlNumeric = widgets.Dropdown(\n",
    "    options=[('Both', 'Both'), ('Inter Batch', 'Inter Batch'), ('Intra Batch', 'Intra Batch')],\n",
    "    value='Both',\n",
    "    description='',\n",
    "    disabled=False,\n",
    "    indent=False,\n",
    "    layout={'width': 'max-content'}\n",
    ")\n",
    "\n",
    "labelExtra = widgets.HTML(\n",
    "    value=\"<hr /><b>Extra</b>\"\n",
    ")\n",
    "\n",
    "checkboxCatplot = widgets.Checkbox(\n",
    "    value=False,\n",
    "    description='Do you want to view catplot for all IVs?',\n",
    "    disabled=False,\n",
    "    indent=False\n",
    ")\n",
    "\n",
    "button = widgets.Button(\n",
    "    description='Submit',\n",
    "    disabled=False,\n",
    "    button_style='', # 'success', 'info', 'warning', 'danger' or ''\n",
    "    tooltip='Submit',\n",
    "    icon='check' # (FontAwesome names without the `fa-` prefix)\n",
    ")\n",
    "\n",
    "def createGUI():\n",
    "    button.on_click(on_button_clicked)\n",
    "    items = [dropdown, label]\n",
    "    itemsChk1 = [ checkboxLNP, checkboxMNP]\n",
    "    itemsChk2 = [ checkboxSNP, checkboxAllBatches]\n",
    "    itemContrast = [checkboxCategory, ddlCategory, checkboxNumeric, ddlNumeric]\n",
    "    display(widgets.VBox ([widgets.VBox(items), widgets.HBox(itemsChk1), widgets.HBox(itemsChk2) , labelLine, \n",
    "                           checkboxHighlight, widgets.HBox(itemContrast), labelExtra, checkboxCatplot, button]), out)"
   ]
  },
  {
   "cell_type": "code",
   "execution_count": 16,
   "metadata": {},
   "outputs": [
    {
     "data": {
      "application/vnd.jupyter.widget-view+json": {
       "model_id": "a6c016b418144f04b78142efe1225aec",
       "version_major": 2,
       "version_minor": 0
      },
      "text/plain": [
       "VBox(children=(VBox(children=(Dropdown(description='IVs:', options=('punishmentTreatment', 'endowmentSize', 'g…"
      ]
     },
     "metadata": {},
     "output_type": "display_data"
    },
    {
     "data": {
      "application/vnd.jupyter.widget-view+json": {
       "model_id": "6ed6b80228b2485db32b89fe41833d75",
       "version_major": 2,
       "version_minor": 0
      },
      "text/plain": [
       "Output()"
      ]
     },
     "metadata": {},
     "output_type": "display_data"
    }
   ],
   "source": [
    "createGUI()"
   ]
  },
  {
   "cell_type": "code",
   "execution_count": null,
   "metadata": {},
   "outputs": [],
   "source": []
  }
 ],
 "metadata": {
  "kernelspec": {
   "display_name": "Python 3",
   "language": "python",
   "name": "python3"
  },
  "language_info": {
   "codemirror_mode": {
    "name": "ipython",
    "version": 3
   },
   "file_extension": ".py",
   "mimetype": "text/x-python",
   "name": "python",
   "nbconvert_exporter": "python",
   "pygments_lexer": "ipython3",
   "version": "3.7.3"
  },
  "widgets": {
   "application/vnd.jupyter.widget-state+json": {
    "state": {
     "00d3c80fb1334823bbce8999c35d03b8": {
      "model_module": "@jupyter-widgets/controls",
      "model_module_version": "1.4.0",
      "model_name": "HBoxModel",
      "state": {
       "children": [
        "IPY_MODEL_35d85cf62fe5477fb24e3c28db75a403",
        "IPY_MODEL_f59b1b10b9a64dccb5d3fe67406736d5"
       ],
       "layout": "IPY_MODEL_526e7820b1c54368836d3a9b4f7ca685"
      }
     },
     "0151f3eb27ba4196b7a0c4719f436399": {
      "model_module": "@jupyter-widgets/controls",
      "model_module_version": "1.4.0",
      "model_name": "HBoxModel",
      "state": {
       "children": [
        "IPY_MODEL_f210b6a39a204dbdb1cb1dbeb39d2881",
        "IPY_MODEL_f391ed214d7d449f9cbf8bb06f905325"
       ],
       "layout": "IPY_MODEL_6b8c4a7ff82d4f7e9cbde66dec3f59d5"
      }
     },
     "01e551aae5fb435caf6cc77286ab577c": {
      "model_module": "@jupyter-widgets/base",
      "model_module_version": "1.1.0",
      "model_name": "LayoutModel",
      "state": {}
     },
     "02ce3ce39a13457e9f049b12d3340089": {
      "model_module": "@jupyter-widgets/base",
      "model_module_version": "1.1.0",
      "model_name": "LayoutModel",
      "state": {}
     },
     "03342a4c22d44f2b83fd4dc03f555ca1": {
      "model_module": "@jupyter-widgets/base",
      "model_module_version": "1.1.0",
      "model_name": "LayoutModel",
      "state": {}
     },
     "056d8ab969384406815d46b2acdae99e": {
      "model_module": "@jupyter-widgets/base",
      "model_module_version": "1.1.0",
      "model_name": "LayoutModel",
      "state": {}
     },
     "057110d5390d474891e43d4ff419a3af": {
      "model_module": "@jupyter-widgets/base",
      "model_module_version": "1.1.0",
      "model_name": "LayoutModel",
      "state": {}
     },
     "07880577904044a09a5fd0e424a4f10f": {
      "model_module": "@jupyter-widgets/base",
      "model_module_version": "1.1.0",
      "model_name": "LayoutModel",
      "state": {}
     },
     "0805a72b3935440ebee68b452a8cfebd": {
      "model_module": "@jupyter-widgets/base",
      "model_module_version": "1.1.0",
      "model_name": "LayoutModel",
      "state": {}
     },
     "08dbc290a7734a80ac832893b3f75ff1": {
      "model_module": "@jupyter-widgets/base",
      "model_module_version": "1.1.0",
      "model_name": "LayoutModel",
      "state": {}
     },
     "09b398897acd40849c8ebe8afa5da7a5": {
      "model_module": "@jupyter-widgets/base",
      "model_module_version": "1.1.0",
      "model_name": "LayoutModel",
      "state": {}
     },
     "0a65da82a2844afa82f86ba3eba247e2": {
      "model_module": "@jupyter-widgets/base",
      "model_module_version": "1.1.0",
      "model_name": "LayoutModel",
      "state": {}
     },
     "0aae236794974eaaa60211eb788abe03": {
      "model_module": "@jupyter-widgets/base",
      "model_module_version": "1.1.0",
      "model_name": "LayoutModel",
      "state": {}
     },
     "0b1aab90e9794f2ebb6cccaa7c976454": {
      "model_module": "@jupyter-widgets/controls",
      "model_module_version": "1.4.0",
      "model_name": "CheckboxModel",
      "state": {
       "description": "Do you want to view catplot?",
       "disabled": false,
       "indent": false,
       "layout": "IPY_MODEL_e6b3b22120c04fa6bfc63957b2f2c816",
       "style": "IPY_MODEL_f627f9b67598417fb4ab4fb4c5ffe773",
       "value": false
      }
     },
     "0b61661898434b71a86964c78eef2507": {
      "model_module": "@jupyter-widgets/controls",
      "model_module_version": "1.4.0",
      "model_name": "HTMLModel",
      "state": {
       "layout": "IPY_MODEL_02ce3ce39a13457e9f049b12d3340089",
       "style": "IPY_MODEL_742671a295304de59ecd347b4d10159d",
       "value": "<hr /><b>Please select the batches</b>"
      }
     },
     "0bd3bbf2a89a4c0f80927857e7456bac": {
      "model_module": "@jupyter-widgets/controls",
      "model_module_version": "1.4.0",
      "model_name": "HBoxModel",
      "state": {
       "children": [
        "IPY_MODEL_35d85cf62fe5477fb24e3c28db75a403",
        "IPY_MODEL_f59b1b10b9a64dccb5d3fe67406736d5"
       ],
       "layout": "IPY_MODEL_5ac187b884a74daaa580fd41f9a617cd"
      }
     },
     "0bde76db90df4e8aa466b4fca7f38b77": {
      "model_module": "@jupyter-widgets/controls",
      "model_module_version": "1.4.0",
      "model_name": "VBoxModel",
      "state": {
       "children": [
        "IPY_MODEL_124e2c5f742c4f328541e7d0502cad45",
        "IPY_MODEL_cf679e2d453943539b5de4c23f5b0318",
        "IPY_MODEL_a16a1cbb77a24758a220b58575e3c8e6",
        "IPY_MODEL_f64bdbc4e24f40e4ad978b2d2eb32388",
        "IPY_MODEL_22933da800854d18b52be74d97a8172d",
        "IPY_MODEL_8d6904ee4c0a41a8a677b85a7273b479",
        "IPY_MODEL_daae3848a21e4cd5971a8f3229c5501c",
        "IPY_MODEL_0b1aab90e9794f2ebb6cccaa7c976454",
        "IPY_MODEL_6154836be8964e0296196f4daf40d315"
       ],
       "layout": "IPY_MODEL_3f77b743d2a041a9b12bbbf53c3aa9ca"
      }
     },
     "0fbb69fcc81748af9e183cd057cf9ff7": {
      "model_module": "@jupyter-widgets/controls",
      "model_module_version": "1.4.0",
      "model_name": "HBoxModel",
      "state": {
       "children": [
        "IPY_MODEL_326c47192635405c864681df2065b21e",
        "IPY_MODEL_209fcd7ca56943959fed7ef8ad3658e4"
       ],
       "layout": "IPY_MODEL_bea52d5333c64ac9a3d508fb9c658c19"
      }
     },
     "10bdb75f50754558b251ba85f815386f": {
      "model_module": "@jupyter-widgets/base",
      "model_module_version": "1.1.0",
      "model_name": "LayoutModel",
      "state": {}
     },
     "124e2c5f742c4f328541e7d0502cad45": {
      "model_module": "@jupyter-widgets/controls",
      "model_module_version": "1.4.0",
      "model_name": "VBoxModel",
      "state": {
       "children": [
        "IPY_MODEL_b778097e68fa43e788b2cfb54fddbfcb",
        "IPY_MODEL_0b61661898434b71a86964c78eef2507"
       ],
       "layout": "IPY_MODEL_407fd53bac6b40d8af323083bc0bb1af"
      }
     },
     "12f5e7a4aa9646f3b52b6771e10e66b9": {
      "model_module": "@jupyter-widgets/controls",
      "model_module_version": "1.4.0",
      "model_name": "HBoxModel",
      "state": {
       "children": [
        "IPY_MODEL_35d85cf62fe5477fb24e3c28db75a403",
        "IPY_MODEL_f59b1b10b9a64dccb5d3fe67406736d5"
       ],
       "layout": "IPY_MODEL_799478e1874c4e91a783f0ce2dd6752e"
      }
     },
     "131b616d49484ae19eb898ff36f6b3dc": {
      "model_module": "@jupyter-widgets/base",
      "model_module_version": "1.1.0",
      "model_name": "LayoutModel",
      "state": {}
     },
     "139bd73229f447cf809d4304392ff402": {
      "model_module": "@jupyter-widgets/base",
      "model_module_version": "1.1.0",
      "model_name": "LayoutModel",
      "state": {}
     },
     "13fa5a91a6bf4f5ca6275eee06da1b6e": {
      "model_module": "@jupyter-widgets/base",
      "model_module_version": "1.1.0",
      "model_name": "LayoutModel",
      "state": {}
     },
     "17e478109c894cb68942ba4c43623c96": {
      "model_module": "@jupyter-widgets/base",
      "model_module_version": "1.1.0",
      "model_name": "LayoutModel",
      "state": {}
     },
     "1a12508bba674bc2a0b0eb16ec07df2b": {
      "model_module": "@jupyter-widgets/controls",
      "model_module_version": "1.4.0",
      "model_name": "HBoxModel",
      "state": {
       "children": [
        "IPY_MODEL_35d85cf62fe5477fb24e3c28db75a403",
        "IPY_MODEL_f59b1b10b9a64dccb5d3fe67406736d5"
       ],
       "layout": "IPY_MODEL_6a58b845e75d437f80f2cc76acd01127"
      }
     },
     "1bb9e5ca98114eac9527c49a4b8b6f9d": {
      "model_module": "@jupyter-widgets/controls",
      "model_module_version": "1.4.0",
      "model_name": "VBoxModel",
      "state": {
       "children": [
        "IPY_MODEL_2fd4b6f7367844eb8576075489c7c14b",
        "IPY_MODEL_333e88130a314e31ab692a13f95740df",
        "IPY_MODEL_6fc43f452bf341e095572837ad4c291d",
        "IPY_MODEL_f64bdbc4e24f40e4ad978b2d2eb32388",
        "IPY_MODEL_22933da800854d18b52be74d97a8172d",
        "IPY_MODEL_d9cbbcd259e44c668c2ce5a8c092ade3",
        "IPY_MODEL_daae3848a21e4cd5971a8f3229c5501c",
        "IPY_MODEL_0b1aab90e9794f2ebb6cccaa7c976454",
        "IPY_MODEL_6154836be8964e0296196f4daf40d315"
       ],
       "layout": "IPY_MODEL_139bd73229f447cf809d4304392ff402"
      }
     },
     "1c201eac76cc431f80cc72212afed93f": {
      "model_module": "@jupyter-widgets/base",
      "model_module_version": "1.1.0",
      "model_name": "LayoutModel",
      "state": {}
     },
     "1c7956c07a0748b7be35acb2b652172b": {
      "model_module": "@jupyter-widgets/controls",
      "model_module_version": "1.4.0",
      "model_name": "VBoxModel",
      "state": {
       "children": [
        "IPY_MODEL_b778097e68fa43e788b2cfb54fddbfcb",
        "IPY_MODEL_0b61661898434b71a86964c78eef2507"
       ],
       "layout": "IPY_MODEL_cf667c34b59849aebcac23fe9e156c5d"
      }
     },
     "1d5a86b7c0e44f7ba221074b10a987d9": {
      "model_module": "@jupyter-widgets/controls",
      "model_module_version": "1.4.0",
      "model_name": "HBoxModel",
      "state": {
       "children": [
        "IPY_MODEL_326c47192635405c864681df2065b21e",
        "IPY_MODEL_209fcd7ca56943959fed7ef8ad3658e4"
       ],
       "layout": "IPY_MODEL_ca787f0347614dd389c7089b794ea516"
      }
     },
     "1d956bb55c8740a3961a83734981b936": {
      "model_module": "@jupyter-widgets/base",
      "model_module_version": "1.1.0",
      "model_name": "LayoutModel",
      "state": {}
     },
     "1deafa2f4adb4e208292fbf668d2ad9b": {
      "model_module": "@jupyter-widgets/controls",
      "model_module_version": "1.4.0",
      "model_name": "HBoxModel",
      "state": {
       "children": [
        "IPY_MODEL_35d85cf62fe5477fb24e3c28db75a403",
        "IPY_MODEL_f59b1b10b9a64dccb5d3fe67406736d5"
       ],
       "layout": "IPY_MODEL_ad8e290360f243949410196c1faddc63"
      }
     },
     "1e024b59f5eb474193cb7f2cdabd78f9": {
      "model_module": "@jupyter-widgets/controls",
      "model_module_version": "1.4.0",
      "model_name": "HBoxModel",
      "state": {
       "children": [
        "IPY_MODEL_35d85cf62fe5477fb24e3c28db75a403",
        "IPY_MODEL_f59b1b10b9a64dccb5d3fe67406736d5"
       ],
       "layout": "IPY_MODEL_431fc0bd9ebc4d979c8e7d221e9a14e2"
      }
     },
     "209fcd7ca56943959fed7ef8ad3658e4": {
      "model_module": "@jupyter-widgets/controls",
      "model_module_version": "1.4.0",
      "model_name": "CheckboxModel",
      "state": {
       "description": "By Numeric values?",
       "disabled": false,
       "indent": false,
       "layout": "IPY_MODEL_0a65da82a2844afa82f86ba3eba247e2",
       "style": "IPY_MODEL_d184c5642e6b45a9af9b2fb46f06699f",
       "value": true
      }
     },
     "22933da800854d18b52be74d97a8172d": {
      "model_module": "@jupyter-widgets/controls",
      "model_module_version": "1.4.0",
      "model_name": "CheckboxModel",
      "state": {
       "description": "Highlight Contrast Cells?",
       "disabled": false,
       "indent": false,
       "layout": "IPY_MODEL_25be20bc67b141819c24df5feb5abcf3",
       "style": "IPY_MODEL_6460eb0860f949b3b603ecbb25a800cb",
       "value": true
      }
     },
     "22b08d0437064df68146c249da5d3d5f": {
      "model_module": "@jupyter-widgets/base",
      "model_module_version": "1.1.0",
      "model_name": "LayoutModel",
      "state": {}
     },
     "23758f3365674812823d0264c417251c": {
      "model_module": "@jupyter-widgets/controls",
      "model_module_version": "1.4.0",
      "model_name": "HBoxModel",
      "state": {
       "children": [
        "IPY_MODEL_f210b6a39a204dbdb1cb1dbeb39d2881",
        "IPY_MODEL_f391ed214d7d449f9cbf8bb06f905325"
       ],
       "layout": "IPY_MODEL_d6e1fdaf850a4f5d8f18a0375cd779e9"
      }
     },
     "24c67095ac5d4d40b80052ef6fe816f0": {
      "model_module": "@jupyter-widgets/base",
      "model_module_version": "1.1.0",
      "model_name": "LayoutModel",
      "state": {}
     },
     "25be20bc67b141819c24df5feb5abcf3": {
      "model_module": "@jupyter-widgets/base",
      "model_module_version": "1.1.0",
      "model_name": "LayoutModel",
      "state": {}
     },
     "2627bffe26ef45be9ee6a532f6b3568b": {
      "model_module": "@jupyter-widgets/controls",
      "model_module_version": "1.4.0",
      "model_name": "DescriptionStyleModel",
      "state": {
       "description_width": ""
      }
     },
     "26309bc8dfdf4651ae6312f563f81ef5": {
      "model_module": "@jupyter-widgets/controls",
      "model_module_version": "1.4.0",
      "model_name": "HBoxModel",
      "state": {
       "children": [
        "IPY_MODEL_326c47192635405c864681df2065b21e",
        "IPY_MODEL_209fcd7ca56943959fed7ef8ad3658e4"
       ],
       "layout": "IPY_MODEL_86cb2041233e4a4e8f8cf72952562b21"
      }
     },
     "274913e0c1994c699beffce73301c1aa": {
      "model_module": "@jupyter-widgets/base",
      "model_module_version": "1.1.0",
      "model_name": "LayoutModel",
      "state": {}
     },
     "284b7d16521a4d189ce5df62ad029752": {
      "model_module": "@jupyter-widgets/controls",
      "model_module_version": "1.4.0",
      "model_name": "HBoxModel",
      "state": {
       "children": [
        "IPY_MODEL_f210b6a39a204dbdb1cb1dbeb39d2881",
        "IPY_MODEL_f391ed214d7d449f9cbf8bb06f905325"
       ],
       "layout": "IPY_MODEL_74cb31c3d051442b8ed7c84c2d0a8e8d"
      }
     },
     "2851833008294d3ba2756bc760e7cc66": {
      "model_module": "@jupyter-widgets/controls",
      "model_module_version": "1.4.0",
      "model_name": "HBoxModel",
      "state": {
       "children": [
        "IPY_MODEL_326c47192635405c864681df2065b21e",
        "IPY_MODEL_209fcd7ca56943959fed7ef8ad3658e4"
       ],
       "layout": "IPY_MODEL_92506324bcaa45a7bb84653599bfcf48"
      }
     },
     "28f34d5498af402291e01212cacc6483": {
      "model_module": "@jupyter-widgets/controls",
      "model_module_version": "1.4.0",
      "model_name": "HBoxModel",
      "state": {
       "children": [
        "IPY_MODEL_326c47192635405c864681df2065b21e",
        "IPY_MODEL_209fcd7ca56943959fed7ef8ad3658e4"
       ],
       "layout": "IPY_MODEL_5863cf89e6a646d9a5076ffede5a6ed1"
      }
     },
     "29aacb00cbf146a1ad6a232f587110f3": {
      "model_module": "@jupyter-widgets/base",
      "model_module_version": "1.1.0",
      "model_name": "LayoutModel",
      "state": {}
     },
     "2ccf84ddf2a745ec9a008c7f0efcbc7f": {
      "model_module": "@jupyter-widgets/base",
      "model_module_version": "1.1.0",
      "model_name": "LayoutModel",
      "state": {}
     },
     "2dd0e4f0b59146dd81a9dacbdd9976d1": {
      "model_module": "@jupyter-widgets/controls",
      "model_module_version": "1.4.0",
      "model_name": "VBoxModel",
      "state": {
       "children": [
        "IPY_MODEL_b778097e68fa43e788b2cfb54fddbfcb",
        "IPY_MODEL_0b61661898434b71a86964c78eef2507"
       ],
       "layout": "IPY_MODEL_6c0059d9bfe14c8984ddad7825ea1e2c"
      }
     },
     "2fd4b6f7367844eb8576075489c7c14b": {
      "model_module": "@jupyter-widgets/controls",
      "model_module_version": "1.4.0",
      "model_name": "VBoxModel",
      "state": {
       "children": [
        "IPY_MODEL_b778097e68fa43e788b2cfb54fddbfcb",
        "IPY_MODEL_0b61661898434b71a86964c78eef2507"
       ],
       "layout": "IPY_MODEL_2ccf84ddf2a745ec9a008c7f0efcbc7f"
      }
     },
     "308af3e5bfa74a68a6612839f9db1203": {
      "model_module": "@jupyter-widgets/controls",
      "model_module_version": "1.4.0",
      "model_name": "VBoxModel",
      "state": {
       "children": [
        "IPY_MODEL_b778097e68fa43e788b2cfb54fddbfcb",
        "IPY_MODEL_0b61661898434b71a86964c78eef2507"
       ],
       "layout": "IPY_MODEL_64e999ba80ac4ece8bdb7d44a07c1966"
      }
     },
     "3194c702f908441689b41effaca66ac8": {
      "model_module": "@jupyter-widgets/controls",
      "model_module_version": "1.4.0",
      "model_name": "HBoxModel",
      "state": {
       "children": [
        "IPY_MODEL_35d85cf62fe5477fb24e3c28db75a403",
        "IPY_MODEL_f59b1b10b9a64dccb5d3fe67406736d5"
       ],
       "layout": "IPY_MODEL_cef634da96e4411db1f77979b01436a1"
      }
     },
     "31ddddf53fab41e9b3e9f57849f85878": {
      "model_module": "@jupyter-widgets/controls",
      "model_module_version": "1.4.0",
      "model_name": "VBoxModel",
      "state": {
       "children": [
        "IPY_MODEL_6cfad9f5c58b4156b25abd7460972a29",
        "IPY_MODEL_7f9cdda51c9b488780a5445f1a4322f5",
        "IPY_MODEL_d2b3fdb763c14a91a8a0c6f176aabb82",
        "IPY_MODEL_f64bdbc4e24f40e4ad978b2d2eb32388",
        "IPY_MODEL_22933da800854d18b52be74d97a8172d",
        "IPY_MODEL_e9b3ce04094f4029b4bb3a44679f3be8",
        "IPY_MODEL_daae3848a21e4cd5971a8f3229c5501c",
        "IPY_MODEL_0b1aab90e9794f2ebb6cccaa7c976454",
        "IPY_MODEL_6154836be8964e0296196f4daf40d315"
       ],
       "layout": "IPY_MODEL_4f2c82ce00b947fb96916ab1300666d3"
      }
     },
     "3244f88cf6cc4c3f82169452e1fdfc75": {
      "model_module": "@jupyter-widgets/base",
      "model_module_version": "1.1.0",
      "model_name": "LayoutModel",
      "state": {}
     },
     "326c47192635405c864681df2065b21e": {
      "model_module": "@jupyter-widgets/controls",
      "model_module_version": "1.4.0",
      "model_name": "CheckboxModel",
      "state": {
       "description": "By Category?",
       "disabled": false,
       "indent": false,
       "layout": "IPY_MODEL_056d8ab969384406815d46b2acdae99e",
       "style": "IPY_MODEL_65366afbdcfd4a3dab33bd295b783b91",
       "value": true
      }
     },
     "333e88130a314e31ab692a13f95740df": {
      "model_module": "@jupyter-widgets/controls",
      "model_module_version": "1.4.0",
      "model_name": "HBoxModel",
      "state": {
       "children": [
        "IPY_MODEL_35d85cf62fe5477fb24e3c28db75a403",
        "IPY_MODEL_f59b1b10b9a64dccb5d3fe67406736d5"
       ],
       "layout": "IPY_MODEL_feb8c7fe5da947c59fc94d334293211f"
      }
     },
     "34e1153c0f7c43558b190fee1a9dbb08": {
      "model_module": "@jupyter-widgets/controls",
      "model_module_version": "1.4.0",
      "model_name": "VBoxModel",
      "state": {
       "children": [
        "IPY_MODEL_cfb094ba7cca4859a5e9a7dbf6b65d6f",
        "IPY_MODEL_cbe9e813a55c4844b240fa78d3cbc664",
        "IPY_MODEL_9aee7f7e6229400ca8ca0319ee579c27",
        "IPY_MODEL_f64bdbc4e24f40e4ad978b2d2eb32388",
        "IPY_MODEL_22933da800854d18b52be74d97a8172d",
        "IPY_MODEL_e94f4a6ab0f24100ba45fd33b4796df1",
        "IPY_MODEL_daae3848a21e4cd5971a8f3229c5501c",
        "IPY_MODEL_0b1aab90e9794f2ebb6cccaa7c976454",
        "IPY_MODEL_6154836be8964e0296196f4daf40d315"
       ],
       "layout": "IPY_MODEL_a9a0adb5eec2456790414075da934d6d"
      }
     },
     "35d85cf62fe5477fb24e3c28db75a403": {
      "model_module": "@jupyter-widgets/controls",
      "model_module_version": "1.4.0",
      "model_name": "CheckboxModel",
      "state": {
       "description": "Large Negative & Positive Correlation",
       "disabled": false,
       "indent": false,
       "layout": "IPY_MODEL_0805a72b3935440ebee68b452a8cfebd",
       "style": "IPY_MODEL_b4232ce97f8d457f9aa6b0d6b0463b04",
       "value": false
      }
     },
     "360626ec67eb4381851e4b6e39cc65b4": {
      "model_module": "@jupyter-widgets/controls",
      "model_module_version": "1.4.0",
      "model_name": "HBoxModel",
      "state": {
       "children": [
        "IPY_MODEL_f210b6a39a204dbdb1cb1dbeb39d2881",
        "IPY_MODEL_f391ed214d7d449f9cbf8bb06f905325"
       ],
       "layout": "IPY_MODEL_d865e0c67a0c49bfadd1878fffb3ebf3"
      }
     },
     "3607951c871f4b24b76d035cdefa3739": {
      "model_module": "@jupyter-widgets/controls",
      "model_module_version": "1.4.0",
      "model_name": "VBoxModel",
      "state": {
       "children": [
        "IPY_MODEL_6d96cb96deca4287a2a7cfd3d393c97b",
        "IPY_MODEL_7b5e46d6cb2f4342bfda996e3154c93e",
        "IPY_MODEL_580efd5aba304acd9a7e79bd026579d5",
        "IPY_MODEL_f64bdbc4e24f40e4ad978b2d2eb32388",
        "IPY_MODEL_22933da800854d18b52be74d97a8172d",
        "IPY_MODEL_26309bc8dfdf4651ae6312f563f81ef5",
        "IPY_MODEL_daae3848a21e4cd5971a8f3229c5501c",
        "IPY_MODEL_0b1aab90e9794f2ebb6cccaa7c976454",
        "IPY_MODEL_6154836be8964e0296196f4daf40d315"
       ],
       "layout": "IPY_MODEL_be98835370454cd79ec603fafdfbfb5f"
      }
     },
     "36778b51cde449509e84125653544f95": {
      "model_module": "@jupyter-widgets/base",
      "model_module_version": "1.1.0",
      "model_name": "LayoutModel",
      "state": {}
     },
     "368ed212acd94c14b0f80279e54289d3": {
      "model_module": "@jupyter-widgets/controls",
      "model_module_version": "1.4.0",
      "model_name": "SliderStyleModel",
      "state": {
       "description_width": ""
      }
     },
     "36a8014cdedf4d0b9d1c96b9a0ca722e": {
      "model_module": "@jupyter-widgets/controls",
      "model_module_version": "1.4.0",
      "model_name": "HBoxModel",
      "state": {
       "children": [
        "IPY_MODEL_f210b6a39a204dbdb1cb1dbeb39d2881",
        "IPY_MODEL_f391ed214d7d449f9cbf8bb06f905325"
       ],
       "layout": "IPY_MODEL_e06b4bfc41314e9e841a74ba251497da"
      }
     },
     "37973d8a379c4c108d9162687bab5658": {
      "model_module": "@jupyter-widgets/controls",
      "model_module_version": "1.4.0",
      "model_name": "IntSliderModel",
      "state": {
       "layout": "IPY_MODEL_07880577904044a09a5fd0e424a4f10f",
       "style": "IPY_MODEL_fa8734aa8cef481baf470e2390ba7724",
       "value": 40
      }
     },
     "3aff0639bc464ab49950084de33eb110": {
      "model_module": "@jupyter-widgets/base",
      "model_module_version": "1.1.0",
      "model_name": "LayoutModel",
      "state": {}
     },
     "3b4edd0e09fa45e897663086c29503d2": {
      "model_module": "@jupyter-widgets/controls",
      "model_module_version": "1.4.0",
      "model_name": "VBoxModel",
      "state": {
       "children": [
        "IPY_MODEL_f678742f4b5343e184a4cd14e9afa890",
        "IPY_MODEL_46a77e7591df4a2da544a80237c14b42",
        "IPY_MODEL_863870ea3943432a9ef778196e813549",
        "IPY_MODEL_f64bdbc4e24f40e4ad978b2d2eb32388",
        "IPY_MODEL_22933da800854d18b52be74d97a8172d",
        "IPY_MODEL_0fbb69fcc81748af9e183cd057cf9ff7",
        "IPY_MODEL_daae3848a21e4cd5971a8f3229c5501c",
        "IPY_MODEL_0b1aab90e9794f2ebb6cccaa7c976454",
        "IPY_MODEL_6154836be8964e0296196f4daf40d315"
       ],
       "layout": "IPY_MODEL_3c69902be16f48adbdcd5dc53ea88a3e"
      }
     },
     "3bc5f74f9de04412ae8425fa6dcada8b": {
      "model_module": "@jupyter-widgets/base",
      "model_module_version": "1.1.0",
      "model_name": "LayoutModel",
      "state": {}
     },
     "3c4a06a22905476da1671c5fe5487604": {
      "model_module": "@jupyter-widgets/controls",
      "model_module_version": "1.4.0",
      "model_name": "VBoxModel",
      "state": {
       "children": [
        "IPY_MODEL_b778097e68fa43e788b2cfb54fddbfcb",
        "IPY_MODEL_0b61661898434b71a86964c78eef2507"
       ],
       "layout": "IPY_MODEL_03342a4c22d44f2b83fd4dc03f555ca1"
      }
     },
     "3c69902be16f48adbdcd5dc53ea88a3e": {
      "model_module": "@jupyter-widgets/base",
      "model_module_version": "1.1.0",
      "model_name": "LayoutModel",
      "state": {}
     },
     "3d1103399cf842579b21e7bb3ec8c5d4": {
      "model_module": "@jupyter-widgets/controls",
      "model_module_version": "1.4.0",
      "model_name": "VBoxModel",
      "state": {
       "children": [
        "IPY_MODEL_308af3e5bfa74a68a6612839f9db1203",
        "IPY_MODEL_8b45c5ede2d143d080cc583d50c84bfa",
        "IPY_MODEL_ebe2c6973115454980771e5c557297cb",
        "IPY_MODEL_f64bdbc4e24f40e4ad978b2d2eb32388",
        "IPY_MODEL_22933da800854d18b52be74d97a8172d",
        "IPY_MODEL_2851833008294d3ba2756bc760e7cc66",
        "IPY_MODEL_daae3848a21e4cd5971a8f3229c5501c",
        "IPY_MODEL_0b1aab90e9794f2ebb6cccaa7c976454",
        "IPY_MODEL_6154836be8964e0296196f4daf40d315"
       ],
       "layout": "IPY_MODEL_131b616d49484ae19eb898ff36f6b3dc"
      }
     },
     "3f1de040448b44c699639c564dfce087": {
      "model_module": "@jupyter-widgets/controls",
      "model_module_version": "1.4.0",
      "model_name": "HBoxModel",
      "state": {
       "children": [
        "IPY_MODEL_f210b6a39a204dbdb1cb1dbeb39d2881",
        "IPY_MODEL_f391ed214d7d449f9cbf8bb06f905325"
       ],
       "layout": "IPY_MODEL_41a521d627e64aa1a057f299e6165ba4"
      }
     },
     "3f77b743d2a041a9b12bbbf53c3aa9ca": {
      "model_module": "@jupyter-widgets/base",
      "model_module_version": "1.1.0",
      "model_name": "LayoutModel",
      "state": {}
     },
     "407fd53bac6b40d8af323083bc0bb1af": {
      "model_module": "@jupyter-widgets/base",
      "model_module_version": "1.1.0",
      "model_name": "LayoutModel",
      "state": {}
     },
     "4091f8d3ba9349c7a78019493a0abdf7": {
      "model_module": "@jupyter-widgets/controls",
      "model_module_version": "1.4.0",
      "model_name": "HBoxModel",
      "state": {
       "children": [
        "IPY_MODEL_326c47192635405c864681df2065b21e",
        "IPY_MODEL_209fcd7ca56943959fed7ef8ad3658e4"
       ],
       "layout": "IPY_MODEL_a49291d021d442e7a91b41b01c6b572b"
      }
     },
     "41a521d627e64aa1a057f299e6165ba4": {
      "model_module": "@jupyter-widgets/base",
      "model_module_version": "1.1.0",
      "model_name": "LayoutModel",
      "state": {}
     },
     "429e86bd4eef40a288d6b118eef8f9d4": {
      "model_module": "@jupyter-widgets/controls",
      "model_module_version": "1.4.0",
      "model_name": "HBoxModel",
      "state": {
       "children": [
        "IPY_MODEL_f210b6a39a204dbdb1cb1dbeb39d2881",
        "IPY_MODEL_f391ed214d7d449f9cbf8bb06f905325"
       ],
       "layout": "IPY_MODEL_e4b0b164850248d2a7ab98f3a0b6f5b5"
      }
     },
     "4310f9c97ceb45cf96e3f5a985ccb801": {
      "model_module": "@jupyter-widgets/base",
      "model_module_version": "1.1.0",
      "model_name": "LayoutModel",
      "state": {}
     },
     "431fc0bd9ebc4d979c8e7d221e9a14e2": {
      "model_module": "@jupyter-widgets/base",
      "model_module_version": "1.1.0",
      "model_name": "LayoutModel",
      "state": {}
     },
     "4427591ac01b4704a377b1c71a6fe17b": {
      "model_module": "@jupyter-widgets/base",
      "model_module_version": "1.1.0",
      "model_name": "LayoutModel",
      "state": {}
     },
     "45484c247e2c40cdac22626fd53b0d1d": {
      "model_module": "@jupyter-widgets/controls",
      "model_module_version": "1.4.0",
      "model_name": "DescriptionStyleModel",
      "state": {
       "description_width": ""
      }
     },
     "46a77e7591df4a2da544a80237c14b42": {
      "model_module": "@jupyter-widgets/controls",
      "model_module_version": "1.4.0",
      "model_name": "HBoxModel",
      "state": {
       "children": [
        "IPY_MODEL_35d85cf62fe5477fb24e3c28db75a403",
        "IPY_MODEL_f59b1b10b9a64dccb5d3fe67406736d5"
       ],
       "layout": "IPY_MODEL_586ed15bd6ae46c88240c43e68170f77"
      }
     },
     "48881f88d6d9497d9fbd41a71679ae9d": {
      "model_module": "@jupyter-widgets/controls",
      "model_module_version": "1.4.0",
      "model_name": "DescriptionStyleModel",
      "state": {
       "description_width": ""
      }
     },
     "497eb641863b44bba628ae017b493eda": {
      "model_module": "@jupyter-widgets/controls",
      "model_module_version": "1.4.0",
      "model_name": "VBoxModel",
      "state": {
       "children": [
        "IPY_MODEL_b2dd86cccf7046cf92a4ff2123d229d7",
        "IPY_MODEL_c336ce10a925412e9fd9c6f583f5c7c8",
        "IPY_MODEL_514e5eca9cb1477aaf465b7dd79c6388",
        "IPY_MODEL_f64bdbc4e24f40e4ad978b2d2eb32388",
        "IPY_MODEL_22933da800854d18b52be74d97a8172d",
        "IPY_MODEL_fd7f91e48c674663bd9d3ea7c086f06d",
        "IPY_MODEL_daae3848a21e4cd5971a8f3229c5501c",
        "IPY_MODEL_0b1aab90e9794f2ebb6cccaa7c976454",
        "IPY_MODEL_6154836be8964e0296196f4daf40d315"
       ],
       "layout": "IPY_MODEL_56f5f869089b4f4d84ffd8f06eb5e91e"
      }
     },
     "4b0ac0f80b3e4f13bc1c15ea7bcad02b": {
      "model_module": "@jupyter-widgets/base",
      "model_module_version": "1.1.0",
      "model_name": "LayoutModel",
      "state": {}
     },
     "4b7491a3f9dd446fbeef0e48e6aa8035": {
      "model_module": "@jupyter-widgets/controls",
      "model_module_version": "1.4.0",
      "model_name": "HBoxModel",
      "state": {
       "children": [
        "IPY_MODEL_326c47192635405c864681df2065b21e",
        "IPY_MODEL_209fcd7ca56943959fed7ef8ad3658e4"
       ],
       "layout": "IPY_MODEL_1c201eac76cc431f80cc72212afed93f"
      }
     },
     "4bcca8fd9ca54be19b3c718800bc615c": {
      "model_module": "@jupyter-widgets/controls",
      "model_module_version": "1.4.0",
      "model_name": "HBoxModel",
      "state": {
       "children": [
        "IPY_MODEL_326c47192635405c864681df2065b21e",
        "IPY_MODEL_209fcd7ca56943959fed7ef8ad3658e4"
       ],
       "layout": "IPY_MODEL_cf76d59c41184fc88797fd089975a583"
      }
     },
     "4c5cd177f1b24781b4507d96e2d4a898": {
      "model_module": "@jupyter-widgets/controls",
      "model_module_version": "1.4.0",
      "model_name": "HBoxModel",
      "state": {
       "children": [
        "IPY_MODEL_f210b6a39a204dbdb1cb1dbeb39d2881",
        "IPY_MODEL_f391ed214d7d449f9cbf8bb06f905325"
       ],
       "layout": "IPY_MODEL_29aacb00cbf146a1ad6a232f587110f3"
      }
     },
     "4dfa5d6332bd4f25945efbbe899795e5": {
      "model_module": "@jupyter-widgets/controls",
      "model_module_version": "1.4.0",
      "model_name": "VBoxModel",
      "state": {
       "children": [
        "IPY_MODEL_d35a51ff157c416f87848d6b95db7b83",
        "IPY_MODEL_8165dc74a4684442b74dabb6e2c10e63",
        "IPY_MODEL_0151f3eb27ba4196b7a0c4719f436399",
        "IPY_MODEL_f64bdbc4e24f40e4ad978b2d2eb32388",
        "IPY_MODEL_22933da800854d18b52be74d97a8172d",
        "IPY_MODEL_4b7491a3f9dd446fbeef0e48e6aa8035",
        "IPY_MODEL_daae3848a21e4cd5971a8f3229c5501c",
        "IPY_MODEL_0b1aab90e9794f2ebb6cccaa7c976454",
        "IPY_MODEL_6154836be8964e0296196f4daf40d315"
       ],
       "layout": "IPY_MODEL_7b1bf92b638b47158cad900c5dfc8570"
      }
     },
     "4e57b29c26d9402db4820df7d61860b8": {
      "model_module": "@jupyter-widgets/controls",
      "model_module_version": "1.4.0",
      "model_name": "VBoxModel",
      "state": {
       "children": [
        "IPY_MODEL_b778097e68fa43e788b2cfb54fddbfcb",
        "IPY_MODEL_0b61661898434b71a86964c78eef2507"
       ],
       "layout": "IPY_MODEL_588ce7ddae9c49889d1d1f4502be6b0e"
      }
     },
     "4f2c82ce00b947fb96916ab1300666d3": {
      "model_module": "@jupyter-widgets/base",
      "model_module_version": "1.1.0",
      "model_name": "LayoutModel",
      "state": {}
     },
     "514e5eca9cb1477aaf465b7dd79c6388": {
      "model_module": "@jupyter-widgets/controls",
      "model_module_version": "1.4.0",
      "model_name": "HBoxModel",
      "state": {
       "children": [
        "IPY_MODEL_f210b6a39a204dbdb1cb1dbeb39d2881",
        "IPY_MODEL_f391ed214d7d449f9cbf8bb06f905325"
       ],
       "layout": "IPY_MODEL_836726859d644bc6b5876ada5339f4d6"
      }
     },
     "51c17b19d4874202871737b31cbb7f58": {
      "model_module": "@jupyter-widgets/base",
      "model_module_version": "1.1.0",
      "model_name": "LayoutModel",
      "state": {}
     },
     "520928088756478bbf87e2836b2a0bf6": {
      "model_module": "@jupyter-widgets/controls",
      "model_module_version": "1.4.0",
      "model_name": "DescriptionStyleModel",
      "state": {
       "description_width": ""
      }
     },
     "52678e18973f47148f54cef88f281b2d": {
      "model_module": "@jupyter-widgets/controls",
      "model_module_version": "1.4.0",
      "model_name": "HBoxModel",
      "state": {
       "children": [
        "IPY_MODEL_f210b6a39a204dbdb1cb1dbeb39d2881",
        "IPY_MODEL_f391ed214d7d449f9cbf8bb06f905325"
       ],
       "layout": "IPY_MODEL_5b974e437f014163bcbd53d3222fc856"
      }
     },
     "526e7820b1c54368836d3a9b4f7ca685": {
      "model_module": "@jupyter-widgets/base",
      "model_module_version": "1.1.0",
      "model_name": "LayoutModel",
      "state": {}
     },
     "547b460504ae48d0a302bdae684f0803": {
      "model_module": "@jupyter-widgets/base",
      "model_module_version": "1.1.0",
      "model_name": "LayoutModel",
      "state": {}
     },
     "55c58bb712a1471b98d672665b27a058": {
      "model_module": "@jupyter-widgets/controls",
      "model_module_version": "1.4.0",
      "model_name": "HBoxModel",
      "state": {
       "children": [
        "IPY_MODEL_326c47192635405c864681df2065b21e",
        "IPY_MODEL_209fcd7ca56943959fed7ef8ad3658e4"
       ],
       "layout": "IPY_MODEL_057110d5390d474891e43d4ff419a3af"
      }
     },
     "56f5f869089b4f4d84ffd8f06eb5e91e": {
      "model_module": "@jupyter-widgets/base",
      "model_module_version": "1.1.0",
      "model_name": "LayoutModel",
      "state": {}
     },
     "57d44765d8924ec6a7696a60990ff54a": {
      "model_module": "@jupyter-widgets/controls",
      "model_module_version": "1.4.0",
      "model_name": "DescriptionStyleModel",
      "state": {
       "description_width": ""
      }
     },
     "580efd5aba304acd9a7e79bd026579d5": {
      "model_module": "@jupyter-widgets/controls",
      "model_module_version": "1.4.0",
      "model_name": "HBoxModel",
      "state": {
       "children": [
        "IPY_MODEL_f210b6a39a204dbdb1cb1dbeb39d2881",
        "IPY_MODEL_f391ed214d7d449f9cbf8bb06f905325"
       ],
       "layout": "IPY_MODEL_675f72da11e648169972185308726a5a"
      }
     },
     "5863cf89e6a646d9a5076ffede5a6ed1": {
      "model_module": "@jupyter-widgets/base",
      "model_module_version": "1.1.0",
      "model_name": "LayoutModel",
      "state": {}
     },
     "586ed15bd6ae46c88240c43e68170f77": {
      "model_module": "@jupyter-widgets/base",
      "model_module_version": "1.1.0",
      "model_name": "LayoutModel",
      "state": {}
     },
     "588ce7ddae9c49889d1d1f4502be6b0e": {
      "model_module": "@jupyter-widgets/base",
      "model_module_version": "1.1.0",
      "model_name": "LayoutModel",
      "state": {}
     },
     "5ac187b884a74daaa580fd41f9a617cd": {
      "model_module": "@jupyter-widgets/base",
      "model_module_version": "1.1.0",
      "model_name": "LayoutModel",
      "state": {}
     },
     "5b5e24de06e749878a86922da68dab23": {
      "model_module": "@jupyter-widgets/controls",
      "model_module_version": "1.4.0",
      "model_name": "VBoxModel",
      "state": {
       "children": [
        "IPY_MODEL_3c4a06a22905476da1671c5fe5487604",
        "IPY_MODEL_0bd3bbf2a89a4c0f80927857e7456bac",
        "IPY_MODEL_ea38efd079784f53be455d964d7c40ba",
        "IPY_MODEL_f64bdbc4e24f40e4ad978b2d2eb32388",
        "IPY_MODEL_22933da800854d18b52be74d97a8172d",
        "IPY_MODEL_da99f71214824942bed57609903b2f13",
        "IPY_MODEL_daae3848a21e4cd5971a8f3229c5501c",
        "IPY_MODEL_0b1aab90e9794f2ebb6cccaa7c976454",
        "IPY_MODEL_6154836be8964e0296196f4daf40d315"
       ],
       "layout": "IPY_MODEL_cf8cc35febe94ee0a72e729903cc983b"
      }
     },
     "5b7482c6111742b6ad1db09dfe9af0f2": {
      "model_module": "@jupyter-widgets/controls",
      "model_module_version": "1.4.0",
      "model_name": "HBoxModel",
      "state": {
       "children": [
        "IPY_MODEL_326c47192635405c864681df2065b21e",
        "IPY_MODEL_209fcd7ca56943959fed7ef8ad3658e4"
       ],
       "layout": "IPY_MODEL_d0aac205a81a481392b2f703b354c471"
      }
     },
     "5b974e437f014163bcbd53d3222fc856": {
      "model_module": "@jupyter-widgets/base",
      "model_module_version": "1.1.0",
      "model_name": "LayoutModel",
      "state": {}
     },
     "5dc2a1acbc69418aac146739abd4c260": {
      "model_module": "@jupyter-widgets/controls",
      "model_module_version": "1.4.0",
      "model_name": "VBoxModel",
      "state": {
       "children": [
        "IPY_MODEL_72a25f8a77cb4a56a3546c82f4d8f177",
        "IPY_MODEL_12f5e7a4aa9646f3b52b6771e10e66b9",
        "IPY_MODEL_6d409338590a49c7897d3948be6e2a55",
        "IPY_MODEL_f64bdbc4e24f40e4ad978b2d2eb32388",
        "IPY_MODEL_22933da800854d18b52be74d97a8172d",
        "IPY_MODEL_870df071b45847bdbb9fe9a3e48052e4",
        "IPY_MODEL_daae3848a21e4cd5971a8f3229c5501c",
        "IPY_MODEL_0b1aab90e9794f2ebb6cccaa7c976454",
        "IPY_MODEL_6154836be8964e0296196f4daf40d315"
       ],
       "layout": "IPY_MODEL_b8e6c83f181844c08e8b82af327284c7"
      }
     },
     "5e7e3ea7252b4c9db89b5893aafab64e": {
      "model_module": "@jupyter-widgets/controls",
      "model_module_version": "1.4.0",
      "model_name": "HBoxModel",
      "state": {
       "children": [
        "IPY_MODEL_35d85cf62fe5477fb24e3c28db75a403",
        "IPY_MODEL_f59b1b10b9a64dccb5d3fe67406736d5"
       ],
       "layout": "IPY_MODEL_4b0ac0f80b3e4f13bc1c15ea7bcad02b"
      }
     },
     "606de75ae595452581e2d98c1321cc45": {
      "model_module": "@jupyter-widgets/controls",
      "model_module_version": "1.4.0",
      "model_name": "VBoxModel",
      "state": {
       "children": [
        "IPY_MODEL_b778097e68fa43e788b2cfb54fddbfcb",
        "IPY_MODEL_0b61661898434b71a86964c78eef2507"
       ],
       "layout": "IPY_MODEL_d4dd94bee4a64db1b9effcf9e7ff1838"
      }
     },
     "608448dd909345c4829f39790a952d01": {
      "model_module": "@jupyter-widgets/base",
      "model_module_version": "1.1.0",
      "model_name": "LayoutModel",
      "state": {}
     },
     "6154836be8964e0296196f4daf40d315": {
      "model_module": "@jupyter-widgets/controls",
      "model_module_version": "1.4.0",
      "model_name": "ButtonModel",
      "state": {
       "description": "Submit",
       "icon": "check",
       "layout": "IPY_MODEL_6759e57476cc4b8fa2eb8d5eec00a856",
       "style": "IPY_MODEL_e8b4e7fead26452ba275be969adede91",
       "tooltip": "Submit"
      }
     },
     "6308c596ea884d3783d3f89aa75684bb": {
      "model_module": "@jupyter-widgets/base",
      "model_module_version": "1.1.0",
      "model_name": "LayoutModel",
      "state": {}
     },
     "63dca0ab5ab44951b680265b0dc086b6": {
      "model_module": "@jupyter-widgets/base",
      "model_module_version": "1.1.0",
      "model_name": "LayoutModel",
      "state": {}
     },
     "6449902db53a4f7ca99ac238e4ba0c5e": {
      "model_module": "@jupyter-widgets/controls",
      "model_module_version": "1.4.0",
      "model_name": "HBoxModel",
      "state": {
       "children": [
        "IPY_MODEL_326c47192635405c864681df2065b21e",
        "IPY_MODEL_209fcd7ca56943959fed7ef8ad3658e4"
       ],
       "layout": "IPY_MODEL_bb50e6e77490409398c1217a39a6c10a"
      }
     },
     "645abe26f0f34763b1d22a21d9f7a674": {
      "model_module": "@jupyter-widgets/controls",
      "model_module_version": "1.4.0",
      "model_name": "HBoxModel",
      "state": {
       "children": [
        "IPY_MODEL_35d85cf62fe5477fb24e3c28db75a403",
        "IPY_MODEL_f59b1b10b9a64dccb5d3fe67406736d5"
       ],
       "layout": "IPY_MODEL_01e551aae5fb435caf6cc77286ab577c"
      }
     },
     "6460eb0860f949b3b603ecbb25a800cb": {
      "model_module": "@jupyter-widgets/controls",
      "model_module_version": "1.4.0",
      "model_name": "DescriptionStyleModel",
      "state": {
       "description_width": ""
      }
     },
     "64e999ba80ac4ece8bdb7d44a07c1966": {
      "model_module": "@jupyter-widgets/base",
      "model_module_version": "1.1.0",
      "model_name": "LayoutModel",
      "state": {}
     },
     "65366afbdcfd4a3dab33bd295b783b91": {
      "model_module": "@jupyter-widgets/controls",
      "model_module_version": "1.4.0",
      "model_name": "DescriptionStyleModel",
      "state": {
       "description_width": ""
      }
     },
     "65785b6f3dbd4b5ea40c6e65d688c1c7": {
      "model_module": "@jupyter-widgets/controls",
      "model_module_version": "1.4.0",
      "model_name": "VBoxModel",
      "state": {
       "children": [
        "IPY_MODEL_b57892a490bc4960bdc1a50cec3b50c5",
        "IPY_MODEL_5e7e3ea7252b4c9db89b5893aafab64e",
        "IPY_MODEL_daa0ff60744446c3846a66e8e37cb570",
        "IPY_MODEL_f64bdbc4e24f40e4ad978b2d2eb32388",
        "IPY_MODEL_22933da800854d18b52be74d97a8172d",
        "IPY_MODEL_28f34d5498af402291e01212cacc6483",
        "IPY_MODEL_daae3848a21e4cd5971a8f3229c5501c",
        "IPY_MODEL_0b1aab90e9794f2ebb6cccaa7c976454",
        "IPY_MODEL_6154836be8964e0296196f4daf40d315"
       ],
       "layout": "IPY_MODEL_c82d3fa945974017a7784633b6182ebf"
      }
     },
     "6587089c475246b1a052bb0b9c66ac82": {
      "model_module": "@jupyter-widgets/controls",
      "model_module_version": "1.4.0",
      "model_name": "VBoxModel",
      "state": {
       "children": [
        "IPY_MODEL_1c7956c07a0748b7be35acb2b652172b",
        "IPY_MODEL_645abe26f0f34763b1d22a21d9f7a674",
        "IPY_MODEL_23758f3365674812823d0264c417251c",
        "IPY_MODEL_f64bdbc4e24f40e4ad978b2d2eb32388",
        "IPY_MODEL_22933da800854d18b52be74d97a8172d",
        "IPY_MODEL_55c58bb712a1471b98d672665b27a058",
        "IPY_MODEL_daae3848a21e4cd5971a8f3229c5501c",
        "IPY_MODEL_0b1aab90e9794f2ebb6cccaa7c976454",
        "IPY_MODEL_6154836be8964e0296196f4daf40d315"
       ],
       "layout": "IPY_MODEL_a885ccbebadd4f39a63990800f94befd"
      }
     },
     "672fefe6a4254eb886065f7474d7a81f": {
      "model_module": "@jupyter-widgets/base",
      "model_module_version": "1.1.0",
      "model_name": "LayoutModel",
      "state": {}
     },
     "6759e57476cc4b8fa2eb8d5eec00a856": {
      "model_module": "@jupyter-widgets/base",
      "model_module_version": "1.1.0",
      "model_name": "LayoutModel",
      "state": {}
     },
     "675f72da11e648169972185308726a5a": {
      "model_module": "@jupyter-widgets/base",
      "model_module_version": "1.1.0",
      "model_name": "LayoutModel",
      "state": {}
     },
     "6a58b845e75d437f80f2cc76acd01127": {
      "model_module": "@jupyter-widgets/base",
      "model_module_version": "1.1.0",
      "model_name": "LayoutModel",
      "state": {}
     },
     "6b8c4a7ff82d4f7e9cbde66dec3f59d5": {
      "model_module": "@jupyter-widgets/base",
      "model_module_version": "1.1.0",
      "model_name": "LayoutModel",
      "state": {}
     },
     "6bc92501ad044ecf904e14f4ea9f8313": {
      "model_module": "@jupyter-widgets/controls",
      "model_module_version": "1.4.0",
      "model_name": "VBoxModel",
      "state": {
       "children": [
        "IPY_MODEL_b778097e68fa43e788b2cfb54fddbfcb",
        "IPY_MODEL_0b61661898434b71a86964c78eef2507"
       ],
       "layout": "IPY_MODEL_96d3034093f549c8a99f1c6047698f96"
      }
     },
     "6c0059d9bfe14c8984ddad7825ea1e2c": {
      "model_module": "@jupyter-widgets/base",
      "model_module_version": "1.1.0",
      "model_name": "LayoutModel",
      "state": {}
     },
     "6c99f648742e4ff688d5ba1884c28915": {
      "model_module": "@jupyter-widgets/controls",
      "model_module_version": "1.4.0",
      "model_name": "VBoxModel",
      "state": {
       "children": [
        "IPY_MODEL_d4d974a0ad514f52a2e8bcbea4ef65bc",
        "IPY_MODEL_00d3c80fb1334823bbce8999c35d03b8",
        "IPY_MODEL_d2ec3e2b1c3447f680d86360e1a1b37f",
        "IPY_MODEL_f64bdbc4e24f40e4ad978b2d2eb32388",
        "IPY_MODEL_22933da800854d18b52be74d97a8172d",
        "IPY_MODEL_93cd2ae190cd4c3da21711f6c4fe7eda",
        "IPY_MODEL_daae3848a21e4cd5971a8f3229c5501c",
        "IPY_MODEL_0b1aab90e9794f2ebb6cccaa7c976454",
        "IPY_MODEL_6154836be8964e0296196f4daf40d315"
       ],
       "layout": "IPY_MODEL_c4efd47a47604db0a6c507d1819165c4"
      }
     },
     "6ccccc21bfb444939c555ffcab5df5c3": {
      "model_module": "@jupyter-widgets/base",
      "model_module_version": "1.1.0",
      "model_name": "LayoutModel",
      "state": {}
     },
     "6ccfeec84d164c0786d590d2f5d3dd54": {
      "model_module": "@jupyter-widgets/controls",
      "model_module_version": "1.4.0",
      "model_name": "VBoxModel",
      "state": {
       "children": [
        "IPY_MODEL_b778097e68fa43e788b2cfb54fddbfcb",
        "IPY_MODEL_0b61661898434b71a86964c78eef2507"
       ],
       "layout": "IPY_MODEL_826132e0b08a4d6c8374230519b09e5a"
      }
     },
     "6cfad9f5c58b4156b25abd7460972a29": {
      "model_module": "@jupyter-widgets/controls",
      "model_module_version": "1.4.0",
      "model_name": "VBoxModel",
      "state": {
       "children": [
        "IPY_MODEL_b778097e68fa43e788b2cfb54fddbfcb",
        "IPY_MODEL_0b61661898434b71a86964c78eef2507"
       ],
       "layout": "IPY_MODEL_6308c596ea884d3783d3f89aa75684bb"
      }
     },
     "6d409338590a49c7897d3948be6e2a55": {
      "model_module": "@jupyter-widgets/controls",
      "model_module_version": "1.4.0",
      "model_name": "HBoxModel",
      "state": {
       "children": [
        "IPY_MODEL_f210b6a39a204dbdb1cb1dbeb39d2881",
        "IPY_MODEL_f391ed214d7d449f9cbf8bb06f905325"
       ],
       "layout": "IPY_MODEL_905115458a5e4760979f2624cfde9f16"
      }
     },
     "6d833598181347f6a4be49798e50be82": {
      "model_module": "@jupyter-widgets/controls",
      "model_module_version": "1.4.0",
      "model_name": "HBoxModel",
      "state": {
       "children": [
        "IPY_MODEL_35d85cf62fe5477fb24e3c28db75a403",
        "IPY_MODEL_f59b1b10b9a64dccb5d3fe67406736d5"
       ],
       "layout": "IPY_MODEL_97f10ca9dc754d3284737068ee51cd0c"
      }
     },
     "6d96cb96deca4287a2a7cfd3d393c97b": {
      "model_module": "@jupyter-widgets/controls",
      "model_module_version": "1.4.0",
      "model_name": "VBoxModel",
      "state": {
       "children": [
        "IPY_MODEL_b778097e68fa43e788b2cfb54fddbfcb",
        "IPY_MODEL_0b61661898434b71a86964c78eef2507"
       ],
       "layout": "IPY_MODEL_75d6671028b145a0984cd1aeaf0627cc"
      }
     },
     "6fc43f452bf341e095572837ad4c291d": {
      "model_module": "@jupyter-widgets/controls",
      "model_module_version": "1.4.0",
      "model_name": "HBoxModel",
      "state": {
       "children": [
        "IPY_MODEL_f210b6a39a204dbdb1cb1dbeb39d2881",
        "IPY_MODEL_f391ed214d7d449f9cbf8bb06f905325"
       ],
       "layout": "IPY_MODEL_e20d2371051f405b9d599dbe256b4d60"
      }
     },
     "72a25f8a77cb4a56a3546c82f4d8f177": {
      "model_module": "@jupyter-widgets/controls",
      "model_module_version": "1.4.0",
      "model_name": "VBoxModel",
      "state": {
       "children": [
        "IPY_MODEL_b778097e68fa43e788b2cfb54fddbfcb",
        "IPY_MODEL_0b61661898434b71a86964c78eef2507"
       ],
       "layout": "IPY_MODEL_e2eedb187b6346979af2bc1de6043f1c"
      }
     },
     "742671a295304de59ecd347b4d10159d": {
      "model_module": "@jupyter-widgets/controls",
      "model_module_version": "1.4.0",
      "model_name": "DescriptionStyleModel",
      "state": {
       "description_width": ""
      }
     },
     "74cb31c3d051442b8ed7c84c2d0a8e8d": {
      "model_module": "@jupyter-widgets/base",
      "model_module_version": "1.1.0",
      "model_name": "LayoutModel",
      "state": {}
     },
     "75d6671028b145a0984cd1aeaf0627cc": {
      "model_module": "@jupyter-widgets/base",
      "model_module_version": "1.1.0",
      "model_name": "LayoutModel",
      "state": {}
     },
     "7686aca06c794f50bb7d1417b824c8fa": {
      "model_module": "@jupyter-widgets/controls",
      "model_module_version": "1.4.0",
      "model_name": "DescriptionStyleModel",
      "state": {
       "description_width": ""
      }
     },
     "769933fa61e546bb9d9dd68611b9127c": {
      "model_module": "@jupyter-widgets/controls",
      "model_module_version": "1.4.0",
      "model_name": "VBoxModel",
      "state": {
       "children": [
        "IPY_MODEL_b778097e68fa43e788b2cfb54fddbfcb",
        "IPY_MODEL_0b61661898434b71a86964c78eef2507"
       ],
       "layout": "IPY_MODEL_c70c05b9433842dfaa66ab3e0c2c5ad5"
      }
     },
     "7880bea47dfe4461ae9eae63b26ad993": {
      "model_module": "@jupyter-widgets/base",
      "model_module_version": "1.1.0",
      "model_name": "LayoutModel",
      "state": {}
     },
     "799478e1874c4e91a783f0ce2dd6752e": {
      "model_module": "@jupyter-widgets/base",
      "model_module_version": "1.1.0",
      "model_name": "LayoutModel",
      "state": {}
     },
     "7aad1e645f3643a9887861ac97d4976c": {
      "model_module": "@jupyter-widgets/base",
      "model_module_version": "1.1.0",
      "model_name": "LayoutModel",
      "state": {}
     },
     "7b1bf92b638b47158cad900c5dfc8570": {
      "model_module": "@jupyter-widgets/base",
      "model_module_version": "1.1.0",
      "model_name": "LayoutModel",
      "state": {}
     },
     "7b5e46d6cb2f4342bfda996e3154c93e": {
      "model_module": "@jupyter-widgets/controls",
      "model_module_version": "1.4.0",
      "model_name": "HBoxModel",
      "state": {
       "children": [
        "IPY_MODEL_35d85cf62fe5477fb24e3c28db75a403",
        "IPY_MODEL_f59b1b10b9a64dccb5d3fe67406736d5"
       ],
       "layout": "IPY_MODEL_4310f9c97ceb45cf96e3f5a985ccb801"
      }
     },
     "7cf5b813728d4235a7f601992b4b3601": {
      "model_module": "@jupyter-widgets/controls",
      "model_module_version": "1.4.0",
      "model_name": "HBoxModel",
      "state": {
       "children": [
        "IPY_MODEL_35d85cf62fe5477fb24e3c28db75a403",
        "IPY_MODEL_f59b1b10b9a64dccb5d3fe67406736d5"
       ],
       "layout": "IPY_MODEL_fc43b6805e584ba7a051fbb1aad108af"
      }
     },
     "7e22970c58af43d0b8c2aaac55d7bb7b": {
      "model_module": "@jupyter-widgets/base",
      "model_module_version": "1.1.0",
      "model_name": "LayoutModel",
      "state": {}
     },
     "7e64a826dc054800b13bb35e2c56bcf2": {
      "model_module": "@jupyter-widgets/controls",
      "model_module_version": "1.4.0",
      "model_name": "HBoxModel",
      "state": {
       "children": [
        "IPY_MODEL_35d85cf62fe5477fb24e3c28db75a403",
        "IPY_MODEL_f59b1b10b9a64dccb5d3fe67406736d5"
       ],
       "layout": "IPY_MODEL_08dbc290a7734a80ac832893b3f75ff1"
      }
     },
     "7f9cdda51c9b488780a5445f1a4322f5": {
      "model_module": "@jupyter-widgets/controls",
      "model_module_version": "1.4.0",
      "model_name": "HBoxModel",
      "state": {
       "children": [
        "IPY_MODEL_35d85cf62fe5477fb24e3c28db75a403",
        "IPY_MODEL_f59b1b10b9a64dccb5d3fe67406736d5"
       ],
       "layout": "IPY_MODEL_9dd819478d5744bf807306ab0a66d78b"
      }
     },
     "8035ad637d9749f291c23d6cd2cba810": {
      "model_module": "@jupyter-widgets/controls",
      "model_module_version": "1.4.0",
      "model_name": "HBoxModel",
      "state": {
       "children": [
        "IPY_MODEL_f210b6a39a204dbdb1cb1dbeb39d2881",
        "IPY_MODEL_f391ed214d7d449f9cbf8bb06f905325"
       ],
       "layout": "IPY_MODEL_9306dc0dd08f4bb080d3a277301ad03f"
      }
     },
     "80955203211c45fead8db4b77237494f": {
      "model_module": "@jupyter-widgets/base",
      "model_module_version": "1.1.0",
      "model_name": "LayoutModel",
      "state": {}
     },
     "8165dc74a4684442b74dabb6e2c10e63": {
      "model_module": "@jupyter-widgets/controls",
      "model_module_version": "1.4.0",
      "model_name": "HBoxModel",
      "state": {
       "children": [
        "IPY_MODEL_35d85cf62fe5477fb24e3c28db75a403",
        "IPY_MODEL_f59b1b10b9a64dccb5d3fe67406736d5"
       ],
       "layout": "IPY_MODEL_13fa5a91a6bf4f5ca6275eee06da1b6e"
      }
     },
     "826132e0b08a4d6c8374230519b09e5a": {
      "model_module": "@jupyter-widgets/base",
      "model_module_version": "1.1.0",
      "model_name": "LayoutModel",
      "state": {}
     },
     "836726859d644bc6b5876ada5339f4d6": {
      "model_module": "@jupyter-widgets/base",
      "model_module_version": "1.1.0",
      "model_name": "LayoutModel",
      "state": {}
     },
     "853493f253a24c008e3a9ba563a6a5e3": {
      "model_module": "@jupyter-widgets/base",
      "model_module_version": "1.1.0",
      "model_name": "LayoutModel",
      "state": {}
     },
     "8537900432fc414d9b3a5f328da06acc": {
      "model_module": "@jupyter-widgets/controls",
      "model_module_version": "1.4.0",
      "model_name": "IntSliderModel",
      "state": {
       "layout": "IPY_MODEL_09b398897acd40849c8ebe8afa5da7a5",
       "style": "IPY_MODEL_9cd4310c2cfa4361b6cc2dd43d2f84e3",
       "value": 40
      }
     },
     "853e352244c047fb97421ee23b0558a6": {
      "model_module": "@jupyter-widgets/controls",
      "model_module_version": "1.4.0",
      "model_name": "SliderStyleModel",
      "state": {
       "description_width": ""
      }
     },
     "863870ea3943432a9ef778196e813549": {
      "model_module": "@jupyter-widgets/controls",
      "model_module_version": "1.4.0",
      "model_name": "HBoxModel",
      "state": {
       "children": [
        "IPY_MODEL_f210b6a39a204dbdb1cb1dbeb39d2881",
        "IPY_MODEL_f391ed214d7d449f9cbf8bb06f905325"
       ],
       "layout": "IPY_MODEL_bd2ec4a983e54f6188a549ed69fe97cf"
      }
     },
     "869c44495a2d41f489dfe45a94fed936": {
      "model_module": "@jupyter-widgets/controls",
      "model_module_version": "1.4.0",
      "model_name": "IntSliderModel",
      "state": {
       "layout": "IPY_MODEL_0aae236794974eaaa60211eb788abe03",
       "style": "IPY_MODEL_8a5395446a224c31ac7e1fa344d22793",
       "value": 100
      }
     },
     "86cb2041233e4a4e8f8cf72952562b21": {
      "model_module": "@jupyter-widgets/base",
      "model_module_version": "1.1.0",
      "model_name": "LayoutModel",
      "state": {}
     },
     "870df071b45847bdbb9fe9a3e48052e4": {
      "model_module": "@jupyter-widgets/controls",
      "model_module_version": "1.4.0",
      "model_name": "HBoxModel",
      "state": {
       "children": [
        "IPY_MODEL_326c47192635405c864681df2065b21e",
        "IPY_MODEL_209fcd7ca56943959fed7ef8ad3658e4"
       ],
       "layout": "IPY_MODEL_3244f88cf6cc4c3f82169452e1fdfc75"
      }
     },
     "879c6e2549764a6ab30d48525160e2a0": {
      "model_module": "@jupyter-widgets/base",
      "model_module_version": "1.1.0",
      "model_name": "LayoutModel",
      "state": {}
     },
     "8802401b4adf47b7b72e12c25ba6d924": {
      "model_module": "@jupyter-widgets/controls",
      "model_module_version": "1.4.0",
      "model_name": "IntSliderModel",
      "state": {
       "layout": "IPY_MODEL_8f533bbbea4d41439f17c138bb42d78d",
       "style": "IPY_MODEL_b59a5738d41b4218aec8aae7876b0360",
       "value": 40
      }
     },
     "888eed147a61412db6f302d56a70265f": {
      "model_module": "@jupyter-widgets/base",
      "model_module_version": "1.1.0",
      "model_name": "LayoutModel",
      "state": {}
     },
     "892fc09104374a91b143b331a13840fc": {
      "model_module": "@jupyter-widgets/base",
      "model_module_version": "1.1.0",
      "model_name": "LayoutModel",
      "state": {}
     },
     "89de4b22ea76449da39e28c20e3b32b6": {
      "model_module": "@jupyter-widgets/base",
      "model_module_version": "1.1.0",
      "model_name": "LayoutModel",
      "state": {}
     },
     "8a5395446a224c31ac7e1fa344d22793": {
      "model_module": "@jupyter-widgets/controls",
      "model_module_version": "1.4.0",
      "model_name": "SliderStyleModel",
      "state": {
       "description_width": ""
      }
     },
     "8b262780c4cc45dd8a95fd4bdbbf1687": {
      "model_module": "@jupyter-widgets/base",
      "model_module_version": "1.1.0",
      "model_name": "LayoutModel",
      "state": {}
     },
     "8b39c1252fe0486a981f16cb1c46e8a3": {
      "model_module": "@jupyter-widgets/controls",
      "model_module_version": "1.4.0",
      "model_name": "HBoxModel",
      "state": {
       "children": [
        "IPY_MODEL_326c47192635405c864681df2065b21e",
        "IPY_MODEL_209fcd7ca56943959fed7ef8ad3658e4"
       ],
       "layout": "IPY_MODEL_892fc09104374a91b143b331a13840fc"
      }
     },
     "8b45c5ede2d143d080cc583d50c84bfa": {
      "model_module": "@jupyter-widgets/controls",
      "model_module_version": "1.4.0",
      "model_name": "HBoxModel",
      "state": {
       "children": [
        "IPY_MODEL_35d85cf62fe5477fb24e3c28db75a403",
        "IPY_MODEL_f59b1b10b9a64dccb5d3fe67406736d5"
       ],
       "layout": "IPY_MODEL_6ccccc21bfb444939c555ffcab5df5c3"
      }
     },
     "8c009c31b36e4ebcbdcb5ba04cfece85": {
      "model_module": "@jupyter-widgets/controls",
      "model_module_version": "1.4.0",
      "model_name": "HBoxModel",
      "state": {
       "children": [
        "IPY_MODEL_326c47192635405c864681df2065b21e",
        "IPY_MODEL_209fcd7ca56943959fed7ef8ad3658e4"
       ],
       "layout": "IPY_MODEL_ae1cb075be9341b5a115614ead66245b"
      }
     },
     "8d6904ee4c0a41a8a677b85a7273b479": {
      "model_module": "@jupyter-widgets/controls",
      "model_module_version": "1.4.0",
      "model_name": "HBoxModel",
      "state": {
       "children": [
        "IPY_MODEL_326c47192635405c864681df2065b21e",
        "IPY_MODEL_209fcd7ca56943959fed7ef8ad3658e4"
       ],
       "layout": "IPY_MODEL_547b460504ae48d0a302bdae684f0803"
      }
     },
     "8f533bbbea4d41439f17c138bb42d78d": {
      "model_module": "@jupyter-widgets/base",
      "model_module_version": "1.1.0",
      "model_name": "LayoutModel",
      "state": {}
     },
     "905115458a5e4760979f2624cfde9f16": {
      "model_module": "@jupyter-widgets/base",
      "model_module_version": "1.1.0",
      "model_name": "LayoutModel",
      "state": {}
     },
     "90911640f99045208115263c2523b277": {
      "model_module": "@jupyter-widgets/base",
      "model_module_version": "1.1.0",
      "model_name": "LayoutModel",
      "state": {}
     },
     "91d3ac94fb7a4795bb3a48a77569fc9e": {
      "model_module": "@jupyter-widgets/controls",
      "model_module_version": "1.4.0",
      "model_name": "IntSliderModel",
      "state": {
       "layout": "IPY_MODEL_89de4b22ea76449da39e28c20e3b32b6",
       "style": "IPY_MODEL_368ed212acd94c14b0f80279e54289d3",
       "value": 40
      }
     },
     "92506324bcaa45a7bb84653599bfcf48": {
      "model_module": "@jupyter-widgets/base",
      "model_module_version": "1.1.0",
      "model_name": "LayoutModel",
      "state": {}
     },
     "9306dc0dd08f4bb080d3a277301ad03f": {
      "model_module": "@jupyter-widgets/base",
      "model_module_version": "1.1.0",
      "model_name": "LayoutModel",
      "state": {}
     },
     "93aa19a46a2040d1a4c5fdeb41ccdb22": {
      "model_module": "@jupyter-widgets/controls",
      "model_module_version": "1.4.0",
      "model_name": "HBoxModel",
      "state": {
       "children": [
        "IPY_MODEL_326c47192635405c864681df2065b21e",
        "IPY_MODEL_209fcd7ca56943959fed7ef8ad3658e4"
       ],
       "layout": "IPY_MODEL_eb12ca33be98420b9f21f65a539bbb71"
      }
     },
     "93cd2ae190cd4c3da21711f6c4fe7eda": {
      "model_module": "@jupyter-widgets/controls",
      "model_module_version": "1.4.0",
      "model_name": "HBoxModel",
      "state": {
       "children": [
        "IPY_MODEL_326c47192635405c864681df2065b21e",
        "IPY_MODEL_209fcd7ca56943959fed7ef8ad3658e4"
       ],
       "layout": "IPY_MODEL_a71658a62a6340c3a218e9e781dbe6bc"
      }
     },
     "96d3034093f549c8a99f1c6047698f96": {
      "model_module": "@jupyter-widgets/base",
      "model_module_version": "1.1.0",
      "model_name": "LayoutModel",
      "state": {}
     },
     "97f10ca9dc754d3284737068ee51cd0c": {
      "model_module": "@jupyter-widgets/base",
      "model_module_version": "1.1.0",
      "model_name": "LayoutModel",
      "state": {}
     },
     "9aee7f7e6229400ca8ca0319ee579c27": {
      "model_module": "@jupyter-widgets/controls",
      "model_module_version": "1.4.0",
      "model_name": "HBoxModel",
      "state": {
       "children": [
        "IPY_MODEL_f210b6a39a204dbdb1cb1dbeb39d2881",
        "IPY_MODEL_f391ed214d7d449f9cbf8bb06f905325"
       ],
       "layout": "IPY_MODEL_b1cd9702e6134b6eac2be6ae645e3893"
      }
     },
     "9c76faf0f82c4be5b76ecf3fa857bcd6": {
      "model_module": "@jupyter-widgets/controls",
      "model_module_version": "1.4.0",
      "model_name": "VBoxModel",
      "state": {
       "children": [
        "IPY_MODEL_769933fa61e546bb9d9dd68611b9127c",
        "IPY_MODEL_6d833598181347f6a4be49798e50be82",
        "IPY_MODEL_429e86bd4eef40a288d6b118eef8f9d4",
        "IPY_MODEL_f64bdbc4e24f40e4ad978b2d2eb32388",
        "IPY_MODEL_22933da800854d18b52be74d97a8172d",
        "IPY_MODEL_6449902db53a4f7ca99ac238e4ba0c5e",
        "IPY_MODEL_daae3848a21e4cd5971a8f3229c5501c",
        "IPY_MODEL_0b1aab90e9794f2ebb6cccaa7c976454",
        "IPY_MODEL_6154836be8964e0296196f4daf40d315"
       ],
       "layout": "IPY_MODEL_c11ed2c5ac214f6d9abc79d7a6843d4a"
      }
     },
     "9cd4310c2cfa4361b6cc2dd43d2f84e3": {
      "model_module": "@jupyter-widgets/controls",
      "model_module_version": "1.4.0",
      "model_name": "SliderStyleModel",
      "state": {
       "description_width": ""
      }
     },
     "9dcc7a3d1f364d1cbdc81d17e180f2c2": {
      "model_module": "@jupyter-widgets/controls",
      "model_module_version": "1.4.0",
      "model_name": "HBoxModel",
      "state": {
       "children": [
        "IPY_MODEL_f210b6a39a204dbdb1cb1dbeb39d2881",
        "IPY_MODEL_f391ed214d7d449f9cbf8bb06f905325"
       ],
       "layout": "IPY_MODEL_c0773348d58d4a21ac84ffa230204fea"
      }
     },
     "9dd819478d5744bf807306ab0a66d78b": {
      "model_module": "@jupyter-widgets/base",
      "model_module_version": "1.1.0",
      "model_name": "LayoutModel",
      "state": {}
     },
     "a1085aa9888044c0b17216b0e2189b06": {
      "model_module": "@jupyter-widgets/base",
      "model_module_version": "1.1.0",
      "model_name": "LayoutModel",
      "state": {}
     },
     "a16a1cbb77a24758a220b58575e3c8e6": {
      "model_module": "@jupyter-widgets/controls",
      "model_module_version": "1.4.0",
      "model_name": "HBoxModel",
      "state": {
       "children": [
        "IPY_MODEL_f210b6a39a204dbdb1cb1dbeb39d2881",
        "IPY_MODEL_f391ed214d7d449f9cbf8bb06f905325"
       ],
       "layout": "IPY_MODEL_f78b60b6ebdf40ff9c7096ae15dbef3c"
      }
     },
     "a226827329364d99a6887f3858cb9c89": {
      "model_module": "@jupyter-widgets/controls",
      "model_module_version": "1.4.0",
      "model_name": "VBoxModel",
      "state": {
       "children": [
        "IPY_MODEL_b778097e68fa43e788b2cfb54fddbfcb",
        "IPY_MODEL_0b61661898434b71a86964c78eef2507"
       ],
       "layout": "IPY_MODEL_10bdb75f50754558b251ba85f815386f"
      }
     },
     "a42f727956ea4dc0a78471a5bf8d428d": {
      "model_module": "@jupyter-widgets/base",
      "model_module_version": "1.1.0",
      "model_name": "LayoutModel",
      "state": {}
     },
     "a49291d021d442e7a91b41b01c6b572b": {
      "model_module": "@jupyter-widgets/base",
      "model_module_version": "1.1.0",
      "model_name": "LayoutModel",
      "state": {}
     },
     "a52763dc838c42abbfed1ebae884857e": {
      "model_module": "@jupyter-widgets/controls",
      "model_module_version": "1.4.0",
      "model_name": "VBoxModel",
      "state": {
       "children": [
        "IPY_MODEL_4e57b29c26d9402db4820df7d61860b8",
        "IPY_MODEL_c709e7a514954f8fbb677a52dc495963",
        "IPY_MODEL_9dcc7a3d1f364d1cbdc81d17e180f2c2",
        "IPY_MODEL_f64bdbc4e24f40e4ad978b2d2eb32388",
        "IPY_MODEL_22933da800854d18b52be74d97a8172d",
        "IPY_MODEL_8c009c31b36e4ebcbdcb5ba04cfece85",
        "IPY_MODEL_daae3848a21e4cd5971a8f3229c5501c",
        "IPY_MODEL_0b1aab90e9794f2ebb6cccaa7c976454",
        "IPY_MODEL_6154836be8964e0296196f4daf40d315"
       ],
       "layout": "IPY_MODEL_b1640c8b15414d719f3c9cacdfd3c53d"
      }
     },
     "a71658a62a6340c3a218e9e781dbe6bc": {
      "model_module": "@jupyter-widgets/base",
      "model_module_version": "1.1.0",
      "model_name": "LayoutModel",
      "state": {}
     },
     "a885ccbebadd4f39a63990800f94befd": {
      "model_module": "@jupyter-widgets/base",
      "model_module_version": "1.1.0",
      "model_name": "LayoutModel",
      "state": {}
     },
     "a9a0adb5eec2456790414075da934d6d": {
      "model_module": "@jupyter-widgets/base",
      "model_module_version": "1.1.0",
      "model_name": "LayoutModel",
      "state": {}
     },
     "abdacd641e2347888219d400801922f5": {
      "model_module": "@jupyter-widgets/controls",
      "model_module_version": "1.4.0",
      "model_name": "VBoxModel",
      "state": {
       "children": [
        "IPY_MODEL_b778097e68fa43e788b2cfb54fddbfcb",
        "IPY_MODEL_0b61661898434b71a86964c78eef2507"
       ],
       "layout": "IPY_MODEL_4427591ac01b4704a377b1c71a6fe17b"
      }
     },
     "ac39ff7d457e4adc81b8aef01eb3c865": {
      "model_module": "@jupyter-widgets/controls",
      "model_module_version": "1.4.0",
      "model_name": "HBoxModel",
      "state": {
       "children": [
        "IPY_MODEL_f210b6a39a204dbdb1cb1dbeb39d2881",
        "IPY_MODEL_f391ed214d7d449f9cbf8bb06f905325"
       ],
       "layout": "IPY_MODEL_608448dd909345c4829f39790a952d01"
      }
     },
     "acc783cf11ef4f978073401c8b3b5a01": {
      "model_module": "@jupyter-widgets/controls",
      "model_module_version": "1.4.0",
      "model_name": "VBoxModel",
      "state": {
       "children": [
        "IPY_MODEL_ad11a9e5005445fbabc19cc629ac9de5",
        "IPY_MODEL_b5d65163532841b4b626359df2c8f2a0",
        "IPY_MODEL_360626ec67eb4381851e4b6e39cc65b4",
        "IPY_MODEL_f64bdbc4e24f40e4ad978b2d2eb32388",
        "IPY_MODEL_22933da800854d18b52be74d97a8172d",
        "IPY_MODEL_cb7007f4ac2043618ce78635c3e20f56",
        "IPY_MODEL_daae3848a21e4cd5971a8f3229c5501c",
        "IPY_MODEL_0b1aab90e9794f2ebb6cccaa7c976454",
        "IPY_MODEL_6154836be8964e0296196f4daf40d315"
       ],
       "layout": "IPY_MODEL_f8719519ada04eeabcaf71a4ad9fec48"
      }
     },
     "ad11a9e5005445fbabc19cc629ac9de5": {
      "model_module": "@jupyter-widgets/controls",
      "model_module_version": "1.4.0",
      "model_name": "VBoxModel",
      "state": {
       "children": [
        "IPY_MODEL_b778097e68fa43e788b2cfb54fddbfcb",
        "IPY_MODEL_0b61661898434b71a86964c78eef2507"
       ],
       "layout": "IPY_MODEL_fcbf9cef9df44920a892beb34a37028f"
      }
     },
     "ad8e290360f243949410196c1faddc63": {
      "model_module": "@jupyter-widgets/base",
      "model_module_version": "1.1.0",
      "model_name": "LayoutModel",
      "state": {}
     },
     "ae1cb075be9341b5a115614ead66245b": {
      "model_module": "@jupyter-widgets/base",
      "model_module_version": "1.1.0",
      "model_name": "LayoutModel",
      "state": {}
     },
     "afbafdf2eef747e8964442ecf32438c9": {
      "model_module": "@jupyter-widgets/controls",
      "model_module_version": "1.4.0",
      "model_name": "VBoxModel",
      "state": {
       "children": [
        "IPY_MODEL_6bc92501ad044ecf904e14f4ea9f8313",
        "IPY_MODEL_7e64a826dc054800b13bb35e2c56bcf2",
        "IPY_MODEL_52678e18973f47148f54cef88f281b2d",
        "IPY_MODEL_f64bdbc4e24f40e4ad978b2d2eb32388",
        "IPY_MODEL_22933da800854d18b52be74d97a8172d",
        "IPY_MODEL_4091f8d3ba9349c7a78019493a0abdf7",
        "IPY_MODEL_daae3848a21e4cd5971a8f3229c5501c",
        "IPY_MODEL_0b1aab90e9794f2ebb6cccaa7c976454",
        "IPY_MODEL_6154836be8964e0296196f4daf40d315"
       ],
       "layout": "IPY_MODEL_3aff0639bc464ab49950084de33eb110"
      }
     },
     "b02f6fc1d8734cd394a1ea8e050eb95f": {
      "model_module": "@jupyter-widgets/controls",
      "model_module_version": "1.4.0",
      "model_name": "VBoxModel",
      "state": {
       "children": [
        "IPY_MODEL_2dd0e4f0b59146dd81a9dacbdd9976d1",
        "IPY_MODEL_3194c702f908441689b41effaca66ac8",
        "IPY_MODEL_ac39ff7d457e4adc81b8aef01eb3c865",
        "IPY_MODEL_f64bdbc4e24f40e4ad978b2d2eb32388",
        "IPY_MODEL_22933da800854d18b52be74d97a8172d",
        "IPY_MODEL_f4b56b59ccca4d1bb8cc95cc9a1213a9",
        "IPY_MODEL_daae3848a21e4cd5971a8f3229c5501c",
        "IPY_MODEL_0b1aab90e9794f2ebb6cccaa7c976454",
        "IPY_MODEL_6154836be8964e0296196f4daf40d315"
       ],
       "layout": "IPY_MODEL_90911640f99045208115263c2523b277"
      }
     },
     "b1640c8b15414d719f3c9cacdfd3c53d": {
      "model_module": "@jupyter-widgets/base",
      "model_module_version": "1.1.0",
      "model_name": "LayoutModel",
      "state": {}
     },
     "b194e2ec4afe482fb6c6d1becb162c0c": {
      "model_module": "@jupyter-widgets/base",
      "model_module_version": "1.1.0",
      "model_name": "LayoutModel",
      "state": {}
     },
     "b1cd9702e6134b6eac2be6ae645e3893": {
      "model_module": "@jupyter-widgets/base",
      "model_module_version": "1.1.0",
      "model_name": "LayoutModel",
      "state": {}
     },
     "b2dd86cccf7046cf92a4ff2123d229d7": {
      "model_module": "@jupyter-widgets/controls",
      "model_module_version": "1.4.0",
      "model_name": "VBoxModel",
      "state": {
       "children": [
        "IPY_MODEL_b778097e68fa43e788b2cfb54fddbfcb",
        "IPY_MODEL_0b61661898434b71a86964c78eef2507"
       ],
       "layout": "IPY_MODEL_853493f253a24c008e3a9ba563a6a5e3"
      }
     },
     "b4232ce97f8d457f9aa6b0d6b0463b04": {
      "model_module": "@jupyter-widgets/controls",
      "model_module_version": "1.4.0",
      "model_name": "DescriptionStyleModel",
      "state": {
       "description_width": ""
      }
     },
     "b57892a490bc4960bdc1a50cec3b50c5": {
      "model_module": "@jupyter-widgets/controls",
      "model_module_version": "1.4.0",
      "model_name": "VBoxModel",
      "state": {
       "children": [
        "IPY_MODEL_b778097e68fa43e788b2cfb54fddbfcb",
        "IPY_MODEL_0b61661898434b71a86964c78eef2507"
       ],
       "layout": "IPY_MODEL_22b08d0437064df68146c249da5d3d5f"
      }
     },
     "b58ea95ed44041a58cab27cc0849bfab": {
      "model_module": "@jupyter-widgets/base",
      "model_module_version": "1.1.0",
      "model_name": "LayoutModel",
      "state": {}
     },
     "b59a5738d41b4218aec8aae7876b0360": {
      "model_module": "@jupyter-widgets/controls",
      "model_module_version": "1.4.0",
      "model_name": "SliderStyleModel",
      "state": {
       "description_width": ""
      }
     },
     "b5a7ff9a54224e43b321ad58a3573659": {
      "model_module": "@jupyter-widgets/base",
      "model_module_version": "1.1.0",
      "model_name": "LayoutModel",
      "state": {}
     },
     "b5d65163532841b4b626359df2c8f2a0": {
      "model_module": "@jupyter-widgets/controls",
      "model_module_version": "1.4.0",
      "model_name": "HBoxModel",
      "state": {
       "children": [
        "IPY_MODEL_35d85cf62fe5477fb24e3c28db75a403",
        "IPY_MODEL_f59b1b10b9a64dccb5d3fe67406736d5"
       ],
       "layout": "IPY_MODEL_bf876954cbc9431897d2414ceafaaf92"
      }
     },
     "b778097e68fa43e788b2cfb54fddbfcb": {
      "model_module": "@jupyter-widgets/controls",
      "model_module_version": "1.4.0",
      "model_name": "DropdownModel",
      "state": {
       "_options_labels": [
        "-- Select All --",
        "punishmentTreatment",
        "endowmentSize",
        "groupSize",
        "gender",
        "communicationTreatment",
        "conflictIndexValue",
        "conflictIndexLevel",
        "groupSizeLevel",
        "targetMembership",
        "numberOfDecisionMakers",
        "positionInGame",
        "uncertaintyLevel",
        "symmetric",
        "rewardTreatment",
        "sVOType",
        "endowmentLevel",
        "iteratedStrategy",
        "feedbackTarget",
        "mPCR",
        "contextFrame",
        "primingConcept",
        "timePressure",
        "gameIncentive",
        "uncertaintyLevel",
        "anonymityManipul"
       ],
       "description": "IVs:",
       "index": 25,
       "layout": "IPY_MODEL_7e22970c58af43d0b8c2aaac55d7bb7b",
       "style": "IPY_MODEL_48881f88d6d9497d9fbd41a71679ae9d"
      }
     },
     "b8e6c83f181844c08e8b82af327284c7": {
      "model_module": "@jupyter-widgets/base",
      "model_module_version": "1.1.0",
      "model_name": "LayoutModel",
      "state": {}
     },
     "b95f9467519644c882d41ac1e89177ee": {
      "model_module": "@jupyter-widgets/base",
      "model_module_version": "1.1.0",
      "model_name": "LayoutModel",
      "state": {}
     },
     "b9c14e23d83f403592b7f4d9cc65dffb": {
      "model_module": "@jupyter-widgets/controls",
      "model_module_version": "1.4.0",
      "model_name": "IntSliderModel",
      "state": {
       "layout": "IPY_MODEL_8b262780c4cc45dd8a95fd4bdbbf1687",
       "style": "IPY_MODEL_853e352244c047fb97421ee23b0558a6",
       "value": 40
      }
     },
     "bb28c2abe53845a88a9ff78f28524f9b": {
      "model_module": "@jupyter-widgets/controls",
      "model_module_version": "1.4.0",
      "model_name": "HBoxModel",
      "state": {
       "children": [
        "IPY_MODEL_35d85cf62fe5477fb24e3c28db75a403",
        "IPY_MODEL_f59b1b10b9a64dccb5d3fe67406736d5"
       ],
       "layout": "IPY_MODEL_879c6e2549764a6ab30d48525160e2a0"
      }
     },
     "bb50e6e77490409398c1217a39a6c10a": {
      "model_module": "@jupyter-widgets/base",
      "model_module_version": "1.1.0",
      "model_name": "LayoutModel",
      "state": {}
     },
     "bb6bfa505bf3462c9b40ede580ca15c7": {
      "model_module": "@jupyter-widgets/base",
      "model_module_version": "1.1.0",
      "model_name": "LayoutModel",
      "state": {}
     },
     "bd2ec4a983e54f6188a549ed69fe97cf": {
      "model_module": "@jupyter-widgets/base",
      "model_module_version": "1.1.0",
      "model_name": "LayoutModel",
      "state": {}
     },
     "be98835370454cd79ec603fafdfbfb5f": {
      "model_module": "@jupyter-widgets/base",
      "model_module_version": "1.1.0",
      "model_name": "LayoutModel",
      "state": {}
     },
     "bea52d5333c64ac9a3d508fb9c658c19": {
      "model_module": "@jupyter-widgets/base",
      "model_module_version": "1.1.0",
      "model_name": "LayoutModel",
      "state": {}
     },
     "bf876954cbc9431897d2414ceafaaf92": {
      "model_module": "@jupyter-widgets/base",
      "model_module_version": "1.1.0",
      "model_name": "LayoutModel",
      "state": {}
     },
     "c0773348d58d4a21ac84ffa230204fea": {
      "model_module": "@jupyter-widgets/base",
      "model_module_version": "1.1.0",
      "model_name": "LayoutModel",
      "state": {}
     },
     "c11ed2c5ac214f6d9abc79d7a6843d4a": {
      "model_module": "@jupyter-widgets/base",
      "model_module_version": "1.1.0",
      "model_name": "LayoutModel",
      "state": {}
     },
     "c3014647614a40d69bf8aad7dd426e0e": {
      "model_module": "@jupyter-widgets/base",
      "model_module_version": "1.1.0",
      "model_name": "LayoutModel",
      "state": {}
     },
     "c336ce10a925412e9fd9c6f583f5c7c8": {
      "model_module": "@jupyter-widgets/controls",
      "model_module_version": "1.4.0",
      "model_name": "HBoxModel",
      "state": {
       "children": [
        "IPY_MODEL_35d85cf62fe5477fb24e3c28db75a403",
        "IPY_MODEL_f59b1b10b9a64dccb5d3fe67406736d5"
       ],
       "layout": "IPY_MODEL_80955203211c45fead8db4b77237494f"
      }
     },
     "c4efd47a47604db0a6c507d1819165c4": {
      "model_module": "@jupyter-widgets/base",
      "model_module_version": "1.1.0",
      "model_name": "LayoutModel",
      "state": {}
     },
     "c709e7a514954f8fbb677a52dc495963": {
      "model_module": "@jupyter-widgets/controls",
      "model_module_version": "1.4.0",
      "model_name": "HBoxModel",
      "state": {
       "children": [
        "IPY_MODEL_35d85cf62fe5477fb24e3c28db75a403",
        "IPY_MODEL_f59b1b10b9a64dccb5d3fe67406736d5"
       ],
       "layout": "IPY_MODEL_51c17b19d4874202871737b31cbb7f58"
      }
     },
     "c70c05b9433842dfaa66ab3e0c2c5ad5": {
      "model_module": "@jupyter-widgets/base",
      "model_module_version": "1.1.0",
      "model_name": "LayoutModel",
      "state": {}
     },
     "c82d3fa945974017a7784633b6182ebf": {
      "model_module": "@jupyter-widgets/base",
      "model_module_version": "1.1.0",
      "model_name": "LayoutModel",
      "state": {}
     },
     "ca787f0347614dd389c7089b794ea516": {
      "model_module": "@jupyter-widgets/base",
      "model_module_version": "1.1.0",
      "model_name": "LayoutModel",
      "state": {}
     },
     "cb7007f4ac2043618ce78635c3e20f56": {
      "model_module": "@jupyter-widgets/controls",
      "model_module_version": "1.4.0",
      "model_name": "HBoxModel",
      "state": {
       "children": [
        "IPY_MODEL_326c47192635405c864681df2065b21e",
        "IPY_MODEL_209fcd7ca56943959fed7ef8ad3658e4"
       ],
       "layout": "IPY_MODEL_f81e55f7248a4b729d8793ede8563031"
      }
     },
     "cbe9e813a55c4844b240fa78d3cbc664": {
      "model_module": "@jupyter-widgets/controls",
      "model_module_version": "1.4.0",
      "model_name": "HBoxModel",
      "state": {
       "children": [
        "IPY_MODEL_35d85cf62fe5477fb24e3c28db75a403",
        "IPY_MODEL_f59b1b10b9a64dccb5d3fe67406736d5"
       ],
       "layout": "IPY_MODEL_fbf8fd15d9a6445baeb39d7084dfe71e"
      }
     },
     "cdfdf533b9194ed781ca54f3b070b55d": {
      "model_module": "@jupyter-widgets/base",
      "model_module_version": "1.1.0",
      "model_name": "LayoutModel",
      "state": {}
     },
     "cef634da96e4411db1f77979b01436a1": {
      "model_module": "@jupyter-widgets/base",
      "model_module_version": "1.1.0",
      "model_name": "LayoutModel",
      "state": {}
     },
     "cf667c34b59849aebcac23fe9e156c5d": {
      "model_module": "@jupyter-widgets/base",
      "model_module_version": "1.1.0",
      "model_name": "LayoutModel",
      "state": {}
     },
     "cf679e2d453943539b5de4c23f5b0318": {
      "model_module": "@jupyter-widgets/controls",
      "model_module_version": "1.4.0",
      "model_name": "HBoxModel",
      "state": {
       "children": [
        "IPY_MODEL_35d85cf62fe5477fb24e3c28db75a403",
        "IPY_MODEL_f59b1b10b9a64dccb5d3fe67406736d5"
       ],
       "layout": "IPY_MODEL_274913e0c1994c699beffce73301c1aa"
      }
     },
     "cf76d59c41184fc88797fd089975a583": {
      "model_module": "@jupyter-widgets/base",
      "model_module_version": "1.1.0",
      "model_name": "LayoutModel",
      "state": {}
     },
     "cf8cc35febe94ee0a72e729903cc983b": {
      "model_module": "@jupyter-widgets/base",
      "model_module_version": "1.1.0",
      "model_name": "LayoutModel",
      "state": {}
     },
     "cfb094ba7cca4859a5e9a7dbf6b65d6f": {
      "model_module": "@jupyter-widgets/controls",
      "model_module_version": "1.4.0",
      "model_name": "VBoxModel",
      "state": {
       "children": [
        "IPY_MODEL_b778097e68fa43e788b2cfb54fddbfcb",
        "IPY_MODEL_0b61661898434b71a86964c78eef2507"
       ],
       "layout": "IPY_MODEL_c3014647614a40d69bf8aad7dd426e0e"
      }
     },
     "d029332fa5124e9ca09ba0ba44437080": {
      "model_module": "@jupyter-widgets/base",
      "model_module_version": "1.1.0",
      "model_name": "LayoutModel",
      "state": {}
     },
     "d0aac205a81a481392b2f703b354c471": {
      "model_module": "@jupyter-widgets/base",
      "model_module_version": "1.1.0",
      "model_name": "LayoutModel",
      "state": {}
     },
     "d184c5642e6b45a9af9b2fb46f06699f": {
      "model_module": "@jupyter-widgets/controls",
      "model_module_version": "1.4.0",
      "model_name": "DescriptionStyleModel",
      "state": {
       "description_width": ""
      }
     },
     "d2b3fdb763c14a91a8a0c6f176aabb82": {
      "model_module": "@jupyter-widgets/controls",
      "model_module_version": "1.4.0",
      "model_name": "HBoxModel",
      "state": {
       "children": [
        "IPY_MODEL_f210b6a39a204dbdb1cb1dbeb39d2881",
        "IPY_MODEL_f391ed214d7d449f9cbf8bb06f905325"
       ],
       "layout": "IPY_MODEL_888eed147a61412db6f302d56a70265f"
      }
     },
     "d2ec3e2b1c3447f680d86360e1a1b37f": {
      "model_module": "@jupyter-widgets/controls",
      "model_module_version": "1.4.0",
      "model_name": "HBoxModel",
      "state": {
       "children": [
        "IPY_MODEL_f210b6a39a204dbdb1cb1dbeb39d2881",
        "IPY_MODEL_f391ed214d7d449f9cbf8bb06f905325"
       ],
       "layout": "IPY_MODEL_b95f9467519644c882d41ac1e89177ee"
      }
     },
     "d35a51ff157c416f87848d6b95db7b83": {
      "model_module": "@jupyter-widgets/controls",
      "model_module_version": "1.4.0",
      "model_name": "VBoxModel",
      "state": {
       "children": [
        "IPY_MODEL_b778097e68fa43e788b2cfb54fddbfcb",
        "IPY_MODEL_0b61661898434b71a86964c78eef2507"
       ],
       "layout": "IPY_MODEL_f826646352524ac88c5c2e3bd4c437c3"
      }
     },
     "d3605e402371474d8f40dda7e741ba5f": {
      "model_module": "@jupyter-widgets/controls",
      "model_module_version": "1.4.0",
      "model_name": "VBoxModel",
      "state": {
       "children": [
        "IPY_MODEL_606de75ae595452581e2d98c1321cc45",
        "IPY_MODEL_1e024b59f5eb474193cb7f2cdabd78f9",
        "IPY_MODEL_3f1de040448b44c699639c564dfce087",
        "IPY_MODEL_f64bdbc4e24f40e4ad978b2d2eb32388",
        "IPY_MODEL_22933da800854d18b52be74d97a8172d",
        "IPY_MODEL_1d5a86b7c0e44f7ba221074b10a987d9",
        "IPY_MODEL_daae3848a21e4cd5971a8f3229c5501c",
        "IPY_MODEL_0b1aab90e9794f2ebb6cccaa7c976454",
        "IPY_MODEL_6154836be8964e0296196f4daf40d315"
       ],
       "layout": "IPY_MODEL_cdfdf533b9194ed781ca54f3b070b55d"
      }
     },
     "d466a33fbb5b4912b88ebb64a783cffe": {
      "model_module": "@jupyter-widgets/base",
      "model_module_version": "1.1.0",
      "model_name": "LayoutModel",
      "state": {}
     },
     "d4d974a0ad514f52a2e8bcbea4ef65bc": {
      "model_module": "@jupyter-widgets/controls",
      "model_module_version": "1.4.0",
      "model_name": "VBoxModel",
      "state": {
       "children": [
        "IPY_MODEL_b778097e68fa43e788b2cfb54fddbfcb",
        "IPY_MODEL_0b61661898434b71a86964c78eef2507"
       ],
       "layout": "IPY_MODEL_d029332fa5124e9ca09ba0ba44437080"
      }
     },
     "d4dd94bee4a64db1b9effcf9e7ff1838": {
      "model_module": "@jupyter-widgets/base",
      "model_module_version": "1.1.0",
      "model_name": "LayoutModel",
      "state": {}
     },
     "d6e1fdaf850a4f5d8f18a0375cd779e9": {
      "model_module": "@jupyter-widgets/base",
      "model_module_version": "1.1.0",
      "model_name": "LayoutModel",
      "state": {}
     },
     "d865e0c67a0c49bfadd1878fffb3ebf3": {
      "model_module": "@jupyter-widgets/base",
      "model_module_version": "1.1.0",
      "model_name": "LayoutModel",
      "state": {}
     },
     "d9cbbcd259e44c668c2ce5a8c092ade3": {
      "model_module": "@jupyter-widgets/controls",
      "model_module_version": "1.4.0",
      "model_name": "HBoxModel",
      "state": {
       "children": [
        "IPY_MODEL_326c47192635405c864681df2065b21e",
        "IPY_MODEL_209fcd7ca56943959fed7ef8ad3658e4"
       ],
       "layout": "IPY_MODEL_a42f727956ea4dc0a78471a5bf8d428d"
      }
     },
     "da99f71214824942bed57609903b2f13": {
      "model_module": "@jupyter-widgets/controls",
      "model_module_version": "1.4.0",
      "model_name": "HBoxModel",
      "state": {
       "children": [
        "IPY_MODEL_326c47192635405c864681df2065b21e",
        "IPY_MODEL_209fcd7ca56943959fed7ef8ad3658e4"
       ],
       "layout": "IPY_MODEL_36778b51cde449509e84125653544f95"
      }
     },
     "daa0ff60744446c3846a66e8e37cb570": {
      "model_module": "@jupyter-widgets/controls",
      "model_module_version": "1.4.0",
      "model_name": "HBoxModel",
      "state": {
       "children": [
        "IPY_MODEL_f210b6a39a204dbdb1cb1dbeb39d2881",
        "IPY_MODEL_f391ed214d7d449f9cbf8bb06f905325"
       ],
       "layout": "IPY_MODEL_1d956bb55c8740a3961a83734981b936"
      }
     },
     "daae3848a21e4cd5971a8f3229c5501c": {
      "model_module": "@jupyter-widgets/controls",
      "model_module_version": "1.4.0",
      "model_name": "HTMLModel",
      "state": {
       "layout": "IPY_MODEL_7aad1e645f3643a9887861ac97d4976c",
       "style": "IPY_MODEL_520928088756478bbf87e2836b2a0bf6",
       "value": "<hr /><b>Extra</b>"
      }
     },
     "e06b4bfc41314e9e841a74ba251497da": {
      "model_module": "@jupyter-widgets/base",
      "model_module_version": "1.1.0",
      "model_name": "LayoutModel",
      "state": {}
     },
     "e1beeecfc480486086801a0da854e9d8": {
      "model_module": "@jupyter-widgets/controls",
      "model_module_version": "1.4.0",
      "model_name": "VBoxModel",
      "state": {
       "children": [
        "IPY_MODEL_abdacd641e2347888219d400801922f5",
        "IPY_MODEL_7cf5b813728d4235a7f601992b4b3601",
        "IPY_MODEL_8035ad637d9749f291c23d6cd2cba810",
        "IPY_MODEL_f64bdbc4e24f40e4ad978b2d2eb32388",
        "IPY_MODEL_22933da800854d18b52be74d97a8172d",
        "IPY_MODEL_5b7482c6111742b6ad1db09dfe9af0f2",
        "IPY_MODEL_daae3848a21e4cd5971a8f3229c5501c",
        "IPY_MODEL_0b1aab90e9794f2ebb6cccaa7c976454",
        "IPY_MODEL_6154836be8964e0296196f4daf40d315"
       ],
       "layout": "IPY_MODEL_b5a7ff9a54224e43b321ad58a3573659"
      }
     },
     "e20d2371051f405b9d599dbe256b4d60": {
      "model_module": "@jupyter-widgets/base",
      "model_module_version": "1.1.0",
      "model_name": "LayoutModel",
      "state": {}
     },
     "e2eedb187b6346979af2bc1de6043f1c": {
      "model_module": "@jupyter-widgets/base",
      "model_module_version": "1.1.0",
      "model_name": "LayoutModel",
      "state": {}
     },
     "e4b0b164850248d2a7ab98f3a0b6f5b5": {
      "model_module": "@jupyter-widgets/base",
      "model_module_version": "1.1.0",
      "model_name": "LayoutModel",
      "state": {}
     },
     "e555e74d373c4ad2ac8e663d4f1bdb26": {
      "model_module": "@jupyter-widgets/controls",
      "model_module_version": "1.4.0",
      "model_name": "VBoxModel",
      "state": {
       "children": [
        "IPY_MODEL_eaf1ecad7d3c4db3a7bd7e8154d06d47",
        "IPY_MODEL_1a12508bba674bc2a0b0eb16ec07df2b",
        "IPY_MODEL_36a8014cdedf4d0b9d1c96b9a0ca722e",
        "IPY_MODEL_f64bdbc4e24f40e4ad978b2d2eb32388",
        "IPY_MODEL_22933da800854d18b52be74d97a8172d",
        "IPY_MODEL_8b39c1252fe0486a981f16cb1c46e8a3",
        "IPY_MODEL_daae3848a21e4cd5971a8f3229c5501c",
        "IPY_MODEL_0b1aab90e9794f2ebb6cccaa7c976454",
        "IPY_MODEL_6154836be8964e0296196f4daf40d315"
       ],
       "layout": "IPY_MODEL_17e478109c894cb68942ba4c43623c96"
      }
     },
     "e6b3b22120c04fa6bfc63957b2f2c816": {
      "model_module": "@jupyter-widgets/base",
      "model_module_version": "1.1.0",
      "model_name": "LayoutModel",
      "state": {}
     },
     "e8b4e7fead26452ba275be969adede91": {
      "model_module": "@jupyter-widgets/controls",
      "model_module_version": "1.4.0",
      "model_name": "ButtonStyleModel",
      "state": {}
     },
     "e92da256b44d4a50a119dc500ff4e149": {
      "model_module": "@jupyter-widgets/controls",
      "model_module_version": "1.4.0",
      "model_name": "VBoxModel",
      "state": {
       "children": [
        "IPY_MODEL_a226827329364d99a6887f3858cb9c89",
        "IPY_MODEL_bb28c2abe53845a88a9ff78f28524f9b",
        "IPY_MODEL_4c5cd177f1b24781b4507d96e2d4a898",
        "IPY_MODEL_f64bdbc4e24f40e4ad978b2d2eb32388",
        "IPY_MODEL_22933da800854d18b52be74d97a8172d",
        "IPY_MODEL_4bcca8fd9ca54be19b3c718800bc615c",
        "IPY_MODEL_daae3848a21e4cd5971a8f3229c5501c",
        "IPY_MODEL_0b1aab90e9794f2ebb6cccaa7c976454",
        "IPY_MODEL_6154836be8964e0296196f4daf40d315"
       ],
       "layout": "IPY_MODEL_a1085aa9888044c0b17216b0e2189b06"
      }
     },
     "e94f4a6ab0f24100ba45fd33b4796df1": {
      "model_module": "@jupyter-widgets/controls",
      "model_module_version": "1.4.0",
      "model_name": "HBoxModel",
      "state": {
       "children": [
        "IPY_MODEL_326c47192635405c864681df2065b21e",
        "IPY_MODEL_209fcd7ca56943959fed7ef8ad3658e4"
       ],
       "layout": "IPY_MODEL_b58ea95ed44041a58cab27cc0849bfab"
      }
     },
     "e9b3ce04094f4029b4bb3a44679f3be8": {
      "model_module": "@jupyter-widgets/controls",
      "model_module_version": "1.4.0",
      "model_name": "HBoxModel",
      "state": {
       "children": [
        "IPY_MODEL_326c47192635405c864681df2065b21e",
        "IPY_MODEL_209fcd7ca56943959fed7ef8ad3658e4"
       ],
       "layout": "IPY_MODEL_24c67095ac5d4d40b80052ef6fe816f0"
      }
     },
     "ea38efd079784f53be455d964d7c40ba": {
      "model_module": "@jupyter-widgets/controls",
      "model_module_version": "1.4.0",
      "model_name": "HBoxModel",
      "state": {
       "children": [
        "IPY_MODEL_f210b6a39a204dbdb1cb1dbeb39d2881",
        "IPY_MODEL_f391ed214d7d449f9cbf8bb06f905325"
       ],
       "layout": "IPY_MODEL_ed10577b214e4e20a4e4dfe397c6d282"
      }
     },
     "eaf1ecad7d3c4db3a7bd7e8154d06d47": {
      "model_module": "@jupyter-widgets/controls",
      "model_module_version": "1.4.0",
      "model_name": "VBoxModel",
      "state": {
       "children": [
        "IPY_MODEL_b778097e68fa43e788b2cfb54fddbfcb",
        "IPY_MODEL_0b61661898434b71a86964c78eef2507"
       ],
       "layout": "IPY_MODEL_f00297595505454981f02b575a39a52f"
      }
     },
     "eb12ca33be98420b9f21f65a539bbb71": {
      "model_module": "@jupyter-widgets/base",
      "model_module_version": "1.1.0",
      "model_name": "LayoutModel",
      "state": {}
     },
     "ebe2c6973115454980771e5c557297cb": {
      "model_module": "@jupyter-widgets/controls",
      "model_module_version": "1.4.0",
      "model_name": "HBoxModel",
      "state": {
       "children": [
        "IPY_MODEL_f210b6a39a204dbdb1cb1dbeb39d2881",
        "IPY_MODEL_f391ed214d7d449f9cbf8bb06f905325"
       ],
       "layout": "IPY_MODEL_bb6bfa505bf3462c9b40ede580ca15c7"
      }
     },
     "ed10577b214e4e20a4e4dfe397c6d282": {
      "model_module": "@jupyter-widgets/base",
      "model_module_version": "1.1.0",
      "model_name": "LayoutModel",
      "state": {}
     },
     "efdeb1e6ac4f4827b41d41488c9e1e79": {
      "model_module": "@jupyter-widgets/base",
      "model_module_version": "1.1.0",
      "model_name": "LayoutModel",
      "state": {}
     },
     "f00297595505454981f02b575a39a52f": {
      "model_module": "@jupyter-widgets/base",
      "model_module_version": "1.1.0",
      "model_name": "LayoutModel",
      "state": {}
     },
     "f210b6a39a204dbdb1cb1dbeb39d2881": {
      "model_module": "@jupyter-widgets/controls",
      "model_module_version": "1.4.0",
      "model_name": "CheckboxModel",
      "state": {
       "description": "Small Negative & Positive Correlation",
       "disabled": false,
       "indent": false,
       "layout": "IPY_MODEL_b194e2ec4afe482fb6c6d1becb162c0c",
       "style": "IPY_MODEL_2627bffe26ef45be9ee6a532f6b3568b",
       "value": false
      }
     },
     "f391ed214d7d449f9cbf8bb06f905325": {
      "model_module": "@jupyter-widgets/controls",
      "model_module_version": "1.4.0",
      "model_name": "CheckboxModel",
      "state": {
       "description": "All Correlation",
       "disabled": false,
       "indent": false,
       "layout": "IPY_MODEL_63dca0ab5ab44951b680265b0dc086b6",
       "style": "IPY_MODEL_57d44765d8924ec6a7696a60990ff54a",
       "value": true
      }
     },
     "f4b56b59ccca4d1bb8cc95cc9a1213a9": {
      "model_module": "@jupyter-widgets/controls",
      "model_module_version": "1.4.0",
      "model_name": "HBoxModel",
      "state": {
       "children": [
        "IPY_MODEL_326c47192635405c864681df2065b21e",
        "IPY_MODEL_209fcd7ca56943959fed7ef8ad3658e4"
       ],
       "layout": "IPY_MODEL_efdeb1e6ac4f4827b41d41488c9e1e79"
      }
     },
     "f59b1b10b9a64dccb5d3fe67406736d5": {
      "model_module": "@jupyter-widgets/controls",
      "model_module_version": "1.4.0",
      "model_name": "CheckboxModel",
      "state": {
       "description": "Medium Negative & Positive Correlation",
       "disabled": false,
       "indent": false,
       "layout": "IPY_MODEL_d466a33fbb5b4912b88ebb64a783cffe",
       "style": "IPY_MODEL_7686aca06c794f50bb7d1417b824c8fa",
       "value": false
      }
     },
     "f627f9b67598417fb4ab4fb4c5ffe773": {
      "model_module": "@jupyter-widgets/controls",
      "model_module_version": "1.4.0",
      "model_name": "DescriptionStyleModel",
      "state": {
       "description_width": ""
      }
     },
     "f64bdbc4e24f40e4ad978b2d2eb32388": {
      "model_module": "@jupyter-widgets/controls",
      "model_module_version": "1.4.0",
      "model_name": "HTMLModel",
      "state": {
       "layout": "IPY_MODEL_3bc5f74f9de04412ae8425fa6dcada8b",
       "style": "IPY_MODEL_45484c247e2c40cdac22626fd53b0d1d",
       "value": "<hr /><b>Nanopub Contrast Analysis</b>"
      }
     },
     "f678742f4b5343e184a4cd14e9afa890": {
      "model_module": "@jupyter-widgets/controls",
      "model_module_version": "1.4.0",
      "model_name": "VBoxModel",
      "state": {
       "children": [
        "IPY_MODEL_b778097e68fa43e788b2cfb54fddbfcb",
        "IPY_MODEL_0b61661898434b71a86964c78eef2507"
       ],
       "layout": "IPY_MODEL_f899dab9f1204e60b7966ec238701a1b"
      }
     },
     "f78b60b6ebdf40ff9c7096ae15dbef3c": {
      "model_module": "@jupyter-widgets/base",
      "model_module_version": "1.1.0",
      "model_name": "LayoutModel",
      "state": {}
     },
     "f81e55f7248a4b729d8793ede8563031": {
      "model_module": "@jupyter-widgets/base",
      "model_module_version": "1.1.0",
      "model_name": "LayoutModel",
      "state": {}
     },
     "f826646352524ac88c5c2e3bd4c437c3": {
      "model_module": "@jupyter-widgets/base",
      "model_module_version": "1.1.0",
      "model_name": "LayoutModel",
      "state": {}
     },
     "f8719519ada04eeabcaf71a4ad9fec48": {
      "model_module": "@jupyter-widgets/base",
      "model_module_version": "1.1.0",
      "model_name": "LayoutModel",
      "state": {}
     },
     "f899dab9f1204e60b7966ec238701a1b": {
      "model_module": "@jupyter-widgets/base",
      "model_module_version": "1.1.0",
      "model_name": "LayoutModel",
      "state": {}
     },
     "fa76354c3e0c42f09c39ae000e711915": {
      "model_module": "@jupyter-widgets/controls",
      "model_module_version": "1.4.0",
      "model_name": "VBoxModel",
      "state": {
       "children": [
        "IPY_MODEL_6ccfeec84d164c0786d590d2f5d3dd54",
        "IPY_MODEL_1deafa2f4adb4e208292fbf668d2ad9b",
        "IPY_MODEL_284b7d16521a4d189ce5df62ad029752",
        "IPY_MODEL_f64bdbc4e24f40e4ad978b2d2eb32388",
        "IPY_MODEL_22933da800854d18b52be74d97a8172d",
        "IPY_MODEL_93aa19a46a2040d1a4c5fdeb41ccdb22",
        "IPY_MODEL_daae3848a21e4cd5971a8f3229c5501c",
        "IPY_MODEL_0b1aab90e9794f2ebb6cccaa7c976454",
        "IPY_MODEL_6154836be8964e0296196f4daf40d315"
       ],
       "layout": "IPY_MODEL_672fefe6a4254eb886065f7474d7a81f"
      }
     },
     "fa8734aa8cef481baf470e2390ba7724": {
      "model_module": "@jupyter-widgets/controls",
      "model_module_version": "1.4.0",
      "model_name": "SliderStyleModel",
      "state": {
       "description_width": ""
      }
     },
     "fbf8fd15d9a6445baeb39d7084dfe71e": {
      "model_module": "@jupyter-widgets/base",
      "model_module_version": "1.1.0",
      "model_name": "LayoutModel",
      "state": {}
     },
     "fc43b6805e584ba7a051fbb1aad108af": {
      "model_module": "@jupyter-widgets/base",
      "model_module_version": "1.1.0",
      "model_name": "LayoutModel",
      "state": {}
     },
     "fcbf9cef9df44920a892beb34a37028f": {
      "model_module": "@jupyter-widgets/base",
      "model_module_version": "1.1.0",
      "model_name": "LayoutModel",
      "state": {}
     },
     "fd7f91e48c674663bd9d3ea7c086f06d": {
      "model_module": "@jupyter-widgets/controls",
      "model_module_version": "1.4.0",
      "model_name": "HBoxModel",
      "state": {
       "children": [
        "IPY_MODEL_326c47192635405c864681df2065b21e",
        "IPY_MODEL_209fcd7ca56943959fed7ef8ad3658e4"
       ],
       "layout": "IPY_MODEL_7880bea47dfe4461ae9eae63b26ad993"
      }
     },
     "feb8c7fe5da947c59fc94d334293211f": {
      "model_module": "@jupyter-widgets/base",
      "model_module_version": "1.1.0",
      "model_name": "LayoutModel",
      "state": {}
     }
    },
    "version_major": 2,
    "version_minor": 0
   }
  }
 },
 "nbformat": 4,
 "nbformat_minor": 4
}
