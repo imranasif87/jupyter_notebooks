{
 "cells": [
  {
   "cell_type": "markdown",
   "metadata": {},
   "source": [
    "# Using a Jupyter Notebook to perform a nanopublication analysis Coda Databank\n",
    "\n",
    "Imran Asif ([ORCID:0000-0002-1144-6265](https://orcid.org/0000-0002-1144-6265))  \n",
    "PhD Student, Computer Science\n",
    "\n",
    "_Heriot-Watt University, Edinburgh, UK_"
   ]
  },
  {
   "cell_type": "markdown",
   "metadata": {},
   "source": [
    "__Information:__ I have basic information about how much nanopublications are published on different servers. the following graph shows the total number of nanopublications among different datasets"
   ]
  },
  {
   "cell_type": "code",
   "execution_count": 1,
   "metadata": {},
   "outputs": [],
   "source": [
    "from SPARQLWrapper import SPARQLWrapper, JSON\n",
    "import time"
   ]
  },
  {
   "cell_type": "code",
   "execution_count": 2,
   "metadata": {},
   "outputs": [],
   "source": [
    "#Define local DisGeNet SPARQL endpoint and function to run queries over it\n",
    "dbSparql = SPARQLWrapper(\"http://localhost:8890/sparql/\")\n",
    "dbSparql.setReturnFormat(JSON)\n",
    "def queryCoDa(query):\n",
    "    dbSparql.setQuery(query)\n",
    "    results = dbSparql.queryAndConvert()\n",
    "    return results"
   ]
  },
  {
   "cell_type": "code",
   "execution_count": 3,
   "metadata": {},
   "outputs": [],
   "source": [
    "# Define function to extract count result from JSON SPARQL result set\n",
    "def extract_count(results):\n",
    "    \"\"\"\n",
    "    Extract the count result from the JSON format\n",
    "    \"\"\"\n",
    "    for result in results[\"results\"][\"bindings\"]:\n",
    "        return result[\"count\"][\"value\"]\n",
    "    \n",
    "#Initialise counts dictionary to store count for each dataset in\n",
    "counts = {}"
   ]
  },
  {
   "cell_type": "markdown",
   "metadata": {},
   "source": [
    "### Get All Conflicting nanopublications ###"
   ]
  },
  {
   "cell_type": "code",
   "execution_count": 4,
   "metadata": {},
   "outputs": [
    {
     "name": "stdout",
     "output_type": "stream",
     "text": [
      "--- 10000 records in 6.788402795791626 seconds ---\n"
     ]
    }
   ],
   "source": [
    "\n",
    "query = \"\"\"\n",
    "prefix np: <http://www.nanopub.org/nschema#>\n",
    "prefix codaNp: <http://www.example.org/>\n",
    "\n",
    "select distinct ?np1 ?np2 ?s1 ?s2 ?dep1 ?dep2 ?iv1 ?iv2 ?effectsizeVal1 ?effectsizeVal2 where {\n",
    "  graph ?h {\n",
    "    ?np1 a np:Nanopublication ;\n",
    "          np:hasAssertion ?a1 .\n",
    "  }\n",
    "  graph ?h2 {\n",
    "    ?np2 a np:Nanopublication ;\n",
    "          np:hasAssertion ?a2 .\n",
    "  }\n",
    "  graph ?a1 {\n",
    "    \t\t  ?s1 codaNp:claimsIV ?iv1 ;\n",
    "           \t\t codaNp:claimsDV ?dep1 ;\n",
    "              \t codaNp:has-effect-value ?effectsizeVal1 .\n",
    "  \t\t   }\n",
    "  graph ?a2 {\n",
    "  \t\t\t\t?s2 codaNp:claimsIV ?iv2 ;\n",
    "           \t\t codaNp:claimsDV ?dep2 ;\n",
    "              \t codaNp:has-effect-value ?effectsizeVal2 .\n",
    "  \t\t\t}\n",
    "  FILTER (?iv1=?iv2 && ?dep1=?dep2 && ?effectsizeVal1!=?effectsizeVal2)\n",
    "}\"\"\"\n",
    "\n",
    "start_time = time.time()\n",
    "results = queryCoDa(query)\n",
    "print(\"--- %d records in %s seconds ---\" % (len(results[\"results\"][\"bindings\"]), (time.time() - start_time)))"
   ]
  },
  {
   "cell_type": "markdown",
   "metadata": {},
   "source": [
    "### Get All Assertion with Provenance ###"
   ]
  },
  {
   "cell_type": "code",
   "execution_count": 6,
   "metadata": {},
   "outputs": [
    {
     "name": "stdout",
     "output_type": "stream",
     "text": [
      "--- 10000 records in 5.525863170623779 seconds ---\n"
     ]
    }
   ],
   "source": [
    "query = \"\"\"\n",
    "prefix np: <http://www.nanopub.org/nschema#>\n",
    "prefix codaNp: <http://www.example.org/>\n",
    "\n",
    "select * where {\n",
    "    graph ?G {\n",
    "      ?np a np:Nanopublication ;\n",
    "          np:hasAssertion ?a ;\n",
    "          np:hasProvenance ?prov .\n",
    "    }\n",
    "  graph ?a {?s ?p ?o}\n",
    "  graph ?prov {?s1 ?p1 ?o1}\n",
    "}\"\"\"\n",
    "\n",
    "start_time = time.time()\n",
    "results = queryCoDa(query)\n",
    "#print(str(len(results)) + \" records in \")\n",
    "#print()\n",
    "print(\"--- %d records in %s seconds ---\" % (len(results[\"results\"][\"bindings\"]), (time.time() - start_time)))"
   ]
  },
  {
   "cell_type": "code",
   "execution_count": null,
   "metadata": {},
   "outputs": [],
   "source": []
  }
 ],
 "metadata": {
  "kernelspec": {
   "display_name": "Python 3",
   "language": "python",
   "name": "python3"
  },
  "language_info": {
   "codemirror_mode": {
    "name": "ipython",
    "version": 3
   },
   "file_extension": ".py",
   "mimetype": "text/x-python",
   "name": "python",
   "nbconvert_exporter": "python",
   "pygments_lexer": "ipython3",
   "version": "3.7.3"
  }
 },
 "nbformat": 4,
 "nbformat_minor": 2
}
