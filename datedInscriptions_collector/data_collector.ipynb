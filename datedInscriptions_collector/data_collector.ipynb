{
 "cells": [
  {
   "cell_type": "code",
   "execution_count": 29,
   "metadata": {},
   "outputs": [],
   "source": [
    "#Library/Packages\n",
    "\n",
    "import os\n",
    "import xml.etree.ElementTree as ET\n",
    "from lxml import etree\n",
    "from tqdm import tqdm\n",
    "import logging\n",
    "from datetime import datetime\n",
    "import xml.dom.minidom as md\n",
    "import importlib\n",
    "import db\n",
    "importlib.reload(db)\n",
    "# Configure logging\n",
    "logFile = datetime.now().strftime('logfile_%H_%M_%d_%m_%Y.log')\n",
    "#print(logFile)\n",
    "logging.basicConfig(filename=logFile, level=logging.INFO, format='%(asctime)s - %(levelname)s - %(message)s')"
   ]
  },
  {
   "cell_type": "code",
   "execution_count": 43,
   "metadata": {},
   "outputs": [
    {
     "name": "stderr",
     "output_type": "stream",
     "text": [
      "2024-07-23 10:43:02,589| ERROR   | Password is required for key /Users/imranasif/.ssh/id_rsa\n",
      "2024-07-23 10:43:02,592| ERROR   | Password is required for key /Users/imranasif/.ssh/id_ed25519\n"
     ]
    }
   ],
   "source": [
    "\n",
    "\n",
    "#df_isicily = db.run_query(\"Select * from iSicily\")\n",
    "#print(df_isicily)"
   ]
  },
  {
   "cell_type": "markdown",
   "metadata": {},
   "source": [
    "### Common Methods"
   ]
  },
  {
   "cell_type": "code",
   "execution_count": 80,
   "metadata": {},
   "outputs": [],
   "source": [
    "db_cursor = None\n",
    "namespaces = {\n",
    "    'tei': 'http://www.tei-c.org/ns/1.0'  # Replace with the actual namespace URI\n",
    "}\n",
    "\n",
    "def getFileName(file_path):\n",
    "    # Get the base name (filename with extension)\n",
    "    base_name = os.path.basename(file_path)\n",
    "\n",
    "    # Split the base name into name and extension\n",
    "    name, ext = os.path.splitext(base_name)\n",
    "    return name\n",
    "\n",
    "def extractDatesFromXMLBySource(xml_dir, source, projectURL, tableName, xmlDateBefore, xmlDateAfter):\n",
    "    for filename in tqdm(os.listdir(xml_dir), desc='Processing', unit='item'):\n",
    "        try:\n",
    "            if filename.endswith('.xml'):\n",
    "                xml_path = os.path.join(xml_dir, filename)\n",
    "                \n",
    "                dateDict = {\n",
    "                    'dateText': None,\n",
    "                    'datingMethod': None,\n",
    "                    'notBeforeCustom': None,\n",
    "                    'notAfterCustom': None,\n",
    "                    'evidence': None,\n",
    "                    'Id': None,\n",
    "                    'source': None,\n",
    "                    'projectURL': None\n",
    "                }\n",
    "\n",
    "                #print(xml_path)\n",
    "                # Parse the XML file\n",
    "                # Define the XML parser with recovery mode enabled\n",
    "                parser = etree.XMLParser(recover=True)\n",
    "\n",
    "                tree = etree.parse(xml_path, parser)\n",
    "                root = tree.getroot()\n",
    "                \n",
    "                # Find all <ptr> child elements\n",
    "                origDate_elements = root.findall('.//tei:origDate', namespaces)\n",
    "                \n",
    "                if len(origDate_elements) == 0:\n",
    "                    logging.info(f'There is no origDate element available in xml file: {filename}')\n",
    "                    #print(dateDict)\n",
    "                    #continue\n",
    "\n",
    "                # if origDate_elements[0].get('evidence') == None:\n",
    "                #     logging.info(f'There is no evidence element available in xml file: {filename}')\n",
    "                #     continue\n",
    "\n",
    "                #print(ptr_elements)\n",
    "                # Process the <ptr> elements\n",
    "                for date_element in origDate_elements:\n",
    "                    \n",
    "                    dateDict['dateText'] = date_element.text\n",
    "\n",
    "                    if date_element.get('datingMethod') != None:\n",
    "                        dateDict['datingMethod'] = date_element.get('datingMethod')\n",
    "                    else:\n",
    "                        logging.info(f'There is no datingMethod attribute in origDate element available in xml file: {filename}')\n",
    "\n",
    "                    if date_element.get(xmlDateBefore) != None:\n",
    "                        dateDict['notBeforeCustom'] = date_element.get(xmlDateBefore)\n",
    "                    else:\n",
    "                        logging.info(f'There is no notBefore-custom attribute in origDate element available in xml file: {filename}')\n",
    "                    \n",
    "                    if date_element.get(xmlDateAfter) != None:\n",
    "                        dateDict['notAfterCustom'] = date_element.get(xmlDateAfter)\n",
    "                    else:\n",
    "                        logging.info(f'There is no notAfter-custom attribute in origDate element available in xml file: {filename}')\n",
    "\n",
    "                    if date_element.get('evidence') != None:\n",
    "                        dateDict['evidence'] = date_element.get('evidence')\n",
    "                    else:\n",
    "                        logging.info(f'There is no evidence attribute in origDate element available in xml file: {filename}')\n",
    "\n",
    "                dateDict['Id'] = getFileName(filename)\n",
    "                dateDict['source'] = source\n",
    "                dateDict['projectURL'] = projectURL\n",
    "                #print(dateDict)\n",
    "                insert(dateDict, tableName)\n",
    "                #break\n",
    "\n",
    "        except ET.ParseError as e:\n",
    "           logging.error(f'Exception: {str(e)} in xml file {filename}')\n",
    "        except db.pymysql.MySQLError as e:\n",
    "            logging.error(f'Exception: {str(e)} in xml file {filename}')\n",
    "            break\n",
    "        except Exception as e:\n",
    "            #logging.info(f'Issue in xml file: {filename}')\n",
    "            logging.error(f'Exception: {str(e)} in xml file {filename}')\n",
    "\n",
    "\n",
    "def insert(data, tableName):\n",
    "    sql = f'''INSERT INTO `{tableName}` (Id, dateText, datingMethod, notBeforeCustom, notAfterCustom, evidence, source, projectURL)\n",
    "                     VALUES(%s,%s,%s,%s,%s,%s,%s,%s)\n",
    "                 '''\n",
    "    db_cursor.execute(sql, (data['Id'], data['dateText'], data['datingMethod'], data['notBeforeCustom'], data['notAfterCustom'], data['evidence'], data['source'], data['projectURL']))\n",
    "    \n",
    "    db.connection.commit()\n",
    "\n",
    "def openConnection():\n",
    "    db.open_ssh_tunnel()\n",
    "    db.mysql_connect()\n",
    "    global db_cursor\n",
    "    db_cursor = db.connection.cursor()\n",
    "\n",
    "def closeConnection():\n",
    "    db.mysql_disconnect()\n",
    "    db.close_ssh_tunnel()"
   ]
  },
  {
   "cell_type": "markdown",
   "metadata": {},
   "source": [
    "### Collecting Dating Data from IScily"
   ]
  },
  {
   "cell_type": "code",
   "execution_count": 45,
   "metadata": {},
   "outputs": [
    {
     "name": "stderr",
     "output_type": "stream",
     "text": [
      "Processing: 100%|██████████| 4722/4722 [02:46<00:00, 28.34item/s]\n"
     ]
    }
   ],
   "source": [
    "xml_dir = '/Users/imranasif/Oxford/FAIR_Epigraphy/DatedAncientInscriptions/data/ISicily'\n",
    "extractDatesFromXMLBySource(xml_dir, 'I.Sicily', 'http://sicily.classics.ox.ac.uk/', 'iSicily', 'notBefore-custom', 'notAfter-custom')"
   ]
  },
  {
   "cell_type": "markdown",
   "metadata": {},
   "source": [
    "### Collecting Dating Data from Inscriptions of Greek Cyrenaica (IGCYR) - Greek Verse Inscriptions of Cyrenaica (GVCYR)"
   ]
  },
  {
   "cell_type": "code",
   "execution_count": 53,
   "metadata": {},
   "outputs": [
    {
     "name": "stderr",
     "output_type": "stream",
     "text": [
      "2024-07-23 12:17:57,267| ERROR   | Password is required for key /Users/imranasif/.ssh/id_rsa\n",
      "2024-07-23 12:17:57,269| ERROR   | Password is required for key /Users/imranasif/.ssh/id_ed25519\n"
     ]
    }
   ],
   "source": [
    "openConnection()"
   ]
  },
  {
   "cell_type": "code",
   "execution_count": 54,
   "metadata": {},
   "outputs": [
    {
     "name": "stderr",
     "output_type": "stream",
     "text": [
      "Processing: 100%|██████████| 974/974 [00:35<00:00, 27.67item/s]\n"
     ]
    }
   ],
   "source": [
    "\n",
    "xml_dir = '/Users/imranasif/Oxford/FAIR_Epigraphy/DatedAncientInscriptions/data/IGCYR-GVCYR'\n",
    "extractDatesFromXMLBySource(xml_dir, 'IGCYR-GVCYR', 'https://igcyr.unibo.it/', 'IGCYR-GVCYR', 'notBefore', 'notAfter')"
   ]
  },
  {
   "cell_type": "code",
   "execution_count": 75,
   "metadata": {},
   "outputs": [],
   "source": [
    "closeConnection()"
   ]
  },
  {
   "cell_type": "markdown",
   "metadata": {},
   "source": [
    "### Collecting Dating Data from RIB"
   ]
  },
  {
   "cell_type": "code",
   "execution_count": 85,
   "metadata": {},
   "outputs": [
    {
     "name": "stderr",
     "output_type": "stream",
     "text": [
      "2024-07-23 14:06:30,294| ERROR   | Password is required for key /Users/imranasif/.ssh/id_rsa\n",
      "2024-07-23 14:06:30,298| ERROR   | Password is required for key /Users/imranasif/.ssh/id_ed25519\n"
     ]
    }
   ],
   "source": [
    "openConnection()"
   ]
  },
  {
   "cell_type": "code",
   "execution_count": 70,
   "metadata": {},
   "outputs": [
    {
     "name": "stderr",
     "output_type": "stream",
     "text": [
      "Processing: 100%|██████████| 2401/2401 [01:21<00:00, 29.47item/s]\n"
     ]
    }
   ],
   "source": [
    "#Volume 1\n",
    "xml_dir = '/Users/imranasif/Oxford/FAIR_Epigraphy/DatedAncientInscriptions/data/RIB/rib-vol-1'\n",
    "extractDatesFromXMLBySource(xml_dir, 'RIB VOLUME 1', 'https://romaninscriptionsofbritain.org/inscriptions/', 'RIB', 'notBefore-custom', 'notAfter-custom')"
   ]
  },
  {
   "cell_type": "code",
   "execution_count": 82,
   "metadata": {},
   "outputs": [
    {
     "name": "stderr",
     "output_type": "stream",
     "text": [
      "Processing: 100%|██████████| 10259/10259 [06:36<00:00, 25.87item/s]\n"
     ]
    }
   ],
   "source": [
    "#Volume 2\n",
    "xml_dir = '/Users/imranasif/Oxford/FAIR_Epigraphy/DatedAncientInscriptions/data/RIB/rib-vol-2'\n",
    "extractDatesFromXMLBySource(xml_dir, 'RIB VOLUME 2', 'https://romaninscriptionsofbritain.org/inscriptions/', 'RIB', 'notBefore-custom', 'notAfter-custom')"
   ]
  },
  {
   "cell_type": "code",
   "execution_count": 86,
   "metadata": {},
   "outputs": [
    {
     "name": "stderr",
     "output_type": "stream",
     "text": [
      "Processing: 100%|██████████| 550/550 [00:21<00:00, 25.05item/s]\n"
     ]
    }
   ],
   "source": [
    "#Volume 3\n",
    "xml_dir = '/Users/imranasif/Oxford/FAIR_Epigraphy/DatedAncientInscriptions/data/RIB/rib-vol-3'\n",
    "extractDatesFromXMLBySource(xml_dir, 'RIB VOLUME 3', 'https://romaninscriptionsofbritain.org/inscriptions/', 'RIB', 'notBefore-custom', 'notAfter-custom')"
   ]
  },
  {
   "cell_type": "code",
   "execution_count": 87,
   "metadata": {},
   "outputs": [],
   "source": [
    "closeConnection()"
   ]
  },
  {
   "cell_type": "markdown",
   "metadata": {},
   "source": [
    "### Collecting Dating Data from EDH"
   ]
  },
  {
   "cell_type": "code",
   "execution_count": 88,
   "metadata": {},
   "outputs": [
    {
     "name": "stderr",
     "output_type": "stream",
     "text": [
      "2024-07-23 14:16:03,699| ERROR   | Password is required for key /Users/imranasif/.ssh/id_rsa\n",
      "2024-07-23 14:16:03,703| ERROR   | Password is required for key /Users/imranasif/.ssh/id_ed25519\n"
     ]
    }
   ],
   "source": [
    "openConnection()"
   ]
  },
  {
   "cell_type": "code",
   "execution_count": 89,
   "metadata": {},
   "outputs": [
    {
     "name": "stderr",
     "output_type": "stream",
     "text": [
      "Processing: 100%|██████████| 81883/81883 [54:01<00:00, 25.26item/s]  \n"
     ]
    }
   ],
   "source": [
    "xml_dir = '/Users/imranasif/Oxford/FAIR_Epigraphy/DatedAncientInscriptions/data/EDH'\n",
    "extractDatesFromXMLBySource(xml_dir, 'EDH', 'https://edh.ub.uni-heidelberg.de/edh/inschrift/', 'EDH', 'notBefore-custom', 'notAfter-custom')"
   ]
  },
  {
   "cell_type": "code",
   "execution_count": 90,
   "metadata": {},
   "outputs": [],
   "source": [
    "closeConnection()"
   ]
  },
  {
   "cell_type": "code",
   "execution_count": null,
   "metadata": {},
   "outputs": [],
   "source": []
  }
 ],
 "metadata": {
  "kernelspec": {
   "display_name": "Python 3.11.1 64-bit",
   "language": "python",
   "name": "python3"
  },
  "language_info": {
   "codemirror_mode": {
    "name": "ipython",
    "version": 3
   },
   "file_extension": ".py",
   "mimetype": "text/x-python",
   "name": "python",
   "nbconvert_exporter": "python",
   "pygments_lexer": "ipython3",
   "version": "3.11.1"
  },
  "orig_nbformat": 4,
  "vscode": {
   "interpreter": {
    "hash": "aee8b7b246df8f9039afb4144a1f6fd8d2ca17a180786b69acc140d282b71a49"
   }
  }
 },
 "nbformat": 4,
 "nbformat_minor": 2
}
