{
 "cells": [
  {
   "cell_type": "markdown",
   "metadata": {},
   "source": [
    "# Converting Scraped Data into the IDP Knowledge Graph\n",
    "\n",
    "__Authors:__  \n",
    "Alasdair J G Gray ([ORCID:0000-0002-5711-4872](http://orcid.org/0000-0002-5711-4872)), _Heriot-Watt University, Edinburgh, UK_\n",
    "\n",
    "Petros Papadopoulos ([ORCID:0000-0002-8110-7576](https://orcid.org/0000-0002-8110-7576)), _Heriot-Watt University, Edinburgh, UK_\n",
    "\n",
    "Ivan Mičetić ([ORCID:0000-0003-1691-8425](https://orcid.org/0000-0003-1691-8425)), _University of Padua, Italy_\n",
    "\n",
    "András Hatos ([ORCID:0000-0001-9224-9820](https://orcid.org/0000-0001-9224-9820)), _University of Padua, Italy_\n",
    "\n",
    "Imran Asif ([ORCID:0000-0002-1144-6265](https://orcid.org/0000-0002-1144-6265)), _Heriot-Watt University, Edinburgh, UK_\n",
    "\n",
    "__License:__ Apache 2.0\n",
    "\n",
    "__Acknowledgements:__ This notebook builds upon the work conducted during the Virtual BioHackathon-Europe 2020 reported in [BioHackrXiv](https://biohackrxiv.org/v3jct/)."
   ]
  },
  {
   "cell_type": "markdown",
   "metadata": {},
   "source": [
    "## Introduction\n",
    "\n",
    "IDPCentral is the idea of having a central registry of proteins that are known to be disordered.\n",
    "\n",
    "We aim to populate the content of the registry with Bioschemas markup that has been scraped using the BMUSE tool.\n",
    "\n",
    "This notebook goes through the steps of converting the scraped content into a Knowledge Graph of IDP data that can be used as a source of data for the IDPCentral registry."
   ]
  },
  {
   "cell_type": "markdown",
   "metadata": {},
   "source": [
    "### Input\n",
    "\n",
    "Scraped data from the following data sources:\n",
    "- [DisProt](https://www.disprot.org/)\n",
    "- [MobiDb](https://mobidb.bio.unipd.it/)\n",
    "- [Protein Ensemble Database](https://proteinensemble.org/) (PED)\n",
    "\n",
    "The data files can be found in this [GitHub directory](https://github.com/elixir-europe/BioHackathon-projects-2020/tree/master/projects/24/IDPCentral/scraped-data). The code in this notebook uses a relative link to retrieve the data files, i.e. `../scraped-data`."
   ]
  },
  {
   "cell_type": "markdown",
   "metadata": {},
   "source": [
    "### Output\n",
    "\n",
    "The generated knowledge graph is written to file in the same directory as this notebook:\n",
    "- `IDPKG.jsonld`: JSON-LD serialisation of all named graphs\n",
    "- `IDPKG.nq`: N-QUADS serialisation of all named graphs"
   ]
  },
  {
   "cell_type": "markdown",
   "metadata": {},
   "source": [
    "## Code\n",
    "\n",
    "The following code converts the data scraped using BMUSE into the desired knowledge graph using the RDFlib python library and its abilities to process SPARQL queries over its internal data model.\n",
    "\n",
    "The generated knowledge graph uses named graphs to track the provenance of where individual statements."
   ]
  },
  {
   "cell_type": "markdown",
   "metadata": {},
   "source": [
    "### Library Imports"
   ]
  },
  {
   "cell_type": "code",
   "execution_count": 1,
   "metadata": {},
   "outputs": [],
   "source": [
    "# Import and configure logging library\n",
    "from datetime import datetime\n",
    "import logging\n",
    "logging.basicConfig(\n",
    "    filename='idpETL.log', \n",
    "    filemode='w', \n",
    "    format='%(levelname)s:%(message)s', \n",
    "    level=logging.INFO)\n",
    "logging.info('Starting processing at %s' % datetime.now().time())"
   ]
  },
  {
   "cell_type": "code",
   "execution_count": 2,
   "metadata": {},
   "outputs": [],
   "source": [
    "# Imports from RDFlib\n",
    "from rdflib import ConjunctiveGraph, Dataset, Graph, RDF, URIRef"
   ]
  },
  {
   "cell_type": "code",
   "execution_count": 3,
   "metadata": {},
   "outputs": [],
   "source": [
    "# Import template library for templating queries\n",
    "from string import Template"
   ]
  },
  {
   "cell_type": "code",
   "execution_count": 4,
   "metadata": {},
   "outputs": [],
   "source": [
    "# Import iPython widgets for user interactions\n",
    "import ipywidgets as widgets\n",
    "from IPython.display import display\n",
    "from IPython.display import clear_output\n",
    "from IPython.core.display import HTML"
   ]
  },
  {
   "cell_type": "code",
   "execution_count": 5,
   "metadata": {},
   "outputs": [],
   "source": [
    "# Import Operation System details\n",
    "import os"
   ]
  },
  {
   "cell_type": "code",
   "execution_count": 6,
   "metadata": {},
   "outputs": [],
   "source": [
    "# Import functions for interacting with file directory\n",
    "from glob import glob"
   ]
  },
  {
   "cell_type": "markdown",
   "metadata": {},
   "source": [
    "### Template Queries"
   ]
  },
  {
   "cell_type": "markdown",
   "metadata": {},
   "source": [
    "#### Provenance Query\n",
    "\n",
    "Extracts metadata about where the data has originated and when it was scraped."
   ]
  },
  {
   "cell_type": "code",
   "execution_count": 7,
   "metadata": {},
   "outputs": [],
   "source": [
    "# Query to extract the graph and its metadata\n",
    "provenanceQuery = \"\"\"\n",
    "PREFIX pav: <http://purl.org/pav/>\n",
    "PREFIX schema: <https://schema.org/>\n",
    "PREFIX void: <http://rdfs.org/ns/void#>\n",
    "\n",
    "CONSTRUCT {\n",
    "    ?g pav:retrievedFrom ?source ;\n",
    "        pav:retrievedOn ?date .\n",
    "    ?g pav:createdWith ?createdWith .\n",
    "    ?g void:inDataset ?dataset .\n",
    "}\n",
    "WHERE {\n",
    "    ?g pav:retrievedFrom ?source ;\n",
    "        pav:retrievedOn ?date .\n",
    "    OPTIONAL {?g pav:createdWith ?createdWith}\n",
    "    GRAPH ?g {\n",
    "        OPTIONAL {?s schema:includedInDataset ?dataset}\n",
    "    }\n",
    "}\n",
    "\"\"\""
   ]
  },
  {
   "cell_type": "markdown",
   "metadata": {},
   "source": [
    "#### Dataset Query\n",
    "The following query extracts the Dataset data."
   ]
  },
  {
   "cell_type": "code",
   "execution_count": 8,
   "metadata": {},
   "outputs": [],
   "source": [
    "datasetQuery = \"\"\"\n",
    "PREFIX schema: <https://schema.org/>\n",
    "CONSTRUCT {\n",
    "    ?s a schema:Dataset ;\n",
    "        schema:description ?description ;\n",
    "        schema:identifier ?identifier ;\n",
    "        schema:keywords ?keywords ;\n",
    "        schema:license ?license ;\n",
    "        schema:name ?name ;\n",
    "        schema:url ?url ;\n",
    "        schema:alternateName ?altName ;\n",
    "        schema:citation ?citation ;\n",
    "        schema:creator ?creator ;\n",
    "        schema:distribution ?distribution ;\n",
    "        schema:includedInDatacatalog ?dataCatalog ;\n",
    "        schema:isBasedOn ?study ;\n",
    "        schema:measurementTechnique ?measurement ;\n",
    "        schema:variableMeasured ?variable ;\n",
    "        schema:version ?version ;\n",
    "        schema:datecreated ?dateCreated ;\n",
    "        schema:dateModified ?dateModified ;\n",
    "        schema:datePublished ?datePublished ;\n",
    "        schema:hasPart ?part ;\n",
    "        schema:isAccessibleForFree ?free ;\n",
    "        schema:isPartOf ?parent ;\n",
    "        schema:maintainer ?maintainer ;\n",
    "        schema:publisher ?publisher ;\n",
    "        schema:sameAs ?sameAs .\n",
    "}\n",
    "WHERE {\n",
    "  graph ?g {\n",
    "    ?s a schema:Dataset .\n",
    "# Minimum\n",
    "    OPTIONAL {?s schema:description ?description}\n",
    "    OPTIONAL {?s schema:identifier ?identifier}\n",
    "    OPTIONAL {?s schema:keywords ?keywords}\n",
    "    OPTIONAL {?s schema:license ?license}\n",
    "    OPTIONAL {?s schema:name ?name}\n",
    "    OPTIONAL {?s schema:url ?url}\n",
    "# Recommended\n",
    "    OPTIONAL {?s schema:alternateName ?altName}\n",
    "    OPTIONAL {?s schema:citation ?citation}\n",
    "    OPTIONAL {?s schema:creator ?creator}\n",
    "    OPTIONAL {?s schema:distribution ?distribution}\n",
    "    OPTIONAL {?s schema:includedInDatacatalog ?dataCatalog}\n",
    "    OPTIONAL {?s schema:isBasedOn ?study}\n",
    "    OPTIONAL {?s schema:measurementTechnique ?measurement}\n",
    "    OPTIONAL {?s schema:variableMeasured ?variable}\n",
    "    OPTIONAL {?s schema:version ?version}\n",
    "# Optional\n",
    "    OPTIONAL {?s schema:datecreated ?dateCreated}\n",
    "    OPTIONAL {?s schema:dateModified ?dateModified}\n",
    "    OPTIONAL {?s schema:datePublished ?datePublished}\n",
    "    OPTIONAL {?s schema:hasPart ?part}\n",
    "    OPTIONAL {?s schema:isAccessibleForFree ?free}\n",
    "    OPTIONAL {?s schema:isPartOf ?parent}\n",
    "    OPTIONAL {?s schema:maintainer ?maintainer}\n",
    "    OPTIONAL {?s schema:publisher ?publisher}\n",
    "    OPTIONAL {?s schema:sameAs ?sameAs}\n",
    "  }\n",
    "}\n",
    "\"\"\""
   ]
  },
  {
   "cell_type": "markdown",
   "metadata": {},
   "source": [
    "#### DataCatalog Query\n",
    "The following query extracts the DataCatalog data."
   ]
  },
  {
   "cell_type": "code",
   "execution_count": 9,
   "metadata": {},
   "outputs": [],
   "source": [
    "dataCatalogQuery = \"\"\"\n",
    "PREFIX schema: <https://schema.org/>\n",
    "CONSTRUCT {\n",
    "    ?s a schema:DataCatalog ;\n",
    "        schema:description ?description ;\n",
    "        schema:keywords ?keywords ;\n",
    "        schema:name ?name ;\n",
    "        schema:provider ?provider ;\n",
    "        schema:url ?url ;\n",
    "        schema:about ?about ;\n",
    "        schema:alternateName ?altName ;\n",
    "        schema:citation ?citation ;\n",
    "        schema:dataset ?dataset ;\n",
    "        schema:datecreated ?dateCreated ;        \n",
    "        schema:identifier ?identifier ;\n",
    "        schema:license ?license ;\n",
    "        schema:sourceOrganization ?srcOrg ;\n",
    "        schema:dateModified ?dateModified ;\n",
    "        schema:encodingFormat ?format ;\n",
    "        schema:datePublished ?datePublished ;\n",
    "        schema:sameAs ?sameAs .\n",
    "}\n",
    "WHERE {\n",
    "  graph ?g {\n",
    "    ?s a schema:DataCatalog .\n",
    "# Minimum\n",
    "    OPTIONAL {?s schema:description ?description}\n",
    "    OPTIONAL {?s schema:keywords ?keywords}\n",
    "    OPTIONAL {?s schema:name ?name}\n",
    "    OPTIONAL {?s schema:provider ?provider}\n",
    "    OPTIONAL {?s schema:url ?url}\n",
    "# Recommended\n",
    "    OPTIONAL {?s schema:about ?about}\n",
    "    OPTIONAL {?s schema:alternateName ?altName}\n",
    "    OPTIONAL {?s schema:citation ?citation}\n",
    "    OPTIONAL {?s schema:dataset ?dataset}\n",
    "    OPTIONAL {?s schema:datecreated ?dateCreated}\n",
    "    OPTIONAL {?s schema:identifier ?identifier}\n",
    "    OPTIONAL {?s schema:license ?license}\n",
    "    OPTIONAL {?s schema:sourceOrganization ?srcOrg}\n",
    "# Optional\n",
    "    OPTIONAL {?s schema:dateModified ?dateModified}    \n",
    "    OPTIONAL {?s schema:encodingFormat ?format}\n",
    "# Extras\n",
    "    OPTIONAL {?s schema:datePublished ?datePublished}\n",
    "    OPTIONAL {?s schema:sameAs ?sameAs}\n",
    "  }\n",
    "}\n",
    "\"\"\""
   ]
  },
  {
   "cell_type": "markdown",
   "metadata": {},
   "source": [
    "#### Protein Query\n",
    "\n",
    "The following query extracts data from the named graph scraped model, unifies the identifier to the UniProt accession number in the Bioschemas namespace.\n",
    "\n",
    "Query uses `OPTIONAL` clauses throughout since it was found that not all sources comply with the minimal properties of the Bioschemas Protein Profile."
   ]
  },
  {
   "cell_type": "code",
   "execution_count": 10,
   "metadata": {},
   "outputs": [],
   "source": [
    "# Templated query for creating the direct properties for a protein entity\n",
    "proteinQuery = Template(\"\"\"\n",
    "# Query to convert Protein scraped data to a merged named graph\n",
    "# Defensive query: assumes that data does not conform to Protein profile\n",
    "\n",
    "PREFIX idpc: <https://idpcentral.org/id/> \n",
    "PREFIX owl: <http://www.w3.org/2002/07/owl#> \n",
    "PREFIX pav: <http://purl.org/pav/> \n",
    "PREFIX schema: <https://schema.org/> \n",
    "\n",
    "CONSTRUCT {\n",
    "    idpc:${bsAccession} a schema:Protein ;\n",
    "        schema:identifier ?identifier ;\n",
    "        schema:name ?name ;\n",
    "        schema:associatedDisease ?associatedDisease ;\n",
    "        schema:description ?description ;\n",
    "        schema:hasSequenceAnnotation ?annotation ;\n",
    "        schema:isEncodedByBioChemEntity ?encodedBy ;\n",
    "        schema:taxonomicRange ?taxonomicRange ;\n",
    "        schema:url ?url ;\n",
    "        schema:alternateName ?alternateName ;\n",
    "        schema:bioChemInteraction ?bioChemInteraction ;\n",
    "        schema:bioChemSimilarity ?bioChemSimilarity ;\n",
    "        schema:hasBioChemEntityPart ?bioChemEntity ;\n",
    "        schema:hasBioPolymerSequence ?sequence ;\n",
    "        schema:hasMolecularFunction ?molFunction ;\n",
    "        schema:hasRepresentation ?representation ;\n",
    "        schema:image ?image ;\n",
    "        schema:isInvolvedInBiologicalProcess ?process ;\n",
    "        schema:isLocatedInSubcellularLocation ?cellularLocation ;\n",
    "        schema:isPartOfBioChemEntity ?parentEntity ;\n",
    "        schema:sameAs ?sameAs , ?s ;\n",
    "        owl:sameAs ?sameAs .\n",
    "}\n",
    "WHERE {\n",
    "    GRAPH ?g {\n",
    "# Bioschemas Minimal Properties\n",
    "        ?s a schema:Protein .\n",
    "        OPTIONAL {?s schema:identifier ?identifier }\n",
    "        OPTIONAL {?s schema:name ?name }\n",
    "## Bioschemas Recommended properties\n",
    "        OPTIONAL {?s schema:associatedDisease ?associatedDisease}\n",
    "        OPTIONAL {?s schema:description ?description}\n",
    "        OPTIONAL {?s schema:hasSequenceAnnotation ?annotation }\n",
    "        OPTIONAL {?s schema:isEncodedByBioChemEntity ?encodedBy}\n",
    "        OPTIONAL {?s schema:taxonomicRange ?taxonomicRange }\n",
    "        OPTIONAL {?s schema:url ?url}\n",
    "## Bioschemas Optional properties\n",
    "        OPTIONAL {?s schema:alternateName ?alternateName}\n",
    "        OPTIONAL {?s schema:bioChemInteraction ?bioChemInteraction}\n",
    "        OPTIONAL {?s schema:bioChemSimilarity ?bioChemSimilarity}\n",
    "        OPTIONAL {?s schema:hasBioChemEntityPart ?bioChemEntity}\n",
    "        OPTIONAL {?s schema:hasBioPolymerSequence ?sequence}\n",
    "        OPTIONAL {?s schema:hasMolecularFunction ?molFunction}\n",
    "        OPTIONAL {?s schema:hasRepresentation ?representation }\n",
    "        OPTIONAL {?s schema:image ?image}\n",
    "        OPTIONAL {?s schema:isInvolvedInBiologicalProcess ?process}\n",
    "        OPTIONAL {?s schema:isLocatedInSubcellularLocation ?cellularLocation}\n",
    "        OPTIONAL {?s schema:isPartOfBioChemEntity ?parentEntity}\n",
    "        OPTIONAL {?s schema:sameAs ?sameAs }\n",
    "    }\n",
    "}\n",
    "\"\"\")"
   ]
  },
  {
   "cell_type": "markdown",
   "metadata": {},
   "source": [
    "#### SequenceAnnotation Query\n",
    "\n",
    "Query to extract sequence annotations."
   ]
  },
  {
   "cell_type": "code",
   "execution_count": 11,
   "metadata": {},
   "outputs": [],
   "source": [
    "sequenceAnnotationsQuery = \"\"\"\n",
    "PREFIX schema: <https://schema.org/>\n",
    "CONSTRUCT {\n",
    "  ?s a schema:SequenceAnnotation ;\n",
    "        schema:additionalProperty ?addProp ;\n",
    "        schema:citation ?citation ;\n",
    "        schema:creationMethod ?method ;\n",
    "        schema:description ?description ;\n",
    "        schema:editor ?editor ;\n",
    "        schema:isPartOfBioChemEntity ?bioChemEntity ;\n",
    "        schema:sequenceLocation ?seqLoc .#;\n",
    "  ?s schema:subjectOf ?pubmedID .\n",
    "  ?pubmedID a ?pubMedType .\n",
    "}\n",
    "WHERE {\n",
    "  graph ?g {\n",
    "    ?s a schema:SequenceAnnotation .\n",
    "    OPTIONAL {?s schema:additionalProperty ?addProp }\n",
    "    OPTIONAL {?s schema:citation ?citation }\n",
    "    OPTIONAL {?s schema:creationMethod ?method }\n",
    "    OPTIONAL {?s schema:description ?description }\n",
    "    OPTIONAL {?s schema:editor ?editor }\n",
    "    OPTIONAL {?s schema:isPartOfBioChemEntity ?bioChemEntity }\n",
    "    OPTIONAL {?s schema:sequenceLocation ?seqLoc }\n",
    "    OPTIONAL {?s schema:subjectOf ?pubmedID .\n",
    "                ?pubmedID a ?pubMedType }\n",
    "  }\n",
    "}\n",
    "\"\"\""
   ]
  },
  {
   "cell_type": "markdown",
   "metadata": {},
   "source": [
    "#### PropertyValue Query\n",
    "\n",
    "Query to extract PropertyValue data."
   ]
  },
  {
   "cell_type": "code",
   "execution_count": 12,
   "metadata": {},
   "outputs": [],
   "source": [
    "propertyValueQuery = \"\"\"\n",
    "PREFIX schema: <https://schema.org/>\n",
    "CONSTRUCT {\n",
    "    ?s a schema:PropertyValue ;\n",
    "        schema:name ?name ;\n",
    "        schema:value ?value .\n",
    "    ?value a schema:DefinedTerm ;\n",
    "        schema:inDefinedTermSet ?termSet ;\n",
    "        schema:name ?termName ;\n",
    "        schema:termCode ?termCode .\n",
    "}\n",
    "where {\n",
    "    graph ?g {\n",
    "        ?s a schema:PropertyValue .\n",
    "        OPTIONAL {?s schema:name ?name }\n",
    "        OPTIONAL {?s schema:value ?value }\n",
    "        OPTIONAL {?value a schema:DefinedTerm }\n",
    "        OPTIONAL {?value schema:inDefinedTermSet ?termSet }\n",
    "        OPTIONAL {?value schema:name ?termName }\n",
    "        OPTIONAL {?value schema:termCode ?termCode }\n",
    "    }\n",
    "}\n",
    "\"\"\""
   ]
  },
  {
   "cell_type": "markdown",
   "metadata": {},
   "source": [
    "#### SequenceRange Query\n",
    "\n",
    "Query to extract SequenceRange data."
   ]
  },
  {
   "cell_type": "code",
   "execution_count": 13,
   "metadata": {},
   "outputs": [],
   "source": [
    "sequenceRangeQuery = \"\"\"\n",
    "PREFIX schema: <https://schema.org/>\n",
    "CONSTRUCT {\n",
    "    ?s a schema:SequenceRange ;\n",
    "        schema:rangeStart ?start ;\n",
    "        schema:rangeEnd ?end .\n",
    "}\n",
    "where {\n",
    "    graph ?g {\n",
    "        ?s a schema:SequenceRange .\n",
    "        OPTIONAL {?s schema:rangeStart ?start }\n",
    "        OPTIONAL {?s schema:rangeEnd ?end}\n",
    "    }\n",
    "}\n",
    "\"\"\""
   ]
  },
  {
   "cell_type": "markdown",
   "metadata": {},
   "source": [
    "#### UniProt ID Query\n",
    "\n",
    "The following query extracts the UniProt IRI, declared using a `schema:sameAs` declaration in the source data. Note that different sources use alternative patterns for the UniProt IRI; the `FILTER` clause matches the following patterns\n",
    "- `https://www.uniprot.org/uniprot/`\n",
    "- `http://purl.uniprot.org/uniprot/`"
   ]
  },
  {
   "cell_type": "code",
   "execution_count": 14,
   "metadata": {},
   "outputs": [],
   "source": [
    "# Query to extract UniProt IRI\n",
    "idQuery = \"\"\"\n",
    "PREFIX schema: <https://schema.org/>\n",
    "SELECT ?proteinIRI ?uniprot\n",
    "WHERE {\n",
    "    GRAPH ?g {\n",
    "        ?proteinIRI a schema:Protein ;\n",
    "            schema:sameAs ?uniprot .\n",
    "        FILTER regex(str(?uniprot), \"^(https://www|http://purl).uniprot.org/uniprot/\")\n",
    "    }\n",
    "}\n",
    "\"\"\""
   ]
  },
  {
   "cell_type": "markdown",
   "metadata": {},
   "source": [
    "### Methods"
   ]
  },
  {
   "cell_type": "markdown",
   "metadata": {},
   "source": [
    "#### Create Knowledge Graph Protein Entity \n",
    "\n",
    "The `createKGEntity` method uses the queries above to extract the content from the scraped data and then transform it into data using the common identifier scheme."
   ]
  },
  {
   "cell_type": "code",
   "execution_count": 15,
   "metadata": {},
   "outputs": [],
   "source": [
    "# Inputs:\n",
    "# - g: scraped data\n",
    "# - ds_g: ContextGraph in the KG where the Protein is to be inserted\n",
    "# - protein: IRI of the protein conepts\n",
    "# - uniprot: Equivalent UniProt IRI for the protein\n",
    "# - accession: The UniProt accession number\n",
    "def createProteinEntity(g, ds_g, protein, uniprot, accession):\n",
    "    # Parameterise the protein query with the proteinIRI and accession\n",
    "    query = proteinQuery.substitute(proteinIRI=protein,bsAccession=accession)\n",
    "    logging.debug('Query: %s' % query)\n",
    "    # Retrieve protein entity\n",
    "    result = g.query(query)\n",
    "    logging.debug(\"\\tconvert query has %s statements.\" % len(result))\n",
    "    # Add protein entity to Dataset\n",
    "    ds_g += result\n",
    "    # Process SequenceAnnotations their property values and ranges\n",
    "    logging.debug('SequenceAnnotation Query: %s' % sequenceAnnotationsQuery)\n",
    "    ds_g += g.query(sequenceAnnotationsQuery)\n",
    "    logging.debug('PropertyValue Query: %s' % propertyValueQuery)\n",
    "    ds_g += g.query(propertyValueQuery)\n",
    "    logging.debug('SequenceRange Query: %s' % sequenceRangeQuery)\n",
    "    ds_g += g.query(sequenceRangeQuery)"
   ]
  },
  {
   "cell_type": "markdown",
   "metadata": {},
   "source": [
    "#### Process Source Data Files\n",
    "\n",
    "The following method processes the files in the given directory and calls the methods to do the data extraction."
   ]
  },
  {
   "cell_type": "code",
   "execution_count": 16,
   "metadata": {},
   "outputs": [],
   "source": [
    "def processDataFiles(idpKG, directoryLocation):\n",
    "    processed = 0\n",
    "    for file in glob(directoryLocation + \"*.nq\"):\n",
    "        logging.info(\"\\tProcessing file: %s\" % file)\n",
    "        g = ConjunctiveGraph()\n",
    "        g.parse(file, format=\"nquads\")\n",
    "        logging.info(\"\\tSource has %s statements.\" % len(g))\n",
    "        # Ignore files with 4 or fewer statements; these correspond to empty scrapes\n",
    "        if len(g) <= 4: \n",
    "            logging.info(\"\\tSkip processing of file: %s – it contains no data.\" % file)\n",
    "            continue\n",
    "\n",
    "        # Retrieve provenance of crawl and add to default graph\n",
    "        result = g.query(provenanceQuery)\n",
    "        # Insert provenance into default context\n",
    "        for s, p, o in result:\n",
    "            idpKG.add((s, p, o))\n",
    "            # Store context of crawl\n",
    "            context = (s)\n",
    "        logging.info('Context %s' % (context))\n",
    "        # Create context in Dataset for the crawled entity\n",
    "        ds_g = idpKG.graph(URIRef(context))\n",
    "\n",
    "        # Add Dataset information to the generated KG\n",
    "        logging.debug('Dataset Query: %s' % datasetQuery)\n",
    "        ds_g += g.query(datasetQuery)\n",
    "        logging.debug('Dataset query added %d statements' % len(ds_g))\n",
    "\n",
    "        # Add Dataset information to the generated KG\n",
    "        logging.debug('DataCatalog Query: %s' % dataCatalogQuery)\n",
    "        ds_g += g.query(dataCatalogQuery)\n",
    "        logging.debug('Number of statements after DataCatalog query %d' % len(ds_g))\n",
    "        logging.info(\"\\tIDPKG has %s statements.\" % len(idpKG))\n",
    "\n",
    "        # Extract data source and UniProt IRIs\n",
    "        results = g.query(idQuery)\n",
    "        logging.info(\"\\tID query result has %s statements.\" % len(results))\n",
    "        # Convert to IDP KG model\n",
    "        for result in results:\n",
    "            proteinIRI = result['proteinIRI']\n",
    "            uniprotIRI = result['uniprot']\n",
    "            logging.debug(\"\\tProtein: %s\\n\\tUniProt: %s\" % (proteinIRI, uniprotIRI))\n",
    "            \n",
    "            # Extract UniProt accession to use as an identifier in the Bioschemas namespace\n",
    "            uniprotAccession = uniprotIRI[uniprotIRI.rindex('/')+1:]\n",
    "            logging.info('Accession: %s' % uniprotAccession)\n",
    "            \n",
    "            # Create entity for named graph KG approach\n",
    "            createProteinEntity(g, ds_g, proteinIRI, uniprotIRI, uniprotAccession)\n",
    "            logging.info(\"\\tIDPKG has %s statements.\" % len(idpKG))\n",
    "        processed += 1\n",
    "    return processed"
   ]
  },
  {
   "cell_type": "markdown",
   "metadata": {},
   "source": [
    "#### Process Sample Data\n",
    "The following method processes the sample data files provided in the GitHub repository."
   ]
  },
  {
   "cell_type": "code",
   "execution_count": 17,
   "metadata": {},
   "outputs": [],
   "source": [
    "def processSampleData(idpKG):\n",
    "    totalProcessed = 0\n",
    "\n",
    "    # Process DisProt files\n",
    "    print(\"Processing DisProt...\", end='')\n",
    "    logging.info(\"Processing DisProt...\")\n",
    "    numberOfFiles = processDataFiles(idpKG, \"../scraped-data/sample/disprot/\")\n",
    "    print(\"%d files processed\" % numberOfFiles)\n",
    "    logging.info(\"%d files processed\" % numberOfFiles)\n",
    "    totalProcessed += numberOfFiles\n",
    "\n",
    "    # Process MobiDB files\n",
    "    print(\"Processing MobiDB...\", end='')\n",
    "    logging.info(\"Processing MobiDB...\")\n",
    "    numberOfFiles = processDataFiles(idpKG, \"../scraped-data/sample/mobidb/\")\n",
    "    print(\"%d files processed\" % numberOfFiles)\n",
    "    logging.info(\"%d files processed\" % numberOfFiles)\n",
    "    totalProcessed += numberOfFiles\n",
    "\n",
    "    # Process PED files\n",
    "    print(\"Processing PED...\", end='')\n",
    "    logging.info(\"Processing PED...\")\n",
    "    numberOfFiles = processDataFiles(idpKG, \"../scraped-data/sample/ped/\")\n",
    "    print(\"%d files processed\" % numberOfFiles)\n",
    "    logging.info(\"%d files processed\" % numberOfFiles)\n",
    "    totalProcessed += numberOfFiles\n",
    "    \n",
    "    return totalProcessed"
   ]
  },
  {
   "cell_type": "markdown",
   "metadata": {},
   "source": [
    "#### Control Processing\n",
    "\n",
    "This method controls the processing based on the scraped dataset chosen from the dropdown."
   ]
  },
  {
   "cell_type": "code",
   "execution_count": 18,
   "metadata": {},
   "outputs": [],
   "source": [
    "def controlProcessing(selected, output):\n",
    "    validate=False\n",
    "    print('Processing %r' % selected)\n",
    "    logging.info('Processing %r' % selected)\n",
    "    if selected=='../scraped-data/sample/':\n",
    "        # Process the sample data\n",
    "        totalProcessed = processSampleData(idpKG)\n",
    "        validate=True\n",
    "    else:\n",
    "        # Process Dump\n",
    "        totalProcessed = processDataFiles(idpKG, selected)\n",
    "\n",
    "    # Output IDP KG\n",
    "    idpKG.serialize('IDPKG.nq', format='nquads')\n",
    "    idpKG.serialize('IDPKG.jsonld', format='json-ld')\n",
    "\n",
    "    print('Processed %d files' % totalProcessed)\n",
    "    logging.info('Processed %d files' % totalProcessed)\n",
    "\n",
    "    # Validation only for the sample dataset\n",
    "    if validate:\n",
    "        assert (totalProcessed == 9), \"Expected 9 data files but processed %r\" % totalProcessed\n",
    "\n",
    "    numberOfContexts = sum(1 for _ in idpKG.contexts())\n",
    "    print('IDP KG has %d statements.' % len(idpKG))\n",
    "    logging.info('IDP KG has %d statements.' % len(idpKG))\n",
    "    print('IDP KG has %d contexts.' % numberOfContexts)\n",
    "    logging.info('IDP KG has %d contexts.' % numberOfContexts)\n",
    "    if validate:\n",
    "        # Context created for each file, plus the default context\n",
    "        assert (numberOfContexts == totalProcessed + 1), \\\n",
    "            \"Expect the number of contexts (%d) to be one more than the number of files containing data (%d)\" % \\\n",
    "            (numberOfContexts, totalProcessed)\n",
    "    logging.debug('IDP contexts:')\n",
    "    for c in idpKG.contexts():\n",
    "        logging.debug('\\t%s' % c)\n",
    "        logging.debug('\\tNumber of statements %d' % len(c))\n",
    "    print('\\nIDP ETL process finished successfully!')\n",
    "    logging.info('IDP ETL process finished successfully!')"
   ]
  },
  {
   "cell_type": "markdown",
   "metadata": {},
   "source": [
    "### Main Method\n",
    "\n",
    "Processes the n-quad data files and converts them into the knowledge graph."
   ]
  },
  {
   "cell_type": "code",
   "execution_count": 19,
   "metadata": {
    "tags": []
   },
   "outputs": [
    {
     "name": "stdout",
     "output_type": "stream",
     "text": [
      "Please select a scraped dataset to process. We suggest starting with the '../scraped-data/sample/' dataset.\n"
     ]
    },
    {
     "data": {
      "application/vnd.jupyter.widget-view+json": {
       "model_id": "12189dca884a4d21a37ded09f4edb614",
       "version_major": 2,
       "version_minor": 0
      },
      "text/plain": [
       "Dropdown(description='Datasets:', options=('../scraped-data/2021-08-13_25perSite/', '../scraped-data/2021-07-1…"
      ]
     },
     "metadata": {},
     "output_type": "display_data"
    },
    {
     "data": {
      "application/vnd.jupyter.widget-view+json": {
       "model_id": "90a93e1ad92748f9835e1c2b7a367eaf",
       "version_major": 2,
       "version_minor": 0
      },
      "text/plain": [
       "Output()"
      ]
     },
     "metadata": {},
     "output_type": "display_data"
    }
   ],
   "source": [
    "# Main control flow of the program\n",
    "\n",
    "# Instantiate Knowledge Graphs\n",
    "idpKG = Dataset()\n",
    "\n",
    "directories = glob(\"../scraped-data/*\" + os.path.sep)\n",
    "selected = widgets.Dropdown(\n",
    "    options=directories,\n",
    "    value=None, #'../scraped-data/sample/',\n",
    "    description='Datasets:',\n",
    "    disabled=False,\n",
    ")\n",
    "\n",
    "output = widgets.Output()\n",
    "\n",
    "#On change event\n",
    "def on_change(change):\n",
    "    with output:\n",
    "        clear_output(True)\n",
    "        controlProcessing(change.new, output)    \n",
    "selected.observe(on_change, names='value')\n",
    "\n",
    "print(\"Please select a scraped dataset to process. We suggest starting with the '../scraped-data/sample/' dataset.\")\n",
    "display(selected, output)"
   ]
  },
  {
   "cell_type": "code",
   "execution_count": null,
   "metadata": {},
   "outputs": [],
   "source": []
  }
 ],
 "metadata": {
  "kernelspec": {
   "display_name": "Python 3 (ipykernel)",
   "language": "python",
   "name": "python3"
  },
  "language_info": {
   "codemirror_mode": {
    "name": "ipython",
    "version": 3
   },
   "file_extension": ".py",
   "mimetype": "text/x-python",
   "name": "python",
   "nbconvert_exporter": "python",
   "pygments_lexer": "ipython3",
   "version": "3.9.5"
  }
 },
 "nbformat": 4,
 "nbformat_minor": 4
}
