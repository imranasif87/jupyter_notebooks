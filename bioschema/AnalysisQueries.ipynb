{
 "cells": [
  {
   "cell_type": "markdown",
   "metadata": {
    "tags": []
   },
   "source": [
    "# Analysis of the IDP Knowledge Graph\n",
    "\n",
    "__Authors:__  \n",
    "Alasdair J G Gray ([ORCID:0000-0002-5711-4872](http://orcid.org/0000-0002-5711-4872)), _Heriot-Watt University, Edinburgh, UK_\n",
    "\n",
    "Petros Papadopoulos ([ORCID:0000-0002-8110-7576](https://orcid.org/0000-0002-8110-7576)), _Heriot-Watt University, Edinburgh, UK_\n",
    "\n",
    "Ivan Mičetić ([ORCID:0000-0003-1691-8425](https://orcid.org/0000-0003-1691-8425)), _University of Padua, Italy_\n",
    "\n",
    "Andras Hatos ([ORCID:0000-0001-9224-9820](https://orcid.org/0000-0001-9224-9820)), _University of Padua, Italy_\n",
    "\n",
    "Imran Asif ([ORCID:0000-0002-1144-6265](https://orcid.org/0000-0002-1144-6265)), _Heriot-Watt University, Edinburgh, UK_\n",
    "\n",
    "\n",
    "__License:__ Apache 2.0\n",
    "\n",
    "__Acknowledgements:__ This notebook was created during the Virtual BioHackathon-Europe 2020."
   ]
  },
  {
   "cell_type": "markdown",
   "metadata": {
    "toc-hr-collapsed": true
   },
   "source": [
    "## Introduction\n",
    "\n",
    "This notebook contains SPARQL queries to perform a data analysis of the Intrinsically Disordered Protein (IDP) Knowledge Graph. The IDP knowledge graph was constructed from Bioschemas markup embedded in DisProt, MobiDb, and Protein Ensemble Database (PED) that was harvested using the Bioschemas Markup Scraper and Extractor and converted into a knowledge graph using the process in this [notebook](https://github.com/elixir-europe/BioHackathon-projects-2020/blob/master/projects/24/IDPCentral/notebooks/ETLProcess.ipynb). "
   ]
  },
  {
   "cell_type": "markdown",
   "metadata": {},
   "source": [
    "### Library Imports"
   ]
  },
  {
   "cell_type": "code",
   "execution_count": 390,
   "metadata": {},
   "outputs": [],
   "source": [
    "# Import and configure logging library\n",
    "from datetime import datetime\n",
    "import logging\n",
    "logging.basicConfig(\n",
    "    filename='idpQuery.log', \n",
    "    filemode='w', \n",
    "    format='%(levelname)s:%(message)s', \n",
    "    level=logging.INFO)\n",
    "logging.info('Starting processing at %s' % datetime.now().time())\n",
    "\n",
    "import ipywidgets as widgets\n",
    "from ipywidgets import Layout\n",
    "from IPython.core.display import display, HTML\n",
    "from IPython.display import clear_output\n",
    "from SPARQLWrapper import SPARQLWrapper, JSON\n",
    "import json\n",
    "import glob\n",
    "import html"
   ]
  },
  {
   "cell_type": "code",
   "execution_count": 391,
   "metadata": {},
   "outputs": [],
   "source": [
    "# Imports from RDFlib\n",
    "import rdflib\n",
    "from rdflib import ConjunctiveGraph, plugin\n",
    "from rdflib.serializer import Serializer"
   ]
  },
  {
   "cell_type": "markdown",
   "metadata": {},
   "source": [
    "### Result Display Function\n",
    "\n",
    "The following function takes the results of a `SPARQL SELECT` query and displays them using a HTML table for human viewing."
   ]
  },
  {
   "cell_type": "code",
   "execution_count": 392,
   "metadata": {},
   "outputs": [],
   "source": [
    "def displayResults(queryResult):\n",
    "    HTMLResult = '<div style=\"width:90% !important;overflow-x:auto;\"><p>Number of results: ' + str(len(queryResult['results']['bindings'])) + '</p>'\n",
    "    HTMLResult = HTMLResult + '<table><tr style=\"color:white;background-color:#43BFC7;font-weight:bold;word-wrap: break-word;\">'\n",
    "    # print variable names and build header:\n",
    "    for varName in queryResult['head']['vars']:\n",
    "        HTMLResult = HTMLResult + '<td>' + varName + '</td>'\n",
    "    HTMLResult = HTMLResult + '</tr>'\n",
    "    \n",
    "    # print values from each row and build table of results\n",
    "    for row in queryResult['results']['bindings']:\n",
    "        HTMLResult = HTMLResult + '<tr>' \n",
    "        for column in queryResult['head']['vars']:\n",
    "            #print(\"COLUMN:\", column)\n",
    "            if column != \"\":\n",
    "                HTMLResult = HTMLResult + '<td>' +  str(row[column]['value']) + '</td>'\n",
    "            else:\n",
    "                HTMLResult = HTMLResult + '<td>' + \"N/A\"+ '</td>'\n",
    "        HTMLResult = HTMLResult + '</tr>'\n",
    "    HTMLResult = HTMLResult + '</table></div>'\n",
    "    display(HTML(HTMLResult))"
   ]
  },
  {
   "cell_type": "markdown",
   "metadata": {},
   "source": [
    "## Loading IDP-KG\n",
    "\n",
    "The data is read in from an N-QUADS file (`IDPKG.nq`). The data is expected to be in multiple named graphs, based on where the data was extracted from, with provenance data in the default graph."
   ]
  },
  {
   "cell_type": "code",
   "execution_count": 401,
   "metadata": {
    "tags": []
   },
   "outputs": [],
   "source": [
    "idpKG = None\n",
    "opt = ''  #selection option\n",
    "query_options = [] # use in dropdown list\n",
    "\n",
    "queryOrder = { #All queries must be entered here.\n",
    "\t\t\t  1: 'hcls-stats/number-triples.rq', \n",
    "     \t\t  2: 'hcls-stats/typed-entities.rq', \n",
    "\t\t\t  3: 'hcls-stats/number-subjects.rq', \n",
    "\t\t\t  4: 'hcls-stats/number-properties.rq', \n",
    "\t\t\t  5: 'hcls-stats/number-objects.rq',\n",
    "\t\t\t  6: 'hcls-stats/number-classes.rq',\n",
    "\t\t\t  7: 'hcls-stats/number-literals.rq',\n",
    "\t\t\t  8: 'hcls-stats/number-graphs.rq',\n",
    "\t\t\t  9: 'hcls-stats/class-count.rq',\n",
    "\t\t\t  10: 'hcls-stats/properties-ccurence.rq',\n",
    "\t\t\t  11: 'hcls-stats/property-subjects-triples.rq',\n",
    "\t\t\t  12: 'hcls-stats/number-typed-objects-linked-property.rq',\n",
    "\t\t\t  13: 'hcls-stats/triples-literals-related-property.rq',\n",
    "\t\t\t  14: 'hcls-stats/number-subject-types-object-types.rq',\n",
    "\t\t\t  15: 'proteins/protein-count.rq',\n",
    "\t\t\t  16: 'proteins/protein-per-dataset.rq',\n",
    "\t\t\t  17: 'proteins/protein-multi-datasets.rq',\n",
    "\t\t\t  18: 'proteins/proteins-by-dataset-groupings.rq',\n",
    "\t\t\t  19: 'proteins/protein-multi-pages.rq',\n",
    "\t\t\t  20: 'proteins/protein-information-minimal.rq',\n",
    "\t\t  \t  21: 'proteins/protein-information.rq',\n",
    "\t\t\t  22: 'annotations/annotation-per-dataset.rq',\n",
    "\t\t\t  23: 'annotations/annotations-multi-datasets.rq',\n",
    "\t\t\t  24: 'annotations/annotations-multi-pages.rq',\n",
    "\t\t\t  25: 'annotations/annotation-details.rq',\n",
    "\t\t\t  26: 'annotations/annotation-scholarly-articles.rq',\n",
    "\t\t\t  27: 'annotations/annotations-per-article.rq',\n",
    "\t\t\t  30: 'annotations/annotations-by-term-code.rq',\n",
    "\t\t\t  31: 'annotations/protein-annotations-multi-datasets.rq',\n",
    "\t\t      32: 'annotations/protein-annotation-count.rq',\n",
    "\t\t      33: 'annotations/list-annotations.rq'\n",
    "\t\t\t }\n",
    "\n",
    "# Change the order in dict key, the following line sort it and execute query\n",
    "queryOrder = {k: queryOrder[k] for k in sorted(queryOrder)}\n",
    "\n",
    "query_options.append(('All Queries', 'all'))\n",
    "for key in queryOrder:\n",
    "    text = queryOrder[key].split(\"/\")[1]\n",
    "    query_options.append((text, queryOrder[key]))\n",
    "    \n",
    "# Following method set the graph variable to sparql endpoint or local in-memory    \n",
    "def set_variable(loadingOpt, endpoint):\n",
    "    global idpKG\n",
    "    if loadingOpt == 'sparql':\n",
    "        idpKG = SPARQLWrapper(endpoint)\n",
    "        idpKG.setReturnFormat(JSON)\n",
    "        logging.info(\"SPARQL Endpoint: %s\" % endpoint)\n",
    "    else:\n",
    "        idpKG = ConjunctiveGraph()\n",
    "        idpKG.parse(endpoint, format=\"nquads\")\n",
    "        #idpKG.serialize(format=\"json-ld\") \n",
    "        logging.info(\"\\tIDP-KG has %s statements.\" % len(idpKG))\n",
    "\n",
    "def query_idpkg(query, loadingOpt):\n",
    "    if loadingOpt == 'sparql':\n",
    "        idpKG.setQuery(query)\n",
    "        results = idpKG.queryAndConvert()\n",
    "        #ToDo: add log message here giving number of results\n",
    "        logging.info(\"Number of Results: %s\" % str(len(results['results']['bindings'])))\n",
    "        return results\n",
    "    else:\n",
    "        results = idpKG.query(query)\n",
    "        results = json.loads(results.serialize(format=\"json\"))\n",
    "        logging.info(\"Number of Results: %s\" % str(len(results['results']['bindings'])))\n",
    "        return results\n",
    "    \n",
    "def runQuery(queryFile):\n",
    "    with open('../queries/'+queryFile) as f:\n",
    "        query = f.read()\n",
    "        first_line = query.partition('\\n')[0]\n",
    "        \n",
    "        if '#' in first_line:\n",
    "            query = query.split(\"\\n\",1)[1]\n",
    "        else:\n",
    "            first_line = ''\n",
    "            \n",
    "        display(HTML('<hr />'))\n",
    "        print('File: /queries/' + queryFile)\n",
    "        print('Query:')\n",
    "        display(HTML('<div style=\"width:90%;overflow-x:auto;\"><b><u>'+first_line.replace('#','')+'</u></b><br /><br /><pre>'+html.escape(query)+'</pre></div>'))\n",
    "        logging.debug('File: /queries/' + queryFile)\n",
    "        logging.debug('Query:\\n' + query)\n",
    "        try:\n",
    "            displayResults(query_idpkg(query, opt))\n",
    "        except Exception as e:\n",
    "            print(str(e))\n",
    "            \n",
    "#############################################\n",
    "#Create Selection GUI\n",
    "rdo1 = widgets.RadioButtons(\n",
    "    options=['SPARQL Endpoint:', 'Test-8', 'Sample-25', 'IDPKG-Full.nq'],\n",
    "    #     value='pineapple',\n",
    "    #description='Pizza topping:',\n",
    "    name = 'select',\n",
    "    disabled=False,\n",
    "    layout=Layout(width='20%')\n",
    ")\n",
    "    \n",
    "txt = widgets.Text(\n",
    "    value='http://137.195.27.15:7200/repositories/IDPKG-Full',\n",
    "    placeholder='Enter endpoint',\n",
    "    disabled=False,\n",
    "    layout=Layout(width='80%', height='5px')\n",
    ")\n",
    "\n",
    "dropdown = widgets.Dropdown(\n",
    "            options=query_options,\n",
    "            value='all'\n",
    "        )\n",
    "    \n",
    "btn = widgets.Button(\n",
    "    description='Execute',\n",
    "    disabled=False,\n",
    "    button_style='', # 'success', 'info', 'warning', 'danger' or ''\n",
    "    tooltip='Execute',\n",
    "    icon='check'\n",
    ")\n",
    "output = widgets.Output()\n",
    "\n",
    "def createSelectionGUI():\n",
    "    btn.on_click(on_button_clicked)\n",
    "    display(widgets.HBox([rdo1, txt]), dropdown, widgets.VBox([btn]), output)\n",
    "\n",
    "def on_button_clicked(e):\n",
    "    with output:\n",
    "        global opt\n",
    "        if 'sparql' in rdo1.value.lower():\n",
    "            if txt.value == '':\n",
    "                display(HTML('<span style=\"color:red\">Please enter SPARQL endpoint.</span>'))\n",
    "            else:\n",
    "                set_variable('sparql', txt.value)\n",
    "                opt = 'sparql'\n",
    "        else:\n",
    "            nqFile = ''\n",
    "            if 'test-8' in rdo1.value.lower():\n",
    "                nqFile = 'IDPKG-Sample8.nq'\n",
    "            elif 'sample-25' in rdo1.value.lower():\n",
    "                nqFile = 'IDPKG-Sample25.nq'\n",
    "            elif 'idpkg-full' in rdo1.value.lower():\n",
    "                nqFile = 'IDPKG-Full.nq'\n",
    "                \n",
    "            set_variable('local', nqFile)\n",
    "            opt = 'local'\n",
    "            \n",
    "        clear_output(True)\n",
    "        \n",
    "        #Execute query\n",
    "        if dropdown.value == 'all':\n",
    "            for key in queryOrder:\n",
    "                runQuery(queryOrder[key])\n",
    "        else:\n",
    "            runQuery(dropdown.value)"
   ]
  },
  {
   "cell_type": "code",
   "execution_count": 402,
   "metadata": {
    "tags": []
   },
   "outputs": [
    {
     "data": {
      "application/vnd.jupyter.widget-view+json": {
       "model_id": "881a963376cf4c36b55ca7c8e8572b10",
       "version_major": 2,
       "version_minor": 0
      },
      "text/plain": [
       "HBox(children=(RadioButtons(layout=Layout(width='20%'), options=('SPARQL Endpoint:', 'Test-8', 'Sample-25', 'I…"
      ]
     },
     "metadata": {},
     "output_type": "display_data"
    },
    {
     "data": {
      "application/vnd.jupyter.widget-view+json": {
       "model_id": "7d8e13d5a27944f48ab76b3d29c106ac",
       "version_major": 2,
       "version_minor": 0
      },
      "text/plain": [
       "Dropdown(options=(('All Queries', 'all'), ('number-triples.rq', 'hcls-stats/number-triples.rq'), ('typed-entit…"
      ]
     },
     "metadata": {},
     "output_type": "display_data"
    },
    {
     "data": {
      "application/vnd.jupyter.widget-view+json": {
       "model_id": "ab977bc586ba4622b87ee8e0527b1b00",
       "version_major": 2,
       "version_minor": 0
      },
      "text/plain": [
       "VBox(children=(Button(description='Execute', icon='check', style=ButtonStyle(), tooltip='Execute'),))"
      ]
     },
     "metadata": {},
     "output_type": "display_data"
    },
    {
     "data": {
      "application/vnd.jupyter.widget-view+json": {
       "model_id": "082394107dcc493c9b912e2cc5b9dc88",
       "version_major": 2,
       "version_minor": 0
      },
      "text/plain": [
       "Output()"
      ]
     },
     "metadata": {},
     "output_type": "display_data"
    }
   ],
   "source": [
    "createSelectionGUI()"
   ]
  },
  {
   "cell_type": "markdown",
   "metadata": {
    "tags": [],
    "toc-hr-collapsed": true
   },
   "source": [
    "## Knowledge Graph Statistics\n",
    "\n",
    "This section reports various statistics about the IDP-KG. The choice of statistics was inspired by the [HCLS Dataset Description Community Profile](https://www.w3.org/TR/hcls-dataset/#s6_6)."
   ]
  },
  {
   "cell_type": "markdown",
   "metadata": {
    "tags": []
   },
   "source": [
    "### Number of Triples"
   ]
  },
  {
   "cell_type": "code",
   "execution_count": 7,
   "metadata": {},
   "outputs": [
    {
     "data": {
      "text/html": [
       "<hr />"
      ],
      "text/plain": [
       "<IPython.core.display.HTML object>"
      ]
     },
     "metadata": {},
     "output_type": "display_data"
    },
    {
     "name": "stdout",
     "output_type": "stream",
     "text": [
      "File: /queries/hcls-stats/number-triples.rq\n",
      "Query:\n",
      "## Number of Triples\n",
      "\n",
      "SELECT (COUNT(*) AS ?triples)\n",
      "WHERE {\n",
      "    GRAPH ?g {\n",
      "        ?s ?p ?o\n",
      "    }\n",
      "}\n",
      "\n"
     ]
    },
    {
     "data": {
      "text/html": [
       "<p>Number of results: 1</p><table><tr style=\"color:white;background-color:#43BFC7;font-weight:bold\"><td>triples</td></tr><tr><td>7709</td></tr></table>"
      ],
      "text/plain": [
       "<IPython.core.display.HTML object>"
      ]
     },
     "metadata": {},
     "output_type": "display_data"
    }
   ],
   "source": [
    "logging.info(' Number of Triples - Query Started.')\n",
    "runQuery('hcls-stats/number-triples.rq')\n",
    "logging.info('Query Completed.')"
   ]
  },
  {
   "cell_type": "markdown",
   "metadata": {},
   "source": [
    "### Number of Typed Entities\n",
    "\n",
    "Note that we use the `DISTINCT` keyword in the query since the same entity can appear in multiple named graphs."
   ]
  },
  {
   "cell_type": "code",
   "execution_count": null,
   "metadata": {},
   "outputs": [],
   "source": [
    "logging.info(' Number of Typed Entities - Query Started.')\n",
    "displayResults(query_idpkg(\"\"\"\n",
    "SELECT (COUNT(DISTINCT ?s) AS ?entities) \n",
    "WHERE { \n",
    "    GRAPH ?g { \n",
    "        ?s a [] \n",
    "    }\n",
    "}\n",
    "\"\"\", opt))\n",
    "logging.info('Query Completed.')"
   ]
  },
  {
   "cell_type": "markdown",
   "metadata": {},
   "source": [
    "### Number of Unique Subjects"
   ]
  },
  {
   "cell_type": "code",
   "execution_count": null,
   "metadata": {},
   "outputs": [],
   "source": [
    "logging.info(' Number of Unique Subjects - Query Started.')\n",
    "displayResults(query_idpkg(\"\"\"\n",
    "SELECT (COUNT(DISTINCT ?s) AS ?subjects) \n",
    "WHERE { \n",
    "    GRAPH ?g { \n",
    "        ?s ?p ?o\n",
    "    }\n",
    "}\n",
    "\"\"\", opt))\n",
    "logging.info('Query Completed.')"
   ]
  },
  {
   "cell_type": "markdown",
   "metadata": {},
   "source": [
    "### Number of Unique Properties"
   ]
  },
  {
   "cell_type": "code",
   "execution_count": null,
   "metadata": {},
   "outputs": [],
   "source": [
    "logging.info(' Number of Unique Properties - Query Started.')\n",
    "displayResults(query_idpkg(\"\"\"\n",
    "SELECT (COUNT(DISTINCT ?p) AS ?properties) \n",
    "WHERE { \n",
    "    GRAPH ?g { \n",
    "        ?s ?p ?o \n",
    "    }\n",
    "}\n",
    "\"\"\", opt))\n",
    "logging.info('Query Completed.')"
   ]
  },
  {
   "cell_type": "markdown",
   "metadata": {},
   "source": [
    "### Number of Unique Objects"
   ]
  },
  {
   "cell_type": "code",
   "execution_count": null,
   "metadata": {},
   "outputs": [],
   "source": [
    "logging.info(' Number of Unique Objects - Query Started.')\n",
    "displayResults(query_idpkg(\"\"\"\n",
    "SELECT (COUNT(DISTINCT ?o) AS ?objects) \n",
    "WHERE { \n",
    "    GRAPH ?g { \n",
    "        ?s ?p ?o\n",
    "    }\n",
    "    FILTER(!isLiteral(?o))\n",
    "}\n",
    "\"\"\", opt))\n",
    "logging.info('Query Completed.')"
   ]
  },
  {
   "cell_type": "markdown",
   "metadata": {},
   "source": [
    "### Number of Unique Classes"
   ]
  },
  {
   "cell_type": "code",
   "execution_count": null,
   "metadata": {},
   "outputs": [],
   "source": [
    "logging.info(' Number of Unique Object Classes - Query Started.')\n",
    "displayResults(query_idpkg(\"\"\"\n",
    "SELECT (COUNT(DISTINCT ?o) AS ?classes) \n",
    "WHERE { \n",
    "    GRAPH ?g { \n",
    "        ?s a ?o \n",
    "    }\n",
    "}\n",
    "\"\"\", opt))\n",
    "logging.info('Query Completed.')"
   ]
  },
  {
   "cell_type": "markdown",
   "metadata": {},
   "source": [
    "### Number of Unique Literals"
   ]
  },
  {
   "cell_type": "code",
   "execution_count": null,
   "metadata": {},
   "outputs": [],
   "source": [
    "logging.info(' Number of Unique Literals - Query Started.')\n",
    "displayResults(query_idpkg(\"\"\"\n",
    "SELECT (COUNT(DISTINCT ?o) AS ?objects) \n",
    "WHERE { \n",
    "    GRAPH ?g { \n",
    "        ?s ?p ?o \n",
    "    }\n",
    "    FILTER(isLiteral(?o))\n",
    "}\n",
    "\"\"\", opt))\n",
    "logging.info('Query Completed.')"
   ]
  },
  {
   "cell_type": "markdown",
   "metadata": {},
   "source": [
    "### Number of Graphs"
   ]
  },
  {
   "cell_type": "code",
   "execution_count": null,
   "metadata": {},
   "outputs": [],
   "source": [
    "logging.info(' Number of Unique Graphs - Query Started.')\n",
    "displayResults(query_idpkg(\"\"\"\n",
    "SELECT (COUNT(DISTINCT ?g) AS ?graphs) \n",
    "WHERE { \n",
    "  GRAPH ?g \n",
    "    { ?s ?p ?o }\n",
    "}\n",
    "\"\"\", opt))\n",
    "logging.info('Query Completed.')"
   ]
  },
  {
   "cell_type": "markdown",
   "metadata": {},
   "source": [
    "### Instances per Class"
   ]
  },
  {
   "cell_type": "code",
   "execution_count": null,
   "metadata": {},
   "outputs": [],
   "source": [
    "logging.info(' Classes & Distinct Instances - Query Started.')\n",
    "displayResults(query_idpkg(\"\"\"\n",
    "PREFIX schema: <https://schema.org/>\n",
    "PREFIX pav: <http://purl.org/pav/>\n",
    "SELECT ?Class (COUNT(DISTINCT ?s) AS ?distinctInstances) \n",
    "WHERE {\n",
    "    GRAPH ?g {\n",
    "        ?s a ?Class\n",
    "    }\n",
    "} \n",
    "GROUP BY ?Class\n",
    "ORDER BY ?Class\n",
    "\"\"\", opt))\n",
    "logging.info('Query Completed.')"
   ]
  },
  {
   "cell_type": "markdown",
   "metadata": {},
   "source": [
    "### Properties and their Occurence"
   ]
  },
  {
   "cell_type": "code",
   "execution_count": null,
   "metadata": {},
   "outputs": [],
   "source": [
    "logging.info(' Number of Unique Predicates - Query Started.')\n",
    "displayResults(query_idpkg(\"\"\"\n",
    "PREFIX schema: <https://schema.org/>\n",
    "PREFIX pav: <http://purl.org/pav/>\n",
    "SELECT ?p (COUNT(?p) AS ?triples) \n",
    "WHERE {\n",
    "    GRAPH ?g {\n",
    "        ?s ?p ?o\n",
    "    }\n",
    "} \n",
    "GROUP BY ?p\n",
    "ORDER BY ?p\n",
    "\"\"\", opt))\n",
    "logging.info('Query Completed.')"
   ]
  },
  {
   "cell_type": "markdown",
   "metadata": {},
   "source": [
    "### Property, number of unique typed subjects, and triples"
   ]
  },
  {
   "cell_type": "code",
   "execution_count": null,
   "metadata": {},
   "outputs": [],
   "source": [
    "logging.info(' scount\tstype\tp\ttriples - Query Started.')\n",
    "displayResults(query_idpkg(\"\"\"\n",
    "PREFIX schema: <https://schema.org/>\n",
    "PREFIX pav: <http://purl.org/pav/>\n",
    "SELECT (COUNT(DISTINCT ?s) AS ?scount) ?stype ?p (COUNT(?p) AS ?triples) \n",
    "WHERE {\n",
    "    GRAPH ?g {\n",
    "        ?s ?p ?o .\n",
    "        ?s a ?stype \n",
    "    }\n",
    "} \n",
    "GROUP BY ?p ?stype\n",
    "ORDER BY ?stype ?p\n",
    "\"\"\", opt))\n",
    "logging.info('Query Completed.')"
   ]
  },
  {
   "cell_type": "markdown",
   "metadata": {},
   "source": [
    "### Number of Unique Typed Objects Linked to a Property"
   ]
  },
  {
   "cell_type": "code",
   "execution_count": null,
   "metadata": {},
   "outputs": [],
   "source": [
    "logging.info(' Query Started.')\n",
    "displayResults(query_idpkg(\"\"\"\n",
    "PREFIX schema: <https://schema.org/>\n",
    "PREFIX pav: <http://purl.org/pav/>\n",
    "SELECT ?p (COUNT(?p) AS ?triples) ?otype (COUNT(DISTINCT ?o) AS ?count)\n",
    "WHERE {\n",
    "    GRAPH ?g {\n",
    "        ?s ?p ?o .\n",
    "        ?o a ?otype\n",
    "    }\n",
    "} \n",
    "GROUP BY ?p ?otype\n",
    "ORDER BY ?p\n",
    "\"\"\", opt))\n",
    "logging.info('Query Completed.')"
   ]
  },
  {
   "cell_type": "markdown",
   "metadata": {},
   "source": [
    "### Triples and Number of Unique Literals Related to a Property"
   ]
  },
  {
   "cell_type": "code",
   "execution_count": null,
   "metadata": {},
   "outputs": [],
   "source": [
    "logging.info(' Query Started.')\n",
    "displayResults(query_idpkg(\"\"\"\n",
    "PREFIX schema: <https://schema.org/>\n",
    "PREFIX pav: <http://purl.org/pav/>\n",
    "SELECT ?p (COUNT(?p) AS ?triples) (COUNT(DISTINCT ?o) AS ?literals)\n",
    "WHERE {\n",
    "    GRAPH ?g {\n",
    "        ?s ?p ?o\n",
    "    }\n",
    "    FILTER (isLiteral(?o))\n",
    "} \n",
    "GROUP BY ?p\n",
    "ORDER BY ?p\n",
    "\"\"\", opt))\n",
    "logging.info('Query Completed.')"
   ]
  },
  {
   "cell_type": "markdown",
   "metadata": {},
   "source": [
    "### Number of Unique Subject Types Linked to Unique Object Types"
   ]
  },
  {
   "cell_type": "code",
   "execution_count": null,
   "metadata": {},
   "outputs": [],
   "source": [
    "logging.info(' Query Started.')\n",
    "displayResults(query_idpkg(\"\"\"\n",
    "PREFIX schema: <https://schema.org/>\n",
    "PREFIX pav: <http://purl.org/pav/>\n",
    "SELECT (COUNT(DISTINCT ?s) AS ?scount) ?stype ?p ?otype (COUNT(DISTINCT ?o) AS ?ocount)\n",
    "WHERE {\n",
    "    GRAPH ?g {\n",
    "        ?s ?p ?o .\n",
    "        ?s a ?stype .\n",
    "        ?o a ?otype .\n",
    "    }\n",
    "} \n",
    "GROUP BY ?p ?stype ?otype\n",
    "ORDER BY ?p\n",
    "\"\"\", opt))\n",
    "logging.info('Query Completed.')"
   ]
  },
  {
   "cell_type": "markdown",
   "metadata": {
    "tags": []
   },
   "source": [
    "## Data Content Statistics\n",
    "\n",
    "The previous section gave generic dataset statistics. We will now focus on information about the data content that is of interest to the IDP community."
   ]
  },
  {
   "cell_type": "markdown",
   "metadata": {},
   "source": [
    "### Number of Distinct Proteins\n",
    "Retrieve the number of distinct proteins in the IDP-KG.\n",
    "\n",
    "_Note that a protein can be present in multiple datasets._"
   ]
  },
  {
   "cell_type": "code",
   "execution_count": null,
   "metadata": {},
   "outputs": [],
   "source": [
    "logging.info(' Query Started.')\n",
    "displayResults(query_idpkg(\"\"\"\n",
    "PREFIX schema: <https://schema.org/>\n",
    "PREFIX pav: <http://purl.org/pav/>\n",
    "SELECT (COUNT(DISTINCT ?s) AS ?Proteins) \n",
    "WHERE {\n",
    "    GRAPH ?g {\n",
    "        ?s a schema:Protein\n",
    "    }\n",
    "} \n",
    "\"\"\", opt))\n",
    "logging.info('Query Completed.')"
   ]
  },
  {
   "cell_type": "markdown",
   "metadata": {
    "tags": []
   },
   "source": [
    "## Analysis of Proteins\n",
    "\n",
    "The queries in this section focus on the proteins contained in the Knowledge Graph."
   ]
  },
  {
   "cell_type": "markdown",
   "metadata": {},
   "source": [
    "### Proteins per Dataset\n",
    "\n",
    "Display the number of proteins per dataset"
   ]
  },
  {
   "cell_type": "code",
   "execution_count": 8,
   "metadata": {},
   "outputs": [
    {
     "data": {
      "text/html": [
       "<p>Number of results: 3</p><table><tr style=\"color:white;background-color:#43BFC7;font-weight:bold\"><td>dataset</td><td>Proteins</td></tr><tr><td>https://mobidb.org/#2020-09</td><td>28</td></tr><tr><td>https://proteinensemble.org/#2021-02-12</td><td>20</td></tr><tr><td>https://disprot.org/#2020-12</td><td>26</td></tr></table>"
      ],
      "text/plain": [
       "<IPython.core.display.HTML object>"
      ]
     },
     "metadata": {},
     "output_type": "display_data"
    }
   ],
   "source": [
    "logging.info(' Proteins per Dataset - Query Started.')\n",
    "displayResults(query_idpkg(\"\"\"\n",
    "PREFIX schema: <https://schema.org/>\n",
    "PREFIX pav: <http://purl.org/pav/>\n",
    "PREFIX void: <http://rdfs.org/ns/void#>\n",
    "\n",
    "SELECT ?dataset (COUNT(DISTINCT ?s) AS ?Proteins) \n",
    "WHERE {\n",
    "    GRAPH ?g {\n",
    "        ?s a schema:Protein\n",
    "    }\n",
    "    ?g void:inDataset ?dataset\n",
    "} \n",
    "GROUP BY ?dataset\n",
    "\"\"\", opt))\n",
    "logging.info('Query Completed.')"
   ]
  },
  {
   "cell_type": "markdown",
   "metadata": {},
   "source": [
    "### Proteins from Multiple Datasets\n",
    "\n",
    "A protein comes from multiple sources if the triple is found in multiple named graphs. The number of named graphs containing the triple indicates the number of sources containing the triple."
   ]
  },
  {
   "cell_type": "code",
   "execution_count": 9,
   "metadata": {},
   "outputs": [
    {
     "data": {
      "text/html": [
       "<p>Number of results: 9</p><table><tr style=\"color:white;background-color:#43BFC7;font-weight:bold\"><td>protein</td><td>numDatasets</td><td>datasets</td></tr><tr><td>https://idpcentral.org/id/P42212</td><td>2</td><td>https://proteinensemble.org/#2021-02-12, https://proteinensemble.org/#2021-02-12</td></tr><tr><td>https://idpcentral.org/id/P09525-1</td><td>2</td><td>https://proteinensemble.org/#2021-02-12, https://proteinensemble.org/#2021-02-12</td></tr><tr><td>https://idpcentral.org/id/P03265</td><td>2</td><td>https://mobidb.org/#2020-09, https://disprot.org/#2020-12</td></tr><tr><td>https://idpcentral.org/id/Q5L4K5</td><td>2</td><td>https://proteinensemble.org/#2021-02-12, https://proteinensemble.org/#2021-02-12</td></tr><tr><td>https://idpcentral.org/id/P37840</td><td>2</td><td>https://proteinensemble.org/#2021-02-12, https://proteinensemble.org/#2021-02-12</td></tr><tr><td>https://idpcentral.org/id/Q16143</td><td>2</td><td>https://proteinensemble.org/#2021-02-12, https://proteinensemble.org/#2021-02-12</td></tr><tr><td>https://idpcentral.org/id/P12296</td><td>4</td><td>https://proteinensemble.org/#2021-02-12, https://proteinensemble.org/#2021-02-12, https://proteinensemble.org/#2021-02-12, https://proteinensemble.org/#2021-02-12</td></tr><tr><td>https://idpcentral.org/id/P38634</td><td>4</td><td>https://proteinensemble.org/#2021-02-12, https://proteinensemble.org/#2021-02-12, https://proteinensemble.org/#2021-02-12, https://proteinensemble.org/#2021-02-12</td></tr><tr><td>https://idpcentral.org/id/O14558</td><td>5</td><td>https://proteinensemble.org/#2021-02-12, https://proteinensemble.org/#2021-02-12, https://proteinensemble.org/#2021-02-12, https://proteinensemble.org/#2021-02-12, https://proteinensemble.org/#2021-02-12</td></tr></table>"
      ],
      "text/plain": [
       "<IPython.core.display.HTML object>"
      ]
     },
     "metadata": {},
     "output_type": "display_data"
    }
   ],
   "source": [
    "logging.info(' Proteins Dataset & Number of Datasets - Query Started.')\n",
    "displayResults(query_idpkg(\"\"\"\n",
    "PREFIX schema: <https://schema.org/>\n",
    "PREFIX pav: <http://purl.org/pav/>\n",
    "PREFIX void: <http://rdfs.org/ns/void#>\n",
    "\n",
    "SELECT ?protein (COUNT(?g) as ?numDatasets) (GROUP_CONCAT(?dataset;SEPARATOR=\", \") AS ?datasets)\n",
    "WHERE {\n",
    "    GRAPH ?g {\n",
    "        ?protein a schema:Protein .\n",
    "    }\n",
    "    ?g void:inDataset ?dataset .\n",
    "}\n",
    "GROUP BY ?protein\n",
    "HAVING (COUNT(*) > 1)\n",
    "ORDER BY ?numDatasets\n",
    "\"\"\", opt))\n",
    "logging.info('Query Completed.')"
   ]
  },
  {
   "cell_type": "markdown",
   "metadata": {},
   "source": [
    "### Venn Analysis of Proteins by Dataset"
   ]
  },
  {
   "cell_type": "code",
   "execution_count": 10,
   "metadata": {
    "tags": []
   },
   "outputs": [
    {
     "data": {
      "text/html": [
       "<hr />"
      ],
      "text/plain": [
       "<IPython.core.display.HTML object>"
      ]
     },
     "metadata": {},
     "output_type": "display_data"
    },
    {
     "name": "stdout",
     "output_type": "stream",
     "text": [
      "File: /queries/proteins/proteins-by-dataset-groupings.rq\n",
      "Query:\n",
      "# Query to analyse the number of proteins by dataset groups\n",
      "\n",
      "PREFIX schema: <https://schema.org/>\n",
      "PREFIX pav: <http://purl.org/pav/>\n",
      "PREFIX void: <http://rdfs.org/ns/void#>\n",
      "\n",
      "SELECT ?description ?count\n",
      "WHERE {\n",
      "    {\n",
      "        {\n",
      "            SELECT (COUNT(DISTINCT ?s) AS ?c)\n",
      "            WHERE {\n",
      "                GRAPH ?g1 {\n",
      "                    ?s a schema:Protein\n",
      "                }\n",
      "            }\n",
      "        }\n",
      "        BIND(\"Distinct Proteins (Union)\" AS ?d)\n",
      "    }\n",
      "    UNION\n",
      "    {\n",
      "        {\n",
      "            SELECT (COUNT(DISTINCT ?s) AS ?c)\n",
      "            WHERE {\n",
      "                GRAPH ?g1 {\n",
      "                    ?s a schema:Protein\n",
      "                }\n",
      "                ?g1 void:inDataset \"https://disprot.org/#2020-12\"\n",
      "            }\n",
      "        }\n",
      "        BIND(\"DisProt Proteins\" AS ?d)\n",
      "    }\n",
      "    UNION\n",
      "    {\n",
      "        {\n",
      "            SELECT (COUNT(DISTINCT ?s) AS ?c)\n",
      "            WHERE {\n",
      "                GRAPH ?g1 {\n",
      "                    ?s a schema:Protein\n",
      "                }\n",
      "                ?g1 void:inDataset <https://mobidb.org/#2020-09>\n",
      "            }\n",
      "        }\n",
      "        BIND(\"MobiDB Proteins\" AS ?d)\n",
      "    }\n",
      "    UNION\n",
      "    {\n",
      "        {\n",
      "            SELECT (COUNT(DISTINCT ?s) AS ?c)\n",
      "            WHERE {\n",
      "                GRAPH ?g1 {\n",
      "                    ?s a schema:Protein\n",
      "                }\n",
      "                ?g1 void:inDataset \"https://proteinensemble.org/#2021-02-12\"\n",
      "            }\n",
      "        }\n",
      "        BIND(\"PED Proteins\" AS ?d)\n",
      "    }\n",
      "    UNION\n",
      "    {\n",
      "        {\n",
      "            SELECT (COUNT(DISTINCT ?s) AS ?c)\n",
      "            WHERE {\n",
      "                GRAPH ?g1 {\n",
      "                    ?s a schema:Protein\n",
      "                }\n",
      "                ?g1 void:inDataset \"https://disprot.org/#2020-12\"\n",
      "                FILTER NOT EXISTS {\n",
      "                    {GRAPH ?g2 {\n",
      "                        ?s a schema:Protein\n",
      "                    }\n",
      "                    ?g2 void:inDataset <https://mobidb.org/#2020-09>\n",
      "                    } UNION\n",
      "                    {GRAPH ?g3 {\n",
      "                        ?s a schema:Protein\n",
      "                    }\n",
      "                    ?g3 void:inDataset \"https://proteinensemble.org/#2021-02-12\"\n",
      "                    }\n",
      "                }\n",
      "            }\n",
      "        }\n",
      "        BIND(\"DisProt \\\\ (MobiDB U PED)\" AS ?d)\n",
      "    }\n",
      "    UNION\n",
      "    {\n",
      "        {\n",
      "            SELECT (COUNT(DISTINCT ?s) AS ?c)\n",
      "            WHERE {\n",
      "                GRAPH ?g1 {\n",
      "                    ?s a schema:Protein\n",
      "                }\n",
      "                ?g1 void:inDataset <https://mobidb.org/#2020-09>\n",
      "                FILTER NOT EXISTS {\n",
      "                    {GRAPH ?g2 {\n",
      "                        ?s a schema:Protein\n",
      "                    }\n",
      "                    ?g2 void:inDataset \"https://disprot.org/#2020-12\"\n",
      "                    } UNION\n",
      "                    {GRAPH ?g3 {\n",
      "                        ?s a schema:Protein\n",
      "                    }\n",
      "                    ?g3 void:inDataset \"https://proteinensemble.org/#2021-02-12\"\n",
      "                    }\n",
      "                }\n",
      "            }\n",
      "        }\n",
      "        BIND(\"MobiDB \\\\ (DisProt U PED)\" AS ?d)\n",
      "    }\n",
      "    UNION\n",
      "    {\n",
      "        {\n",
      "            SELECT (COUNT(DISTINCT ?s) AS ?c)\n",
      "            WHERE {\n",
      "                GRAPH ?g1 {\n",
      "                    ?s a schema:Protein\n",
      "                }\n",
      "                ?g1 void:inDataset \"https://proteinensemble.org/#2021-02-12\"\n",
      "                FILTER NOT EXISTS {\n",
      "                    {GRAPH ?g2 {\n",
      "                        ?s a schema:Protein\n",
      "                    }\n",
      "                    ?g2 void:inDataset \"https://disprot.org/#2020-12\"\n",
      "                    } UNION\n",
      "                    {GRAPH ?g3 {\n",
      "                        ?s a schema:Protein\n",
      "                    }\n",
      "                    ?g3 void:inDataset <https://mobidb.org/#2020-09>\n",
      "                    }\n",
      "                }\n",
      "            }\n",
      "        }\n",
      "        BIND(\"PED \\\\ (DisProt U MobiDB)\" AS ?d)\n",
      "    }\n",
      "    UNION\n",
      "    {\n",
      "        {\n",
      "            SELECT (COUNT(DISTINCT ?s) AS ?c)\n",
      "            WHERE {\n",
      "                {\n",
      "                    GRAPH ?g2 {\n",
      "                        ?s a schema:Protein\n",
      "                    }\n",
      "                    ?g2 void:inDataset \"https://disprot.org/#2020-12\"\n",
      "                } UNION {\n",
      "                    GRAPH ?g3 {\n",
      "                        ?s a schema:Protein\n",
      "                    }\n",
      "                    ?g3 void:inDataset <https://mobidb.org/#2020-09>\n",
      "                }\n",
      "            }\n",
      "        }\n",
      "        BIND(\"(DisProt U MobiDB)\" AS ?d)\n",
      "    }\n",
      "    UNION\n",
      "    {\n",
      "        {\n",
      "            SELECT (COUNT(DISTINCT ?s) AS ?c)\n",
      "            WHERE {\n",
      "                {\n",
      "                    GRAPH ?g2 {\n",
      "                        ?s a schema:Protein\n",
      "                    }\n",
      "                    ?g2 void:inDataset \"https://disprot.org/#2020-12\"\n",
      "                } UNION {\n",
      "                    GRAPH ?g3 {\n",
      "                        ?s a schema:Protein\n",
      "                    }\n",
      "                    ?g3 void:inDataset \"https://proteinensemble.org/#2021-02-12\"\n",
      "                }\n",
      "            }\n",
      "        }\n",
      "        BIND(\"(DisProt U PED)\" AS ?d)\n",
      "    }\n",
      "    UNION\n",
      "    {\n",
      "        {\n",
      "            SELECT (COUNT(DISTINCT ?s) AS ?c)\n",
      "            WHERE {\n",
      "                {\n",
      "                    GRAPH ?g2 {\n",
      "                        ?s a schema:Protein\n",
      "                    }\n",
      "                    ?g2 void:inDataset <https://mobidb.org/#2020-09>\n",
      "                } UNION {\n",
      "                    GRAPH ?g3 {\n",
      "                        ?s a schema:Protein\n",
      "                    }\n",
      "                    ?g3 void:inDataset \"https://proteinensemble.org/#2021-02-12\"\n",
      "                }\n",
      "            }\n",
      "        }\n",
      "        BIND(\"(MobiDB U PED)\" AS ?d)\n",
      "    }\n",
      "    UNION\n",
      "    {\n",
      "        {\n",
      "            SELECT (COUNT(DISTINCT ?s) AS ?c)\n",
      "            WHERE {\n",
      "                GRAPH ?g1 {\n",
      "                    ?s a schema:Protein\n",
      "                }\n",
      "                ?g1 void:inDataset \"https://disprot.org/#2020-12\"\n",
      "                GRAPH ?g2 {\n",
      "                    ?s a schema:Protein\n",
      "                }\n",
      "                ?g2 void:inDataset <https://mobidb.org/#2020-09>\n",
      "            }\n",
      "        }\n",
      "        BIND(\"DisProt n MobiDB\" AS ?d)\n",
      "    }\n",
      "    UNION\n",
      "    {\n",
      "        {\n",
      "            SELECT (COUNT(DISTINCT ?s) AS ?c)\n",
      "            WHERE {\n",
      "                GRAPH ?g1 {\n",
      "                    ?s a schema:Protein\n",
      "                }\n",
      "                ?g1 void:inDataset \"https://disprot.org/#2020-12\"\n",
      "                GRAPH ?g2 {\n",
      "                    ?s a schema:Protein\n",
      "                }\n",
      "                ?g2 void:inDataset \"https://proteinensemble.org/#2021-02-12\"\n",
      "            }\n",
      "        }\n",
      "        BIND(\"DisProt n PED\" AS ?d)\n",
      "    }\n",
      "    UNION\n",
      "    {\n",
      "        {\n",
      "            SELECT (COUNT(DISTINCT ?s) AS ?c)\n",
      "            WHERE {\n",
      "                GRAPH ?g1 {\n",
      "                    ?s a schema:Protein\n",
      "                }\n",
      "                ?g1 void:inDataset <https://mobidb.org/#2020-09>\n",
      "                GRAPH ?g2 {\n",
      "                    ?s a schema:Protein\n",
      "                }\n",
      "                ?g2 void:inDataset \"https://proteinensemble.org/#2021-02-12\"\n",
      "            }\n",
      "        }\n",
      "        BIND(\"MobiDB n PED\" AS ?d)\n",
      "    }\n",
      "    UNION\n",
      "    {\n",
      "        {\n",
      "            SELECT (COUNT(DISTINCT ?s) AS ?c)\n",
      "            WHERE {\n",
      "                GRAPH ?g1 {\n",
      "                    ?s a schema:Protein\n",
      "                }\n",
      "                ?g1 void:inDataset \"https://disprot.org/#2020-12\"\n",
      "                GRAPH ?g2 {\n",
      "                    ?s a schema:Protein\n",
      "                }\n",
      "                ?g2 void:inDataset <https://mobidb.org/#2020-09>\n",
      "                FILTER NOT EXISTS {\n",
      "                    GRAPH ?g3 {\n",
      "                        ?s a schema:Protein\n",
      "                    }\n",
      "                    ?g3 void:inDataset \"https://proteinensemble.org/#2021-02-12\"\n",
      "                }\n",
      "            }\n",
      "        }\n",
      "        BIND(\"(DisProt n MobiDB) \\\\ PED\" AS ?d)\n",
      "    }\n",
      "    UNION\n",
      "    {\n",
      "        {\n",
      "            SELECT (COUNT(DISTINCT ?s) AS ?c)\n",
      "            WHERE {\n",
      "                GRAPH ?g1 {\n",
      "                    ?s a schema:Protein\n",
      "                }\n",
      "                ?g1 void:inDataset \"https://disprot.org/#2020-12\"\n",
      "                GRAPH ?g2 {\n",
      "                    ?s a schema:Protein\n",
      "                }\n",
      "                ?g2 void:inDataset \"https://proteinensemble.org/#2021-02-12\"\n",
      "                FILTER NOT EXISTS {\n",
      "                    GRAPH ?g3 {\n",
      "                        ?s a schema:Protein\n",
      "                    }\n",
      "                    ?g3 void:inDataset <https://mobidb.org/#2020-09>\n",
      "                }\n",
      "            }\n",
      "        }\n",
      "        BIND(\"(DisProt n PED) \\\\ MobiDB\" AS ?d)\n",
      "    }\n",
      "    UNION\n",
      "    {\n",
      "        {\n",
      "            SELECT (COUNT(DISTINCT ?s) AS ?c)\n",
      "            WHERE {\n",
      "                GRAPH ?g1 {\n",
      "                    ?s a schema:Protein\n",
      "                }\n",
      "                ?g1 void:inDataset <https://mobidb.org/#2020-09>\n",
      "                GRAPH ?g2 {\n",
      "                    ?s a schema:Protein\n",
      "                }\n",
      "                ?g2 void:inDataset \"https://proteinensemble.org/#2021-02-12\"\n",
      "                FILTER NOT EXISTS {\n",
      "                    GRAPH ?g3 {\n",
      "                        ?s a schema:Protein\n",
      "                    }\n",
      "                    ?g3 void:inDataset \"https://disprot.org/#2020-12\"\n",
      "                }\n",
      "            }\n",
      "        }\n",
      "        BIND(\"(MobiDB n PED)\\\\DisProt\" AS ?d)\n",
      "    }\n",
      "    UNION\n",
      "    {\n",
      "        {\n",
      "            SELECT (COUNT(DISTINCT ?s) AS ?c)\n",
      "            WHERE {\n",
      "                GRAPH ?g1 {\n",
      "                    ?s a schema:Protein\n",
      "                }\n",
      "                ?g1 void:inDataset \"https://disprot.org/#2020-12\"\n",
      "                GRAPH ?g2 {\n",
      "                    ?s a schema:Protein\n",
      "                }\n",
      "                ?g2 void:inDataset <https://mobidb.org/#2020-09>\n",
      "                GRAPH ?g3 {\n",
      "                    ?s a schema:Protein\n",
      "                }\n",
      "                ?g3 void:inDataset \"https://proteinensemble.org/#2021-02-12\"\n",
      "            }\n",
      "        }\n",
      "        BIND(\"DisProt n MobiDB n PED\" AS ?d)\n",
      "    }\n",
      "    BIND (?c AS ?count)\n",
      "    BIND (?d AS ?description)\n",
      "}\n",
      "\n"
     ]
    },
    {
     "data": {
      "text/html": [
       "<p>Number of results: 17</p><table><tr style=\"color:white;background-color:#43BFC7;font-weight:bold\"><td>description</td><td>count</td></tr><tr><td>73</td><td>Distinct Proteins (Union)</td></tr><tr><td>26</td><td>DisProt Proteins</td></tr><tr><td>28</td><td>MobiDB Proteins</td></tr><tr><td>20</td><td>PED Proteins</td></tr><tr><td>25</td><td>DisProt \\ (MobiDB U PED)</td></tr><tr><td>27</td><td>MobiDB \\ (DisProt U PED)</td></tr><tr><td>20</td><td>PED \\ (DisProt U MobiDB)</td></tr><tr><td>53</td><td>(DisProt U MobiDB)</td></tr><tr><td>46</td><td>(DisProt U PED)</td></tr><tr><td>48</td><td>(MobiDB U PED)</td></tr><tr><td>1</td><td>DisProt n MobiDB</td></tr><tr><td>0</td><td>DisProt n PED</td></tr><tr><td>0</td><td>MobiDB n PED</td></tr><tr><td>1</td><td>(DisProt n MobiDB) \\ PED</td></tr><tr><td>0</td><td>(DisProt n PED) \\ MobiDB</td></tr><tr><td>0</td><td>(MobiDB n PED)\\DisProt</td></tr><tr><td>0</td><td>DisProt n MobiDB n PED</td></tr></table>"
      ],
      "text/plain": [
       "<IPython.core.display.HTML object>"
      ]
     },
     "metadata": {},
     "output_type": "display_data"
    }
   ],
   "source": [
    "logging.info(' Venn Analysis of Proteins by Dataset - Query Started.')\n",
    "runQuery('proteins/proteins-by-dataset-groupings.rq')\n",
    "logging.info('Query Completed.')"
   ]
  },
  {
   "cell_type": "markdown",
   "metadata": {},
   "source": [
    "### Proteins from Multiple Pages\n",
    "\n",
    "A protein comes from multiple pages (sources) if the triple is found in multiple named graphs. The number of named graphs containing the triple indicates the number of sources containing the triple.\n",
    "\n",
    "_Note that a protein can come from multiple pages within the same dataset._"
   ]
  },
  {
   "cell_type": "code",
   "execution_count": null,
   "metadata": {},
   "outputs": [],
   "source": [
    "logging.info(' Proteins Sources & Number of sources - Query Started.')\n",
    "displayResults(query_idpkg(\"\"\"\n",
    "PREFIX schema: <https://schema.org/>\n",
    "PREFIX pav: <http://purl.org/pav/>\n",
    "SELECT ?protein (COUNT(?g) as ?numSources) (GROUP_CONCAT(?source;SEPARATOR=\", \") AS ?sources)\n",
    "WHERE {\n",
    "    GRAPH ?g {\n",
    "        ?protein a schema:Protein .\n",
    "    }\n",
    "    ?g pav:retrievedFrom ?source .\n",
    "}\n",
    "GROUP BY ?protein\n",
    "HAVING (COUNT(*) > 1)\n",
    "ORDER BY ?numSources\n",
    "\"\"\", opt))\n",
    "logging.info('Query Completed.')"
   ]
  },
  {
   "cell_type": "markdown",
   "metadata": {},
   "source": [
    "### Minimal Protein Information\n",
    "\n",
    "Retreive a minimal amount of information about the proteins."
   ]
  },
  {
   "cell_type": "code",
   "execution_count": null,
   "metadata": {},
   "outputs": [],
   "source": [
    "logging.info(' Query Started.')\n",
    "displayResults(query_idpkg(\"\"\"\n",
    "PREFIX schema: <https://schema.org/>\n",
    "PREFIX pav: <http://purl.org/pav/>\n",
    "PREFIX void: <http://rdfs.org/ns/void#>\n",
    "\n",
    "SELECT  ?s ?name ?description\n",
    "    (GROUP_CONCAT(DISTINCT ?identifier;SEPARATOR=',<br/>') AS ?identifiers)\n",
    "    ?associatedDisease\n",
    "    ?encodedBy\n",
    "    ?taxonomicRange\n",
    "    (GROUP_CONCAT(DISTINCT ?sameAs;SEPARATOR=',<br/>') AS ?sameAs)\n",
    "    (GROUP_CONCAT(DISTINCT ?source;SEPARATOR=',<br/>') AS ?sources)\n",
    "    (GROUP_CONCAT(DISTINCT ?dataset;SEPARATOR=',<br/>') AS ?datasets)\n",
    "WHERE {\n",
    "    GRAPH ?g {\n",
    "# Bioschemas Minimal Properties\n",
    "        ?s a schema:Protein .\n",
    "        OPTIONAL {?s schema:identifier ?identifier }\n",
    "        OPTIONAL {?s schema:name ?name }\n",
    "## Bioschemas Recommended properties\n",
    "        OPTIONAL {?s schema:associatedDisease ?associatedDisease}\n",
    "        OPTIONAL {?s schema:description ?description}\n",
    "        OPTIONAL {?s schema:isEncodedByBioChemEntity ?encodedBy}\n",
    "        OPTIONAL {?s schema:taxonomicRange ?taxonomicRange }\n",
    "        OPTIONAL {?s schema:url ?url}\n",
    "        OPTIONAL {?s schema:sameAs ?sameAs }\n",
    "    }\n",
    "    ?g pav:retrievedFrom ?source\n",
    "    OPTIONAL {?g void:inDataset ?dataset}\n",
    "}\n",
    "GROUP BY ?s\n",
    "\"\"\", opt))\n",
    "logging.info(' Query Completed.')"
   ]
  },
  {
   "cell_type": "markdown",
   "metadata": {},
   "source": [
    "### Full Protein Information\n",
    "\n",
    "Retrieve basic information about the proteins in the knowledge graph."
   ]
  },
  {
   "cell_type": "code",
   "execution_count": null,
   "metadata": {},
   "outputs": [],
   "source": [
    "logging.info(' Full Protein Information - Query Started.')\n",
    "displayResults(query_idpkg(\"\"\"\n",
    "PREFIX schema: <https://schema.org/>\n",
    "PREFIX pav: <http://purl.org/pav/>\n",
    "PREFIX void: <http://rdfs.org/ns/void#>\n",
    "\n",
    "SELECT  ?s ?name ?description\n",
    "    (GROUP_CONCAT(DISTINCT ?identifier;SEPARATOR=',<br/>') AS ?identifiers)\n",
    "    ?associatedDisease\n",
    "    (GROUP_CONCAT(DISTINCT ?annotation;SEPARATOR=',<br/>') AS ?annotations)\n",
    "    ?encodedBy\n",
    "    ?taxonomicRange\n",
    "    ?url\n",
    "    ?alternateName\n",
    "    ?bioChemInteraction\n",
    "    ?bioChemSimilarity\n",
    "    ?bioChemEntity\n",
    "    (GROUP_CONCAT(DISTINCT ?sequence;SEPARATOR=',<br/>') AS ?sequences)\n",
    "    ?molFunction\n",
    "    ?representation\n",
    "    ?image\n",
    "    ?process\n",
    "    ?cellularLocation\n",
    "    ?parentEntity\n",
    "    (GROUP_CONCAT(DISTINCT ?sameAs;SEPARATOR=',<br/>') AS ?sameAs)\n",
    "    (GROUP_CONCAT(DISTINCT ?source;SEPARATOR=',<br/>') AS ?sources)\n",
    "    (GROUP_CONCAT(DISTINCT ?dataset;SEPARATOR=',<br/>') AS ?datasets)\n",
    "WHERE {\n",
    "    GRAPH ?g {\n",
    "# Bioschemas Minimal Properties\n",
    "        ?s a schema:Protein .\n",
    "        OPTIONAL {?s schema:identifier ?identifier }\n",
    "        OPTIONAL {?s schema:name ?name }\n",
    "## Bioschemas Recommended properties\n",
    "        OPTIONAL {?s schema:associatedDisease ?associatedDisease}\n",
    "        OPTIONAL {?s schema:description ?description}\n",
    "        #OPTIONAL \n",
    "        {?s schema:hasSequenceAnnotation ?annotation }\n",
    "        OPTIONAL {?s schema:isEncodedByBioChemEntity ?encodedBy}\n",
    "        OPTIONAL {?s schema:taxonomicRange ?taxonomicRange }\n",
    "        OPTIONAL {?s schema:url ?url}\n",
    "## Bioschemas Optional properties\n",
    "        OPTIONAL {?s schema:alternateName ?alternateName}\n",
    "        OPTIONAL {?s schema:bioChemInteraction ?bioChemInteraction}\n",
    "        OPTIONAL {?s schema:bioChemSimilarity ?bioChemSimilarity}\n",
    "        OPTIONAL {?s schema:hasBioChemEntityPart ?bioChemEntity}\n",
    "        OPTIONAL {?s schema:hasBioPolymerSequence ?sequence}\n",
    "        OPTIONAL {?s schema:hasMolecularFunction ?molFunction}\n",
    "        OPTIONAL {?s schema:hasRepresentation ?representation }\n",
    "        OPTIONAL {?s schema:image ?image}\n",
    "        OPTIONAL {?s schema:isInvolvedInBiologicalProcess ?process}\n",
    "        OPTIONAL {?s schema:isLocatedInSubcellularLocation ?cellularLocation}\n",
    "        OPTIONAL {?s schema:isPartOfBioChemEntity ?parentEntity}\n",
    "        OPTIONAL {?s schema:sameAs ?sameAs }\n",
    "    }\n",
    "    ?g pav:retrievedFrom ?source ;\n",
    "    OPTIONAL {?g void:inDataset ?dataset}\n",
    "}\n",
    "GROUP BY ?s\n",
    "\"\"\", opt))\n",
    "logging.info('Query Completed.')"
   ]
  },
  {
   "cell_type": "markdown",
   "metadata": {},
   "source": [
    "## Analysis of Sequence Annotations"
   ]
  },
  {
   "cell_type": "markdown",
   "metadata": {},
   "source": [
    "### Sequence Annotations per Dataset\n",
    "\n",
    "Display the number of sequence annotations per dataset."
   ]
  },
  {
   "cell_type": "code",
   "execution_count": null,
   "metadata": {},
   "outputs": [],
   "source": [
    "logging.info('Sequence Annotations per Dataset - Query Started.')\n",
    "displayResults(query_idpkg(\"\"\"\n",
    "PREFIX schema: <https://schema.org/>\n",
    "PREFIX pav: <http://purl.org/pav/>\n",
    "PREFIX void: <http://rdfs.org/ns/void#>\n",
    "\n",
    "SELECT ?dataset (COUNT(DISTINCT ?s) AS ?annotations) \n",
    "WHERE {\n",
    "    GRAPH ?g {\n",
    "        ?s a schema:SequenceAnnotation\n",
    "    }\n",
    "    ?g void:inDataset ?dataset\n",
    "} \n",
    "GROUP BY ?dataset\n",
    "\"\"\", opt))\n",
    "logging.info('Query Completed.')"
   ]
  },
  {
   "cell_type": "markdown",
   "metadata": {},
   "source": [
    "### Sequence Annotations from Multiple Datasets\n",
    "\n",
    "Display the number of sequence annotations that come from multiple datasets.\n",
    "\n",
    "_Note that sequence annotations are not merged based on any feature so we would not expect any sequence annotations to match the criteria in this query._"
   ]
  },
  {
   "cell_type": "code",
   "execution_count": null,
   "metadata": {},
   "outputs": [],
   "source": [
    "logging.info(' Sequence Annotations from Multiple Datasets - Query Started.')\n",
    "displayResults(query_idpkg(\"\"\"\n",
    "PREFIX schema: <https://schema.org/>\n",
    "PREFIX pav: <http://purl.org/pav/>\n",
    "PREFIX void: <http://rdfs.org/ns/void#>\n",
    "\n",
    "SELECT ?annotation (COUNT(?g) as ?numDatasets) (GROUP_CONCAT(?dataset;SEPARATOR=\", \") AS ?datasets)\n",
    "WHERE {\n",
    "    GRAPH ?g {\n",
    "        ?annotation a schema:SequenceAnnotation .\n",
    "    }\n",
    "    ?g void:inDataset ?dataset .\n",
    "}\n",
    "GROUP BY ?annotation\n",
    "HAVING (COUNT(*) > 1)\n",
    "ORDER BY ?numDatasets\n",
    "\"\"\", opt))\n",
    "logging.info('Query Completed.')"
   ]
  },
  {
   "cell_type": "markdown",
   "metadata": {},
   "source": [
    "### Sequence Annotations from Multiple Pages\n",
    "\n",
    "Dislay the number of sequence annotations that come from multiple pages. It is conceivable that the same annotation comes from different pages in the same source, e.g. PED. However, as annotations are not combined, we would not expect any answers to the following query."
   ]
  },
  {
   "cell_type": "code",
   "execution_count": null,
   "metadata": {},
   "outputs": [],
   "source": [
    "logging.info(' Sequence Annotations from Multiple Pages - Query Started.')\n",
    "displayResults(query_idpkg(\"\"\"\n",
    "PREFIX schema: <https://schema.org/>\n",
    "PREFIX pav: <http://purl.org/pav/>\n",
    "SELECT ?annotation (COUNT(?g) as ?numSources) (GROUP_CONCAT(?source;SEPARATOR=\", \") AS ?sources)\n",
    "WHERE {\n",
    "    GRAPH ?g {\n",
    "        ?annotation a schema:SequenceAnnotation .\n",
    "    }\n",
    "    ?g pav:retrievedFrom ?source .\n",
    "}\n",
    "GROUP BY ?annotation\n",
    "HAVING (COUNT(*) > 1)\n",
    "ORDER BY ?numSources\n",
    "\"\"\", opt))\n",
    "logging.info('Query Completed.')"
   ]
  },
  {
   "cell_type": "markdown",
   "metadata": {},
   "source": [
    "### Sequence Annotation Information\n",
    "\n",
    "Return information known about each sequence annotation."
   ]
  },
  {
   "cell_type": "code",
   "execution_count": null,
   "metadata": {},
   "outputs": [],
   "source": [
    "logging.info(' Sequence Annotation Information - Query Started.')\n",
    "displayResults(query_idpkg(\"\"\"\n",
    "PREFIX schema: <https://schema.org/>\n",
    "\n",
    "SELECT ?s ?annotation ?start ?end ?termCode ?termName ?pubmedID\n",
    "WHERE {\n",
    "    graph ?g {\n",
    "        ?s a schema:Protein;\n",
    "           schema:hasSequenceAnnotation ?annotation .\n",
    "        ?annotation schema:additionalProperty/schema:value ?term;\n",
    "            schema:sequenceLocation ?range .\n",
    "        ?range schema:rangeStart ?start ;\n",
    "               schema:rangeEnd ?end .\n",
    "        ?term schema:termCode ?termCode ;\n",
    "            schema:name ?termName .\n",
    "        OPTIONAL { ?annotation schema:subjectOf ?pubmedID }\n",
    "    }\n",
    "}    \n",
    "ORDER BY ?s ?start ?end\n",
    "\n",
    "\"\"\", opt))\n",
    "logging.info('Query Completed.')"
   ]
  },
  {
   "cell_type": "markdown",
   "metadata": {},
   "source": [
    "### Details of Scholarly Articles with respect to Annotations"
   ]
  },
  {
   "cell_type": "markdown",
   "metadata": {},
   "source": [
    "Number of articles per annotation."
   ]
  },
  {
   "cell_type": "code",
   "execution_count": null,
   "metadata": {},
   "outputs": [],
   "source": [
    "logging.info(' Details of Scholarly Articles with respect to Annotations - Query Started.')\n",
    "displayResults(query_idpkg(\"\"\"\n",
    "PREFIX schema: <https://schema.org/>\n",
    "PREFIX void: <http://rdfs.org/ns/void#>\n",
    "\n",
    "SELECT ?annotation (COUNT (?pubmedID) AS ?numArticles)\n",
    "WHERE {\n",
    "    graph ?g {\n",
    "        ?annotation a schema:SequenceAnnotation;\n",
    "            schema:subjectOf ?pubmedID\n",
    "    }\n",
    "}    \n",
    "GROUP BY ?annotation\n",
    "ORDER BY DESC(?numArticles)\n",
    "\"\"\", opt))\n",
    "logging.info('Query Completed.')"
   ]
  },
  {
   "cell_type": "markdown",
   "metadata": {},
   "source": [
    "Number of annotations per article."
   ]
  },
  {
   "cell_type": "code",
   "execution_count": null,
   "metadata": {},
   "outputs": [],
   "source": [
    "logging.info(' Number of annotations per article - Query Started.')\n",
    "displayResults(query_idpkg(\"\"\"\n",
    "PREFIX schema: <https://schema.org/>\n",
    "PREFIX void: <http://rdfs.org/ns/void#>\n",
    "\n",
    "SELECT ?pubmedID (COUNT (?pubmedID) AS ?numAnnotations)\n",
    "WHERE {\n",
    "    graph ?g {\n",
    "        ?annotation a schema:SequenceAnnotation;\n",
    "            schema:subjectOf ?pubmedID\n",
    "    }\n",
    "}    \n",
    "GROUP BY ?pubmedID\n",
    "ORDER BY DESC(?numAnnotations)\n",
    "\"\"\", opt))\n",
    "logging.info('Query Completed.')"
   ]
  },
  {
   "cell_type": "markdown",
   "metadata": {},
   "source": [
    "### Number of annotations by term code\n",
    "\n",
    "For each term code, return the number of annotations using that code."
   ]
  },
  {
   "cell_type": "code",
   "execution_count": null,
   "metadata": {},
   "outputs": [],
   "source": [
    "logging.info(' Number of annotations by term code - Query Started.')\n",
    "displayResults(query_idpkg(\"\"\"\n",
    "PREFIX schema: <https://schema.org/>\n",
    "PREFIX void: <http://rdfs.org/ns/void#>\n",
    "\n",
    "SELECT ?termCode ?termName (COUNT (?annotation) AS ?numAnnotations)\n",
    "WHERE {\n",
    "    graph ?g {\n",
    "        ?annotation schema:additionalProperty/schema:value ?term .\n",
    "        ?term schema:termCode ?termCode ;\n",
    "            schema:name ?termName .\n",
    "    }\n",
    "}    \n",
    "GROUP BY ?termCode ?termName\n",
    "ORDER BY DESC(?numAnnotations)\n",
    "\"\"\", opt))\n",
    "logging.info('Query Completed.')"
   ]
  },
  {
   "cell_type": "markdown",
   "metadata": {},
   "source": [
    "## Find proteins with annotations in multiple datasets\n",
    "\n",
    "We are looking for annotations where the protein is common but the annotation is different across the datasets."
   ]
  },
  {
   "cell_type": "markdown",
   "metadata": {},
   "source": [
    "### Proteins with Annotations in Multiple Datasets"
   ]
  },
  {
   "cell_type": "code",
   "execution_count": null,
   "metadata": {},
   "outputs": [],
   "source": [
    "logging.info(' Proteins with Annotations in Multiple Datasets - Query Started.')\n",
    "displayResults(query_idpkg(\"\"\"\n",
    "PREFIX pav: <http://purl.org/pav/>\n",
    "PREFIX schema: <https://schema.org/>\n",
    "PREFIX void: <http://rdfs.org/ns/void#>\n",
    "\n",
    "SELECT ?protein (SAMPLE(?proteinName) AS ?name) (COUNT(distinct ?annotation) AS ?annotationCount) (COUNT(distinct ?dataset) AS ?datasets)\n",
    "WHERE {\n",
    "    {\n",
    "        SELECT DISTINCT ?protein ?proteinName\n",
    "        WHERE {\n",
    "\t\t    GRAPH ?g {\n",
    "        \t\t?protein a schema:Protein .\n",
    "\t\t        OPTIONAL {?protein schema:name ?proteinName .}\n",
    "\t\t    }\n",
    "        }\n",
    "    }\n",
    "    {\n",
    "\t    SELECT ?annotation ?dataset ?protein\n",
    "    \tWHERE {\n",
    "        \tGRAPH ?g {\n",
    "            \t?protein schema:hasSequenceAnnotation ?annotation\n",
    "\t        }\n",
    "    \t    ?g void:inDataset ?dataset .\n",
    "\t    }\n",
    "    }\n",
    "} \n",
    "GROUP BY ?protein\n",
    "HAVING (COUNT(distinct ?dataset) > 1)\n",
    "ORDER BY DESC(?annotationCount)\n",
    "\"\"\", opt))\n",
    "logging.info('Query Completed.')"
   ]
  },
  {
   "cell_type": "markdown",
   "metadata": {},
   "source": [
    "### Proteins with Annotations in Multiple Pages\n",
    "\n",
    "As sources such as PED can have the same protein detailed on multiple pages, it is also interesting to look at this at the page level."
   ]
  },
  {
   "cell_type": "markdown",
   "metadata": {},
   "source": [
    "The following query finds for each protein, its name (if known), a count of the number of sequence annotations, and a count of the number of sources from which the data has been extracted. Results are only returned if there are annotations from more than one source."
   ]
  },
  {
   "cell_type": "code",
   "execution_count": null,
   "metadata": {},
   "outputs": [],
   "source": [
    "logging.info(' Proteins with Annotations in Multiple Pages - Query Started.')\n",
    "displayResults(query_idpkg(\"\"\"\n",
    "PREFIX pav: <http://purl.org/pav/>\n",
    "PREFIX schema: <https://schema.org/>\n",
    "SELECT ?protein (SAMPLE(?proteinName) AS ?name) (COUNT(distinct ?annotation) AS ?annotationCount) (COUNT(distinct ?source) AS ?sourceCount)\n",
    "WHERE {\n",
    "    {\n",
    "        SELECT DISTINCT ?protein ?proteinName\n",
    "        WHERE {\n",
    "\t\t    GRAPH ?g {\n",
    "        \t\t?protein a schema:Protein .\n",
    "\t\t        OPTIONAL {?protein schema:name ?proteinName .}\n",
    "\t\t    }\n",
    "        }\n",
    "    }\n",
    "    {\n",
    "\t    SELECT ?annotation ?source ?protein\n",
    "    \tWHERE {\n",
    "        \tGRAPH ?g {\n",
    "            \t?protein schema:hasSequenceAnnotation ?annotation\n",
    "\t        }\n",
    "    \t    ?g pav:retrievedFrom ?source .\n",
    "\t    }\n",
    "    }\n",
    "} \n",
    "GROUP BY ?protein\n",
    "HAVING (COUNT(distinct ?source) > 1)\n",
    "ORDER BY DESC(?annotationCount)\n",
    "\"\"\", opt))\n",
    "logging.info('Query Completed.')"
   ]
  },
  {
   "cell_type": "markdown",
   "metadata": {},
   "source": [
    "The following varient of the query will list the annotations and the source from which the annotation has come."
   ]
  },
  {
   "cell_type": "code",
   "execution_count": 358,
   "metadata": {},
   "outputs": [
    {
     "data": {
      "text/html": [
       "<p>Number of results: 32</p><table><tr style=\"color:white;background-color:#43BFC7;font-weight:bold\"><td>protein</td><td>proteinName</td><td>annotation</td><td>source</td></tr><tr><td>https://idpcentral.org/id/P03045</td><td>Antitermination protein N</td><td>https://disprot.org/DP00005r001</td><td>https://disprot.org/DP00005</td></tr><tr><td>https://idpcentral.org/id/P03045</td><td>Antitermination protein N</td><td>https://disprot.org/DP00005r004</td><td>https://disprot.org/DP00005</td></tr><tr><td>https://idpcentral.org/id/P03045</td><td>Antitermination protein N</td><td>https://disprot.org/DP00005r005</td><td>https://disprot.org/DP00005</td></tr><tr><td>https://idpcentral.org/id/P03045</td><td>Antitermination protein N</td><td>https://disprot.org/DP00005r006</td><td>https://disprot.org/DP00005</td></tr><tr><td>https://idpcentral.org/id/P03045</td><td>Antitermination protein N</td><td>https://disprot.org/DP00005r007</td><td>https://disprot.org/DP00005</td></tr><tr><td>https://idpcentral.org/id/P03045</td><td>Antitermination protein N</td><td>https://disprot.org/DP00005r008</td><td>https://disprot.org/DP00005</td></tr><tr><td>https://idpcentral.org/id/P03045</td><td>Antitermination protein N</td><td>https://disprot.org/DP00005r009</td><td>https://disprot.org/DP00005</td></tr><tr><td>https://idpcentral.org/id/P03045</td><td>Antitermination protein N</td><td>https://disprot.org/DP00005r010</td><td>https://disprot.org/DP00005</td></tr><tr><td>https://idpcentral.org/id/P03045</td><td>Antitermination protein N</td><td>https://disprot.org/DP00005r011</td><td>https://disprot.org/DP00005</td></tr><tr><td>https://idpcentral.org/id/P03045</td><td>Antitermination protein N</td><td>https://disprot.org/DP00005r012</td><td>https://disprot.org/DP00005</td></tr><tr><td>https://idpcentral.org/id/P03045</td><td>Antitermination protein N</td><td>https://disprot.org/DP00005r013</td><td>https://disprot.org/DP00005</td></tr><tr><td>https://idpcentral.org/id/P03045</td><td>Antitermination protein N</td><td>https://disprot.org/DP00005r014</td><td>https://disprot.org/DP00005</td></tr><tr><td>https://idpcentral.org/id/P03045</td><td>Antitermination protein N</td><td>https://disprot.org/DP00005r015</td><td>https://disprot.org/DP00005</td></tr><tr><td>https://idpcentral.org/id/P03045</td><td>Antitermination protein N</td><td>https://disprot.org/DP00005r016</td><td>https://disprot.org/DP00005</td></tr><tr><td>https://idpcentral.org/id/P03045</td><td>Antitermination protein N</td><td>https://disprot.org/DP00005r017</td><td>https://disprot.org/DP00005</td></tr><tr><td>https://idpcentral.org/id/P03045</td><td>Antitermination protein N</td><td>https://disprot.org/DP00005r018</td><td>https://disprot.org/DP00005</td></tr><tr><td>https://idpcentral.org/id/P03255</td><td>Retinoblastoma-associated protein</td><td>https://proteinensemble.org/PED00174#P03255_B_1_36_146</td><td>https://proteinensemble.org/PED00174</td></tr><tr><td>https://idpcentral.org/id/P03255</td><td>Retinoblastoma-associated protein</td><td>https://proteinensemble.org/PED00174#P06400_A_0_372_581</td><td>https://proteinensemble.org/PED00174</td></tr><tr><td>https://idpcentral.org/id/P03255</td><td>Retinoblastoma-associated protein</td><td>https://proteinensemble.org/PED00174#P06400_A_1_643_787</td><td>https://proteinensemble.org/PED00174</td></tr><tr><td>https://idpcentral.org/id/P03265</td><td>DNA-binding protein</td><td>https://disprot.org/DP00003r002</td><td>https://disprot.org/DP00003</td></tr><tr><td>https://idpcentral.org/id/P03265</td><td>DNA-binding protein</td><td>https://disprot.org/DP00003r004</td><td>https://disprot.org/DP00003</td></tr><tr><td>https://idpcentral.org/id/P03265</td><td>DNA-binding protein</td><td>https://mobidb.org/P03265#prediction-disorder-mobidb_lite.125_166</td><td>https://mobidb.org/P03265</td></tr><tr><td>https://idpcentral.org/id/P03265</td><td>DNA-binding protein</td><td>https://mobidb.org/P03265#prediction-disorder-mobidb_lite.1_108</td><td>https://mobidb.org/P03265</td></tr><tr><td>https://idpcentral.org/id/P06400</td><td>Retinoblastoma-associated protein</td><td>https://proteinensemble.org/PED00174#P03255_B_1_36_146</td><td>https://proteinensemble.org/PED00174</td></tr><tr><td>https://idpcentral.org/id/P06400</td><td>Retinoblastoma-associated protein</td><td>https://proteinensemble.org/PED00174#P06400_A_0_372_581</td><td>https://proteinensemble.org/PED00174</td></tr><tr><td>https://idpcentral.org/id/P06400</td><td>Retinoblastoma-associated protein</td><td>https://proteinensemble.org/PED00174#P06400_A_1_643_787</td><td>https://proteinensemble.org/PED00174</td></tr><tr><td>https://idpcentral.org/id/P38634</td><td>Protein SIC1</td><td>https://proteinensemble.org/PED00001#P38634_A_1_1_90</td><td>https://proteinensemble.org/PED00001</td></tr><tr><td>https://idpcentral.org/id/P49913</td><td>Cathelicidin antimicrobial peptide</td><td>https://disprot.org/DP00004r001</td><td>https://disprot.org/DP00004</td></tr><tr><td>https://idpcentral.org/id/P49913</td><td>Cathelicidin antimicrobial peptide</td><td>https://disprot.org/DP00004r002</td><td>https://disprot.org/DP00004</td></tr><tr><td>https://idpcentral.org/id/P49913</td><td>Cathelicidin antimicrobial peptide</td><td>https://disprot.org/DP00004r004</td><td>https://disprot.org/DP00004</td></tr><tr><td>https://idpcentral.org/id/P52292</td><td>Importin subunit alpha-1</td><td>https://proteinensemble.org/PED00148#P52292_A_0_3_97</td><td>https://proteinensemble.org/PED00148</td></tr><tr><td>https://idpcentral.org/id/Q12959</td><td>Disks large homolog 1</td><td>https://mobidb.org/Q12959#prediction-disorder-mobidb_lite.662_696</td><td>https://mobidb.org/Q12959</td></tr></table>"
      ],
      "text/plain": [
       "<IPython.core.display.HTML object>"
      ]
     },
     "metadata": {},
     "output_type": "display_data"
    }
   ],
   "source": [
    "logging.info(' list the annotations - Query Started.')\n",
    "displayResults(query_idpkg(\"\"\"\n",
    "PREFIX pav: <http://purl.org/pav/>\n",
    "PREFIX schema: <https://schema.org/>\n",
    "SELECT ?protein ?proteinName ?annotation ?source\n",
    "WHERE {\n",
    "    {\n",
    "        SELECT DISTINCT ?protein ?proteinName\n",
    "        WHERE {\n",
    "\t\t    GRAPH ?g {\n",
    "        \t\t?protein a schema:Protein .\n",
    "\t\t        OPTIONAL {?protein schema:name ?proteinName .}\n",
    "\t\t    }\n",
    "        }\n",
    "    }\n",
    "    {\n",
    "        SELECT ?annotation ?source ?protein\n",
    "        WHERE {\n",
    "            GRAPH ?g {\n",
    "                ?protein schema:hasSequenceAnnotation ?annotation\n",
    "            }\n",
    "            ?g pav:retrievedFrom ?source .\n",
    "        }\n",
    "    }\n",
    "} \n",
    "ORDER BY ?protein ?annotation\n",
    "\"\"\", opt))\n",
    "logging.info('Query Completed.')"
   ]
  },
  {
   "cell_type": "code",
   "execution_count": null,
   "metadata": {},
   "outputs": [],
   "source": []
  }
 ],
 "metadata": {
  "kernelspec": {
   "display_name": "Python 3 (ipykernel)",
   "language": "python",
   "name": "python3"
  },
  "language_info": {
   "codemirror_mode": {
    "name": "ipython",
    "version": 3
   },
   "file_extension": ".py",
   "mimetype": "text/x-python",
   "name": "python",
   "nbconvert_exporter": "python",
   "pygments_lexer": "ipython3",
   "version": "3.9.6"
  },
  "toc-autonumbering": true,
  "toc-showcode": false,
  "toc-showmarkdowntxt": false,
  "toc-showtags": false
 },
 "nbformat": 4,
 "nbformat_minor": 4
}
